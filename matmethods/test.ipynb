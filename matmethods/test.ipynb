{
 "cells": [
  {
   "cell_type": "code",
   "execution_count": 2,
   "metadata": {
    "collapsed": false
   },
   "outputs": [
    {
     "ename": "ImportError",
     "evalue": "No module named 'pybel'",
     "output_type": "error",
     "traceback": [
      "\u001b[1;31m\u001b[0m",
      "\u001b[1;31mImportError\u001b[0mTraceback (most recent call last)",
      "\u001b[1;32m<ipython-input-2-bce5857d9ab2>\u001b[0m in \u001b[0;36m<module>\u001b[1;34m()\u001b[0m\n\u001b[1;32m----> 1\u001b[1;33m \u001b[1;32mimport\u001b[0m \u001b[0mpybel\u001b[0m\u001b[1;33m\u001b[0m\u001b[0m\n\u001b[0m",
      "\u001b[1;31mImportError\u001b[0m: No module named 'pybel'"
     ]
    }
   ],
   "source": [
    "import pybel"
   ]
  },
  {
   "cell_type": "code",
   "execution_count": 4,
   "metadata": {
    "collapsed": false
   },
   "outputs": [
    {
     "ename": "ImportError",
     "evalue": "No module named 'openbabel'",
     "output_type": "error",
     "traceback": [
      "\u001b[1;31m\u001b[0m",
      "\u001b[1;31mImportError\u001b[0mTraceback (most recent call last)",
      "\u001b[1;32m<ipython-input-4-0a534e4f2d72>\u001b[0m in \u001b[0;36m<module>\u001b[1;34m()\u001b[0m\n\u001b[1;32m----> 1\u001b[1;33m \u001b[1;32mimport\u001b[0m \u001b[0mopenbabel\u001b[0m \u001b[1;32mas\u001b[0m \u001b[0mob\u001b[0m\u001b[1;33m\u001b[0m\u001b[0m\n\u001b[0m",
      "\u001b[1;31mImportError\u001b[0m: No module named 'openbabel'"
     ]
    }
   ],
   "source": [
    "import openbabel as ob"
   ]
  },
  {
   "cell_type": "code",
   "execution_count": 5,
   "metadata": {
    "collapsed": false
   },
   "outputs": [
    {
     "name": "stdout",
     "output_type": "stream",
     "text": [
      "Obtaining matmethods-dev from git+https://github.com/hackingmaterials/MatMethods.git@4d26b19c5c28010a34c50cd8b98453d733178577#egg=matmethods_dev\n",
      "  Cloning https://github.com/hackingmaterials/MatMethods.git (to 4d26b19c5c28010a34c50cd8b98453d733178577) to ./src/matmethods-dev\n",
      "\u001b[33m  Could not find a tag or branch '4d26b19c5c28010a34c50cd8b98453d733178577', assuming commit.\u001b[0m\n",
      "\u001b[33m  Running setup.py (path:/home/jovyan/work/src/matmethods-dev/setup.py) egg_info for package matmethods-dev produced metadata for project name matmethods. Fix your #egg=matmethods-dev fragments.\u001b[0m\n",
      "Requirement already satisfied (use --upgrade to upgrade): FireWorks>=1.3.3 in /opt/conda/lib/python3.5/site-packages (from matmethods)\n",
      "Requirement already satisfied (use --upgrade to upgrade): pymatgen>=4.0.0 in /opt/conda/lib/python3.5/site-packages (from matmethods)\n",
      "Requirement already satisfied (use --upgrade to upgrade): custodian>=1.0.1 in /opt/conda/lib/python3.5/site-packages (from matmethods)\n",
      "Requirement already satisfied (use --upgrade to upgrade): pymatgen-db>=0.5.1 in /opt/conda/lib/python3.5/site-packages (from matmethods)\n",
      "Requirement already satisfied (use --upgrade to upgrade): monty>=0.8.4 in /opt/conda/lib/python3.5/site-packages (from matmethods)\n",
      "Requirement already satisfied (use --upgrade to upgrade): tqdm>=4.7.4 in /opt/conda/lib/python3.5/site-packages (from matmethods)\n",
      "Requirement already satisfied (use --upgrade to upgrade): six in /opt/conda/lib/python3.5/site-packages (from matmethods)\n",
      "Requirement already satisfied (use --upgrade to upgrade): python-dateutil>=2.2 in /opt/conda/lib/python3.5/site-packages (from FireWorks>=1.3.3->matmethods)\n",
      "Requirement already satisfied (use --upgrade to upgrade): pymongo>=3.0.2 in /opt/conda/lib/python3.5/site-packages (from FireWorks>=1.3.3->matmethods)\n",
      "Requirement already satisfied (use --upgrade to upgrade): Jinja2>=2.7.3 in /opt/conda/lib/python3.5/site-packages (from FireWorks>=1.3.3->matmethods)\n",
      "Requirement already satisfied (use --upgrade to upgrade): pyyaml>=3.1.0 in /opt/conda/lib/python3.5/site-packages (from FireWorks>=1.3.3->matmethods)\n",
      "Requirement already satisfied (use --upgrade to upgrade): flask-paginate>=0.2.8 in /opt/conda/lib/python3.5/site-packages (from FireWorks>=1.3.3->matmethods)\n",
      "Requirement already satisfied (use --upgrade to upgrade): flask>=0.10.1 in /opt/conda/lib/python3.5/site-packages (from FireWorks>=1.3.3->matmethods)\n",
      "Requirement already satisfied (use --upgrade to upgrade): tabulate>=0.7.5 in /opt/conda/lib/python3.5/site-packages (from FireWorks>=1.3.3->matmethods)\n",
      "Requirement already satisfied (use --upgrade to upgrade): numpy>=1.9 in /opt/conda/lib/python3.5/site-packages (from pymatgen>=4.0.0->matmethods)\n",
      "Requirement already satisfied (use --upgrade to upgrade): spglib in /opt/conda/lib/python3.5/site-packages (from pymatgen>=4.0.0->matmethods)\n",
      "Requirement already satisfied (use --upgrade to upgrade): pybtex in /opt/conda/lib/python3.5/site-packages (from pymatgen>=4.0.0->matmethods)\n",
      "Requirement already satisfied (use --upgrade to upgrade): atomicfile in /opt/conda/lib/python3.5/site-packages (from pymatgen>=4.0.0->matmethods)\n",
      "Requirement already satisfied (use --upgrade to upgrade): enum34 in /opt/conda/lib/python3.5/site-packages (from pymatgen>=4.0.0->matmethods)\n",
      "Requirement already satisfied (use --upgrade to upgrade): requests in /opt/conda/lib/python3.5/site-packages (from pymatgen>=4.0.0->matmethods)\n",
      "Requirement already satisfied (use --upgrade to upgrade): scipy>=0.14 in /opt/conda/lib/python3.5/site-packages (from pymatgen>=4.0.0->matmethods)\n",
      "Requirement already satisfied (use --upgrade to upgrade): django in /opt/conda/lib/python3.5/site-packages (from pymatgen-db>=0.5.1->matmethods)\n",
      "Requirement already satisfied (use --upgrade to upgrade): smoqe in /opt/conda/lib/python3.5/site-packages (from pymatgen-db>=0.5.1->matmethods)\n",
      "Requirement already satisfied (use --upgrade to upgrade): prettytable in /opt/conda/lib/python3.5/site-packages (from pymatgen-db>=0.5.1->matmethods)\n",
      "Requirement already satisfied (use --upgrade to upgrade): mongomock in /opt/conda/lib/python3.5/site-packages (from pymatgen-db>=0.5.1->matmethods)\n",
      "Requirement already satisfied (use --upgrade to upgrade): MarkupSafe in /opt/conda/lib/python3.5/site-packages (from Jinja2>=2.7.3->FireWorks>=1.3.3->matmethods)\n",
      "Requirement already satisfied (use --upgrade to upgrade): itsdangerous>=0.21 in /opt/conda/lib/python3.5/site-packages (from flask>=0.10.1->FireWorks>=1.3.3->matmethods)\n",
      "Requirement already satisfied (use --upgrade to upgrade): Werkzeug>=0.7 in /opt/conda/lib/python3.5/site-packages (from flask>=0.10.1->FireWorks>=1.3.3->matmethods)\n",
      "Requirement already satisfied (use --upgrade to upgrade): click>=2.0 in /opt/conda/lib/python3.5/site-packages (from flask>=0.10.1->FireWorks>=1.3.3->matmethods)\n",
      "Requirement already satisfied (use --upgrade to upgrade): latexcodec>=1.0.2 in /opt/conda/lib/python3.5/site-packages (from pybtex->pymatgen>=4.0.0->matmethods)\n",
      "Requirement already satisfied (use --upgrade to upgrade): docutils>=0.3 in /opt/conda/lib/python3.5/site-packages (from smoqe->pymatgen-db>=0.5.1->matmethods)\n",
      "Requirement already satisfied (use --upgrade to upgrade): sentinels in /opt/conda/lib/python3.5/site-packages (from mongomock->pymatgen-db>=0.5.1->matmethods)\n",
      "Requirement already satisfied (use --upgrade to upgrade): mock in /opt/conda/lib/python3.5/site-packages (from mongomock->pymatgen-db>=0.5.1->matmethods)\n",
      "Requirement already satisfied (use --upgrade to upgrade): pbr>=0.11 in /opt/conda/lib/python3.5/site-packages (from mock->mongomock->pymatgen-db>=0.5.1->matmethods)\n",
      "Installing collected packages: matmethods\n",
      "  Running setup.py develop for matmethods\n",
      "Successfully installed matmethods-0.2\n",
      "\u001b[33mYou are using pip version 8.1.1, however version 8.1.2 is available.\n",
      "You should consider upgrading via the 'pip install --upgrade pip' command.\u001b[0m\n"
     ]
    }
   ],
   "source": [
    "! pip install -e git+https://github.com/hackingmaterials/MatMethods.git@4d26b19c5c28010a34c50cd8b98453d733178577#egg=matmethods_dev"
   ]
  },
  {
   "cell_type": "code",
   "execution_count": 6,
   "metadata": {
    "collapsed": false
   },
   "outputs": [
    {
     "name": "stdout",
     "output_type": "stream",
     "text": [
      "atomicfile==1.0\r\n",
      "backports.shutil-get-terminal-size==1.0.0\r\n",
      "bokeh==0.11.1\r\n",
      "click==6.6\r\n",
      "cloudpickle==0.1.1\r\n",
      "conda==4.0.7\r\n",
      "conda-env==2.4.5\r\n",
      "custodian==1.0.1\r\n",
      "cycler==0.10.0\r\n",
      "Cython==0.23.5\r\n",
      "decorator==4.0.9\r\n",
      "dill==0.2.5\r\n",
      "Django==1.9.8\r\n",
      "docutils==0.12\r\n",
      "enum34==1.1.6\r\n",
      "fastcache==1.0.2\r\n",
      "FireWorks==1.3.3\r\n",
      "Flask==0.11.1\r\n",
      "flask-paginate==0.4.5\r\n",
      "h5py==2.5.0\r\n",
      "ipykernel==4.3.1\r\n",
      "ipython==4.2.0\r\n",
      "ipython-genutils==0.1.0\r\n",
      "ipywidgets==5.1.5\r\n",
      "itsdangerous==0.24\r\n",
      "Jinja2==2.8\r\n",
      "jsonschema==2.5.1\r\n",
      "jupyter-client==4.2.2\r\n",
      "jupyter-core==4.1.0\r\n",
      "jupyterhub==0.5.0\r\n",
      "latexcodec==1.0.3\r\n",
      "llvmlite==0.8.0\r\n",
      "MarkupSafe==0.23\r\n",
      "-e git+https://github.com/hackingmaterials/MatMethods.git@4d26b19c5c28010a34c50cd8b98453d733178577#egg=MatMethods\r\n",
      "matplotlib==1.5.1\r\n",
      "mistune==0.7.2\r\n",
      "mock==2.0.0\r\n",
      "mongomock==3.5.0\r\n",
      "monty==0.8.6\r\n",
      "nbconvert==4.2.0\r\n",
      "nbformat==4.0.1\r\n",
      "networkx==1.11\r\n",
      "notebook==4.2.0\r\n",
      "numba==0.23.1\r\n",
      "numexpr==2.5.2\r\n",
      "numpy==1.10.4\r\n",
      "pamela==0.2.1\r\n",
      "pandas==0.17.1\r\n",
      "patsy==0.4.1\r\n",
      "pbr==1.10.0\r\n",
      "pexpect==4.1.0\r\n",
      "pickleshare==0.7.2\r\n",
      "Pillow==3.2.0\r\n",
      "prettytable==0.7.2\r\n",
      "ptyprocess==0.5.1\r\n",
      "pybtex==0.20.1\r\n",
      "pycosat==0.6.1\r\n",
      "pycrypto==2.6.1\r\n",
      "Pygments==2.1.3\r\n",
      "pymatgen==4.2.0\r\n",
      "pymatgen-db==0.5.1\r\n",
      "pymongo==3.3.0\r\n",
      "pyparsing==2.1.4\r\n",
      "python-dateutil==2.5.3\r\n",
      "pytz==2016.4\r\n",
      "PyYAML==3.11\r\n",
      "pyzmq==15.2.0\r\n",
      "requests==2.10.0\r\n",
      "scikit-image==0.11.3\r\n",
      "scikit-learn==0.17.1\r\n",
      "scipy==0.17.1\r\n",
      "seaborn==0.7.0\r\n",
      "sentinels==0.0.6\r\n",
      "simplegeneric==0.8.1\r\n",
      "six==1.10.0\r\n",
      "smoqe==0.1.3\r\n",
      "spglib==1.9.4.2\r\n",
      "SQLAlchemy==1.0.13\r\n",
      "statsmodels==0.6.1\r\n",
      "sympy==0.7.6.1\r\n",
      "tabulate==0.7.5\r\n",
      "terminado==0.6\r\n",
      "tornado==4.3\r\n",
      "tqdm==4.8.1\r\n",
      "traitlets==4.2.1\r\n",
      "Werkzeug==0.11.10\r\n",
      "widgetsnbextension==1.2.3\r\n",
      "\u001b[33mYou are using pip version 8.1.1, however version 8.1.2 is available.\r\n",
      "You should consider upgrading via the 'pip install --upgrade pip' command.\u001b[0m\r\n"
     ]
    }
   ],
   "source": [
    "!pip freeze"
   ]
  },
  {
   "cell_type": "code",
   "execution_count": 11,
   "metadata": {
    "collapsed": false
   },
   "outputs": [
    {
     "name": "stdout",
     "output_type": "stream",
     "text": [
      "\r\n",
      "wtmp begins Wed Jul 27 23:37:49 2016\r\n"
     ]
    }
   ],
   "source": [
    "!last"
   ]
  },
  {
   "cell_type": "code",
   "execution_count": null,
   "metadata": {
    "collapsed": true
   },
   "outputs": [],
   "source": []
  }
 ],
 "metadata": {
  "kernelspec": {
   "display_name": "Python 3",
   "language": "python",
   "name": "python3"
  },
  "language_info": {
   "codemirror_mode": {
    "name": "ipython",
    "version": 3
   },
   "file_extension": ".py",
   "mimetype": "text/x-python",
   "name": "python",
   "nbconvert_exporter": "python",
   "pygments_lexer": "ipython3",
   "version": "3.5.1"
  },
  "widgets": {
   "state": {},
   "version": "1.1.2"
  }
 },
 "nbformat": 4,
 "nbformat_minor": 0
}
