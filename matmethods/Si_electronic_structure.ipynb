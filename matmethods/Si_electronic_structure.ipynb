{
 "cells": [
  {
   "cell_type": "code",
   "execution_count": null,
   "metadata": {
    "collapsed": false
   },
   "outputs": [],
   "source": [
    "%matplotlib inline\n",
    "import os\n",
    "from helper_functions import *\n",
    "\n",
    "db_file = os.path.abspath(\"db.json\")"
   ]
  },
  {
   "cell_type": "code",
   "execution_count": null,
   "metadata": {
    "collapsed": false
   },
   "outputs": [],
   "source": [
    "from pymatgen.util.testing import PymatgenTest\n",
    "\n",
    "struct_si = PymatgenTest.get_structure(\"Si\")\n",
    "print struct_si"
   ]
  },
  {
   "cell_type": "code",
   "execution_count": null,
   "metadata": {
    "collapsed": false
   },
   "outputs": [],
   "source": [
    "from pymatgen.io.vasp.sets import MPRelaxSet\n",
    "\n",
    "vis = MPRelaxSet(struct_si, force_gamma=True)"
   ]
  },
  {
   "cell_type": "code",
   "execution_count": null,
   "metadata": {
    "collapsed": false
   },
   "outputs": [],
   "source": [
    "from matmethods.vasp.fireworks.core import OptimizeFW\n",
    "\n",
    "fw1 = OptimizeFW(struct_si, vasp_input_set=vis, vasp_cmd=None, db_file=db_file)\n",
    "\n",
    "for task in fw1.tasks:\n",
    "    print task.fw_name"
   ]
  },
  {
   "cell_type": "code",
   "execution_count": null,
   "metadata": {
    "collapsed": false
   },
   "outputs": [],
   "source": [
    "from matmethods.vasp.fireworks.core import StaticFW\n",
    "\n",
    "fw2 = StaticFW(struct_si, vasp_input_set=vis, vasp_cmd=None, db_file=db_file, \n",
    "               parents=[fw1])\n",
    "\n",
    "for task in fw2.tasks:\n",
    "    print task.fw_name"
   ]
  },
  {
   "cell_type": "code",
   "execution_count": null,
   "metadata": {
    "collapsed": false
   },
   "outputs": [],
   "source": [
    "from matmethods.vasp.fireworks.core import NonSCFFW\n",
    "\n",
    "fw3 = NonSCFFW(struct_si, vasp_cmd=None, db_file=db_file, \n",
    "               parents=[fw2], mode=\"uniform\")\n",
    "\n",
    "for task in fw3.tasks:\n",
    "    print task.fw_name"
   ]
  },
  {
   "cell_type": "code",
   "execution_count": null,
   "metadata": {
    "collapsed": false
   },
   "outputs": [],
   "source": [
    "fw4 = NonSCFFW(struct_si, vasp_cmd=None, db_file=db_file, \n",
    "               parents=[fw2], mode=\"line\")\n",
    "\n",
    "for task in fw4.tasks:\n",
    "    print task.fw_name"
   ]
  },
  {
   "cell_type": "code",
   "execution_count": null,
   "metadata": {
    "collapsed": true
   },
   "outputs": [],
   "source": [
    "from fireworks import Workflow\n",
    "\n",
    "fws = [fw1, fw2, fw3, fw4]\n",
    "\n",
    "wf = Workflow(fws)"
   ]
  },
  {
   "cell_type": "code",
   "execution_count": null,
   "metadata": {
    "collapsed": false
   },
   "outputs": [],
   "source": [
    "plot_wf(wf)"
   ]
  },
  {
   "cell_type": "code",
   "execution_count": null,
   "metadata": {
    "collapsed": false
   },
   "outputs": [],
   "source": [
    "# adjust the ref_dir path\n",
    "wf = simulate_bandstructure_vasprun(wf, ref_dir=os.path.abspath(\".\"))"
   ]
  },
  {
   "cell_type": "code",
   "execution_count": null,
   "metadata": {
    "collapsed": false
   },
   "outputs": [],
   "source": [
    "from fireworks import LaunchPad\n",
    "\n",
    "lp = LaunchPad()\n",
    "lp.reset(\"\", require_password=False)"
   ]
  },
  {
   "cell_type": "code",
   "execution_count": null,
   "metadata": {
    "collapsed": false
   },
   "outputs": [],
   "source": [
    "lp.add_wf(wf)"
   ]
  },
  {
   "cell_type": "code",
   "execution_count": null,
   "metadata": {
    "collapsed": true
   },
   "outputs": [],
   "source": []
  }
 ],
 "metadata": {
  "kernelspec": {
   "display_name": "Python 2",
   "language": "python",
   "name": "python2"
  },
  "language_info": {
   "codemirror_mode": {
    "name": "ipython",
    "version": 2
   },
   "file_extension": ".py",
   "mimetype": "text/x-python",
   "name": "python",
   "nbconvert_exporter": "python",
   "pygments_lexer": "ipython2",
   "version": "2.7.11+"
  },
  "widgets": {
   "state": {},
   "version": "1.1.2"
  }
 },
 "nbformat": 4,
 "nbformat_minor": 0
}
