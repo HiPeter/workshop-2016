{
 "cells": [
  {
   "cell_type": "markdown",
   "metadata": {},
   "source": [
    "# Electronic structure workflow using MatMethods"
   ]
  },
  {
   "cell_type": "markdown",
   "metadata": {},
   "source": [
    "Use the [MatMethods](https://github.com/hackingmaterials/MatMethods.git) package to compose VASP workflow to study silicon electronic structure."
   ]
  },
  {
   "cell_type": "markdown",
   "metadata": {},
   "source": [
    "<img src=\"es_wf.png\">"
   ]
  },
  {
   "cell_type": "markdown",
   "metadata": {},
   "source": [
    "# MatMethods:\n",
    "\n",
    "- Successor to **MPWorks**: the software framework that powers the **MaterialsProject**\n",
    "\n",
    "- Like MPWorks it is built on top of state-of-the-art open-source libraries: **pymatgen, custodian, and FireWorks**\n",
    "    \n",
    "- Unlike MPWorks, MatMethods provides a much **cleaner and simpler interface** for composing complex workflows.\n",
    "\n",
    "- Features:\n",
    " \n",
    "    - Provides “standard” workflows for a wide variety of desired materials properties - optimized structures, band structures, electronic transport properties, dielectric constants, and much more. Just provide a crystal structure (that’s it!) and let MatMethods set up a complete workflow that provides the property you are interested in. You can do this for a single material, 100 materials, or 100,000 materials.\n",
    "\n",
    "    - One can easily change “standard workflows” - whether that is changing some of the default calculation parameters or recomposing the workflow (adding new calculations, removing steps, etc.) - using a very expressive syntax. One can compose very complex new workflows simply by chaining together pre-built calculation steps.\n",
    "\n",
    "    - It can build large databases of output properties that you can query, analyze, and share in a systematic way.\n",
    "\n",
    "    - It automatically keeps meticulous records of jobs, their directories, runtime parameters, etc.\n",
    "\n",
    "    - Jobs can be run on a variety of computing systems, queue systems, and architectures.\n",
    "    \n",
    "    - Uses a standard interface for adding new types of calculations and workflows such that it is possible for users to contribute new features and grow the capabilities of the software over time.\n",
    "    \n",
    "    - Currently supports VASP and LAMMPS(testing phase)"
   ]
  }
 ],
 "metadata": {
  "kernelspec": {
   "display_name": "Python 2",
   "language": "python",
   "name": "python2"
  },
  "language_info": {
   "codemirror_mode": {
    "name": "ipython",
    "version": 2
   },
   "file_extension": ".py",
   "mimetype": "text/x-python",
   "name": "python",
   "nbconvert_exporter": "python",
   "pygments_lexer": "ipython2",
   "version": "2.7.11+"
  },
  "widgets": {
   "state": {},
   "version": "1.1.2"
  }
 },
 "nbformat": 4,
 "nbformat_minor": 0
}
