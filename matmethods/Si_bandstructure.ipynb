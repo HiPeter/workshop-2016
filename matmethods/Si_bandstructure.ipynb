{
 "cells": [
  {
   "cell_type": "code",
   "execution_count": 1,
   "metadata": {
    "collapsed": true
   },
   "outputs": [],
   "source": [
    "import os\n",
    "import json\n",
    "\n",
    "from pymongo import MongoClient"
   ]
  },
  {
   "cell_type": "markdown",
   "metadata": {},
   "source": [
    "# Prep\n",
    "\n",
    "Set environment variables and setup simulated vasp run"
   ]
  },
  {
   "cell_type": "code",
   "execution_count": 2,
   "metadata": {
    "collapsed": false
   },
   "outputs": [],
   "source": [
    "os.environ[\"VASP_PSP_DIR\"] = os.path.join(os.getcwd(), \"reference_files\")"
   ]
  },
  {
   "cell_type": "markdown",
   "metadata": {},
   "source": [
    "# Structure and input set"
   ]
  },
  {
   "cell_type": "code",
   "execution_count": 3,
   "metadata": {
    "collapsed": true
   },
   "outputs": [],
   "source": [
    "from pymatgen.util.testing import PymatgenTest\n",
    "from pymatgen.io.vasp.sets import MPRelaxSet\n",
    "\n",
    "struct_si = PymatgenTest.get_structure(\"Si\")\n",
    "vis = MPRelaxSet(struct_si, force_gamma=True)"
   ]
  },
  {
   "cell_type": "markdown",
   "metadata": {},
   "source": [
    "# Define Fireworks and Workflow"
   ]
  },
  {
   "cell_type": "code",
   "execution_count": 4,
   "metadata": {
    "collapsed": false
   },
   "outputs": [],
   "source": [
    "from fireworks import Workflow\n",
    "from matmethods.vasp.fireworks.core import OptimizeFW, StaticFW, NonSCFFW\n",
    "\n",
    "fw1 = OptimizeFW(struct_si, vasp_input_set=vis, vasp_cmd=None, db_file=\">>db_file<<\")\n",
    "fw2 = StaticFW(struct_si, vasp_input_set=vis, vasp_cmd=None, db_file=\">>db_file<<\", parents=[fw1])\n",
    "fw3 = NonSCFFW(struct_si, vasp_cmd=None, db_file=\">>db_file<<\", parents=[fw2], mode=\"uniform\")\n",
    "fw4 = NonSCFFW(struct_si, vasp_cmd=None, db_file=\">>db_file<<\", parents=[fw2], mode=\"line\")\n",
    "\n",
    "fws = [fw1, fw2, fw3, fw4]\n",
    "\n",
    "wf = Workflow(fws)"
   ]
  },
  {
   "cell_type": "code",
   "execution_count": 5,
   "metadata": {
    "collapsed": true
   },
   "outputs": [],
   "source": [
    "from matmethods.vasp.vasp_powerups import use_fake_vasp\n",
    "\n",
    "reference_dir = os.path.join(os.getcwd(), \"reference_files\")\n",
    "si_ref_dirs = {\"structure optimization\": os.path.join(reference_dir, \"Si_structure_optimization\"),\n",
    "             \"static\": os.path.join(reference_dir, \"Si_static\"),\n",
    "             \"nscf uniform\": os.path.join(reference_dir, \"Si_nscf_uniform\"),\n",
    "             \"nscf line\": os.path.join(reference_dir, \"Si_nscf_line\")}\n",
    "\n",
    "wf_fake = use_fake_vasp(wf, si_ref_dirs)"
   ]
  },
  {
   "cell_type": "markdown",
   "metadata": {},
   "source": [
    "# Connect to Launchpad and reset"
   ]
  },
  {
   "cell_type": "code",
   "execution_count": 6,
   "metadata": {
    "collapsed": false
   },
   "outputs": [
    {
     "name": "stdout",
     "output_type": "stream",
     "text": [
      "2016-08-02 15:08:09,355 INFO Performing db tune-up\n",
      "2016-08-02 15:08:09,452 INFO LaunchPad was RESET.\n"
     ]
    }
   ],
   "source": [
    "import datetime\n",
    "from fireworks import LaunchPad\n",
    "\n",
    "lp = LaunchPad.from_file(\"my_launchpad.yaml\")\n",
    "lp.reset(datetime.datetime.now().strftime('%Y-%m-%d'))"
   ]
  },
  {
   "cell_type": "markdown",
   "metadata": {},
   "source": [
    "# Submit Workflow"
   ]
  },
  {
   "cell_type": "code",
   "execution_count": 7,
   "metadata": {
    "collapsed": false
   },
   "outputs": [
    {
     "name": "stdout",
     "output_type": "stream",
     "text": [
      "2016-08-02 15:08:10,916 INFO Added a workflow. id_map: {-1: 4, -4: 1, -3: 2, -2: 3}\n"
     ]
    },
    {
     "data": {
      "text/plain": [
       "{-4: 1, -3: 2, -2: 3, -1: 4}"
      ]
     },
     "execution_count": 7,
     "metadata": {},
     "output_type": "execute_result"
    }
   ],
   "source": [
    "lp.add_wf(wf_fake)"
   ]
  },
  {
   "cell_type": "markdown",
   "metadata": {},
   "source": [
    "# Run"
   ]
  },
  {
   "cell_type": "code",
   "execution_count": 8,
   "metadata": {
    "collapsed": false
   },
   "outputs": [
    {
     "name": "stdout",
     "output_type": "stream",
     "text": [
      "2016-08-02 15:08:13,286 INFO Created new dir /home/jovyan/work/launcher_2016-08-02-15-08-13-286465\n",
      "2016-08-02 15:08:13,288 INFO Launching Rocket\n",
      "2016-08-02 15:08:13,376 INFO RUNNING fw_id: 4 in directory: /home/jovyan/work/launcher_2016-08-02-15-08-13-286465\n",
      "2016-08-02 15:08:13,382 INFO Task started: {{matmethods.vasp.firetasks.write_inputs.WriteVaspFromIOSet}}.\n",
      "2016-08-02 15:08:13,400 INFO Task completed: {{matmethods.vasp.firetasks.write_inputs.WriteVaspFromIOSet}} \n",
      "2016-08-02 15:08:13,401 INFO Task started: {{matmethods.vasp.firetasks.run_calc.RunVaspFake}}.\n",
      "2016-08-02 15:08:13,430 INFO matmethods.vasp.firetasks.run_calc RunVaspFake: verified inputs successfully\n",
      "2016-08-02 15:08:13,443 INFO matmethods.vasp.firetasks.run_calc RunVaspFake: ran fake VASP, generated outputs\n",
      "2016-08-02 15:08:13,445 INFO Task completed: {{matmethods.vasp.firetasks.run_calc.RunVaspFake}} \n",
      "2016-08-02 15:08:13,446 INFO Task started: {{matmethods.common.firetasks.glue_tasks.PassCalcLocs}}.\n",
      "2016-08-02 15:08:13,448 INFO Task completed: {{matmethods.common.firetasks.glue_tasks.PassCalcLocs}} \n",
      "2016-08-02 15:08:13,449 INFO Task started: {{matmethods.vasp.firetasks.parse_outputs.VaspToDbTask}}.\n",
      "2016-08-02 15:08:13,450 INFO matmethods.vasp.firetasks.parse_outputs PARSING DIRECTORY: /home/jovyan/work/launcher_2016-08-02-15-08-13-286465\n",
      "2016-08-02 15:08:13,452 INFO matmethods.vasp.drones Getting task doc for base dir :/home/jovyan/work/launcher_2016-08-02-15-08-13-286465\n",
      "2016-08-02 15:08:13,606 INFO matmethods.vasp.drones Post-processing dir:/home/jovyan/work/launcher_2016-08-02-15-08-13-286465\n",
      "2016-08-02 15:08:13,607 WARNING matmethods.vasp.drones Transformations file does not exist.\n",
      "2016-08-02 15:08:13,609 INFO matmethods.vasp.drones Post-processed /home/jovyan/work/launcher_2016-08-02-15-08-13-286465\n",
      "2016-08-02 15:08:13,649 INFO matmethods.vasp.database Inserting bcf0c26e7681:/home/jovyan/work/launcher_2016-08-02-15-08-13-286465 with taskid = 48\n",
      "2016-08-02 15:08:13,739 INFO matmethods.vasp.firetasks.parse_outputs Finished parsing with task_id: 48\n",
      "2016-08-02 15:08:13,741 INFO Task completed: {{matmethods.vasp.firetasks.parse_outputs.VaspToDbTask}} \n",
      "2016-08-02 15:08:13,881 INFO Rocket finished\n",
      "2016-08-02 15:08:13,901 INFO Created new dir /home/jovyan/work/launcher_2016-08-02-15-08-13-901308\n",
      "2016-08-02 15:08:13,903 INFO Launching Rocket\n",
      "2016-08-02 15:08:13,985 INFO RUNNING fw_id: 3 in directory: /home/jovyan/work/launcher_2016-08-02-15-08-13-901308\n",
      "2016-08-02 15:08:13,989 INFO Task started: {{matmethods.vasp.firetasks.glue_tasks.CopyVaspOutputs}}.\n",
      "2016-08-02 15:08:14,218 INFO Task completed: {{matmethods.vasp.firetasks.glue_tasks.CopyVaspOutputs}} \n",
      "2016-08-02 15:08:14,219 INFO Task started: {{matmethods.vasp.firetasks.write_inputs.WriteVaspStaticFromPrev}}.\n",
      "2016-08-02 15:08:14,289 INFO Task completed: {{matmethods.vasp.firetasks.write_inputs.WriteVaspStaticFromPrev}} \n",
      "2016-08-02 15:08:14,290 INFO Task started: {{matmethods.vasp.firetasks.run_calc.RunVaspFake}}.\n",
      "2016-08-02 15:08:14,305 INFO matmethods.vasp.firetasks.run_calc RunVaspFake: verified inputs successfully\n",
      "2016-08-02 15:08:14,320 INFO matmethods.vasp.firetasks.run_calc RunVaspFake: ran fake VASP, generated outputs\n",
      "2016-08-02 15:08:14,321 INFO Task completed: {{matmethods.vasp.firetasks.run_calc.RunVaspFake}} \n",
      "2016-08-02 15:08:14,322 INFO Task started: {{matmethods.common.firetasks.glue_tasks.PassCalcLocs}}.\n",
      "2016-08-02 15:08:14,322 INFO Task completed: {{matmethods.common.firetasks.glue_tasks.PassCalcLocs}} \n",
      "2016-08-02 15:08:14,323 INFO Task started: {{matmethods.vasp.firetasks.parse_outputs.VaspToDbTask}}.\n",
      "2016-08-02 15:08:14,324 INFO matmethods.vasp.firetasks.parse_outputs PARSING DIRECTORY: /home/jovyan/work/launcher_2016-08-02-15-08-13-901308\n",
      "2016-08-02 15:08:14,324 INFO matmethods.vasp.drones Getting task doc for base dir :/home/jovyan/work/launcher_2016-08-02-15-08-13-901308\n",
      "2016-08-02 15:08:14,428 INFO matmethods.vasp.drones Post-processing dir:/home/jovyan/work/launcher_2016-08-02-15-08-13-901308\n",
      "2016-08-02 15:08:14,429 WARNING matmethods.vasp.drones Transformations file does not exist.\n",
      "2016-08-02 15:08:14,430 INFO matmethods.vasp.drones Post-processed /home/jovyan/work/launcher_2016-08-02-15-08-13-901308\n",
      "2016-08-02 15:08:14,469 INFO matmethods.vasp.database Inserting bcf0c26e7681:/home/jovyan/work/launcher_2016-08-02-15-08-13-901308 with taskid = 49\n",
      "2016-08-02 15:08:14,562 INFO matmethods.vasp.firetasks.parse_outputs Finished parsing with task_id: 49\n",
      "2016-08-02 15:08:14,564 INFO Task completed: {{matmethods.vasp.firetasks.parse_outputs.VaspToDbTask}} \n",
      "2016-08-02 15:08:14,693 INFO Rocket finished\n",
      "2016-08-02 15:08:14,713 INFO Created new dir /home/jovyan/work/launcher_2016-08-02-15-08-14-713144\n",
      "2016-08-02 15:08:14,714 INFO Launching Rocket\n",
      "2016-08-02 15:08:14,801 INFO RUNNING fw_id: 1 in directory: /home/jovyan/work/launcher_2016-08-02-15-08-14-713144\n",
      "2016-08-02 15:08:14,805 INFO Task started: {{matmethods.vasp.firetasks.glue_tasks.CopyVaspOutputs}}.\n",
      "2016-08-02 15:08:16,502 INFO Task completed: {{matmethods.vasp.firetasks.glue_tasks.CopyVaspOutputs}} \n",
      "2016-08-02 15:08:16,503 INFO Task started: {{matmethods.vasp.firetasks.write_inputs.WriteVaspNSCFFromPrev}}.\n",
      "2016-08-02 15:08:16,587 INFO Task completed: {{matmethods.vasp.firetasks.write_inputs.WriteVaspNSCFFromPrev}} \n",
      "2016-08-02 15:08:16,587 INFO Task started: {{matmethods.vasp.firetasks.run_calc.RunVaspFake}}.\n",
      "2016-08-02 15:08:16,601 INFO matmethods.vasp.firetasks.run_calc RunVaspFake: verified inputs successfully\n",
      "2016-08-02 15:08:16,608 INFO matmethods.vasp.firetasks.run_calc RunVaspFake: ran fake VASP, generated outputs\n",
      "2016-08-02 15:08:16,608 INFO Task completed: {{matmethods.vasp.firetasks.run_calc.RunVaspFake}} \n",
      "2016-08-02 15:08:16,609 INFO Task started: {{matmethods.common.firetasks.glue_tasks.PassCalcLocs}}.\n",
      "2016-08-02 15:08:16,609 INFO Task completed: {{matmethods.common.firetasks.glue_tasks.PassCalcLocs}} \n",
      "2016-08-02 15:08:16,610 INFO Task started: {{matmethods.vasp.firetasks.parse_outputs.VaspToDbTask}}.\n",
      "2016-08-02 15:08:16,610 INFO matmethods.vasp.firetasks.parse_outputs PARSING DIRECTORY: /home/jovyan/work/launcher_2016-08-02-15-08-14-713144\n",
      "2016-08-02 15:08:16,611 INFO matmethods.vasp.drones Getting task doc for base dir :/home/jovyan/work/launcher_2016-08-02-15-08-14-713144\n",
      "2016-08-02 15:08:17,837 INFO matmethods.vasp.drones Post-processing dir:/home/jovyan/work/launcher_2016-08-02-15-08-14-713144\n",
      "2016-08-02 15:08:17,838 WARNING matmethods.vasp.drones Transformations file does not exist.\n",
      "2016-08-02 15:08:17,839 INFO matmethods.vasp.drones Post-processed /home/jovyan/work/launcher_2016-08-02-15-08-14-713144\n",
      "2016-08-02 15:08:18,039 INFO matmethods.vasp.database Inserting bcf0c26e7681:/home/jovyan/work/launcher_2016-08-02-15-08-14-713144 with taskid = 50\n",
      "2016-08-02 15:08:18,105 INFO matmethods.vasp.firetasks.parse_outputs Finished parsing with task_id: 50\n",
      "2016-08-02 15:08:18,107 INFO Task completed: {{matmethods.vasp.firetasks.parse_outputs.VaspToDbTask}} \n",
      "2016-08-02 15:08:18,217 INFO Rocket finished\n",
      "2016-08-02 15:08:18,237 INFO Created new dir /home/jovyan/work/launcher_2016-08-02-15-08-18-237557\n",
      "2016-08-02 15:08:18,239 INFO Launching Rocket\n",
      "2016-08-02 15:08:18,324 INFO RUNNING fw_id: 2 in directory: /home/jovyan/work/launcher_2016-08-02-15-08-18-237557\n",
      "2016-08-02 15:08:18,328 INFO Task started: {{matmethods.vasp.firetasks.glue_tasks.CopyVaspOutputs}}.\n",
      "2016-08-02 15:08:20,032 INFO Task completed: {{matmethods.vasp.firetasks.glue_tasks.CopyVaspOutputs}} \n",
      "2016-08-02 15:08:20,032 INFO Task started: {{matmethods.vasp.firetasks.write_inputs.WriteVaspNSCFFromPrev}}.\n",
      "2016-08-02 15:08:20,143 INFO Task completed: {{matmethods.vasp.firetasks.write_inputs.WriteVaspNSCFFromPrev}} \n",
      "2016-08-02 15:08:20,143 INFO Task started: {{matmethods.vasp.firetasks.run_calc.RunVaspFake}}.\n",
      "2016-08-02 15:08:20,157 INFO matmethods.vasp.firetasks.run_calc RunVaspFake: verified inputs successfully\n",
      "2016-08-02 15:08:20,164 INFO matmethods.vasp.firetasks.run_calc RunVaspFake: ran fake VASP, generated outputs\n",
      "2016-08-02 15:08:20,165 INFO Task completed: {{matmethods.vasp.firetasks.run_calc.RunVaspFake}} \n",
      "2016-08-02 15:08:20,165 INFO Task started: {{matmethods.common.firetasks.glue_tasks.PassCalcLocs}}.\n",
      "2016-08-02 15:08:20,166 INFO Task completed: {{matmethods.common.firetasks.glue_tasks.PassCalcLocs}} \n",
      "2016-08-02 15:08:20,167 INFO Task started: {{matmethods.vasp.firetasks.parse_outputs.VaspToDbTask}}.\n",
      "2016-08-02 15:08:20,167 INFO matmethods.vasp.firetasks.parse_outputs PARSING DIRECTORY: /home/jovyan/work/launcher_2016-08-02-15-08-18-237557\n",
      "2016-08-02 15:08:20,168 INFO matmethods.vasp.drones Getting task doc for base dir :/home/jovyan/work/launcher_2016-08-02-15-08-18-237557\n",
      "2016-08-02 15:08:21,811 INFO matmethods.vasp.drones Post-processing dir:/home/jovyan/work/launcher_2016-08-02-15-08-18-237557\n",
      "2016-08-02 15:08:21,812 WARNING matmethods.vasp.drones Transformations file does not exist.\n",
      "2016-08-02 15:08:21,813 INFO matmethods.vasp.drones Post-processed /home/jovyan/work/launcher_2016-08-02-15-08-18-237557\n",
      "2016-08-02 15:08:22,150 INFO matmethods.vasp.database Inserting bcf0c26e7681:/home/jovyan/work/launcher_2016-08-02-15-08-18-237557 with taskid = 51\n",
      "2016-08-02 15:08:22,209 INFO matmethods.vasp.firetasks.parse_outputs Finished parsing with task_id: 51\n",
      "2016-08-02 15:08:22,211 INFO Task completed: {{matmethods.vasp.firetasks.parse_outputs.VaspToDbTask}} \n",
      "2016-08-02 15:08:22,312 INFO Rocket finished\n"
     ]
    }
   ],
   "source": [
    "from fireworks import FWorker\n",
    "from fireworks.core.rocket_launcher import rapidfire\n",
    "\n",
    "db_file = os.path.join(os.getcwd(), \"db.json\")\n",
    "rapidfire(lp, fworker=FWorker(env={\"db_file\": db_file}))"
   ]
  },
  {
   "cell_type": "markdown",
   "metadata": {},
   "source": [
    "# Retrieve and Verify"
   ]
  },
  {
   "cell_type": "code",
   "execution_count": 9,
   "metadata": {
    "collapsed": true
   },
   "outputs": [],
   "source": [
    "def get_task_database(db_file):\n",
    "    \"\"\"\n",
    "    connect to the database\n",
    "    \"\"\"\n",
    "    with open(db_file) as f:\n",
    "        creds = json.loads(f.read())\n",
    "        conn = MongoClient(creds[\"host\"], creds[\"port\"])\n",
    "        db = conn[creds[\"database\"]]\n",
    "        if \"admin_user\" in creds:\n",
    "            db.authenticate(creds[\"admin_user\"], creds[\"admin_password\"])\n",
    "        return db\n",
    "        \n",
    "def get_task_collection(db_file):\n",
    "    \"\"\"\n",
    "    connect to the database and return task collection\n",
    "    \"\"\"\n",
    "    with open(db_file) as f:\n",
    "        creds = json.loads(f.read())\n",
    "        db = get_task_database(db_file)\n",
    "        return db[creds[\"collection\"]]"
   ]
  },
  {
   "cell_type": "code",
   "execution_count": 10,
   "metadata": {
    "collapsed": false
   },
   "outputs": [],
   "source": [
    "from pymongo import DESCENDING\n",
    "\n",
    "d1 = get_task_collection(db_file).find_one({\"task_label\": \"structure optimization\"}, sort=[(\"_id\", DESCENDING)])\n",
    "\n",
    "d2 = get_task_collection(db_file).find_one({\"task_label\": \"static\"}, sort=[(\"_id\", DESCENDING)])\n",
    "\n",
    "d3 = get_task_collection(db_file).find_one({\"task_label\": \"nscf uniform\"}, sort=[(\"_id\", DESCENDING)])\n",
    "\n",
    "d4 = get_task_collection(db_file).find_one({\"task_label\": \"nscf line\"}, sort=[(\"_id\", DESCENDING)])"
   ]
  },
  {
   "cell_type": "code",
   "execution_count": 11,
   "metadata": {
    "collapsed": false
   },
   "outputs": [
    {
     "data": {
      "text/plain": [
       "0.6500000000000004"
      ]
     },
     "execution_count": 11,
     "metadata": {},
     "output_type": "execute_result"
    }
   ],
   "source": [
    "d1[\"output\"][\"bandgap\"] # 0.65"
   ]
  },
  {
   "cell_type": "code",
   "execution_count": null,
   "metadata": {
    "collapsed": true
   },
   "outputs": [],
   "source": []
  },
  {
   "cell_type": "code",
   "execution_count": null,
   "metadata": {
    "collapsed": true
   },
   "outputs": [],
   "source": []
  },
  {
   "cell_type": "markdown",
   "metadata": {},
   "source": [
    "# Debug"
   ]
  },
  {
   "cell_type": "code",
   "execution_count": 12,
   "metadata": {
    "collapsed": false
   },
   "outputs": [],
   "source": [
    "!rm -rf launcher"
   ]
  },
  {
   "cell_type": "code",
   "execution_count": null,
   "metadata": {
    "collapsed": false
   },
   "outputs": [],
   "source": [
    "from monty.os.path import zpath\n",
    "import os\n",
    "from pymatgen.io.vasp.inputs import get_potcar_dir, PotcarSingle\n",
    "\n",
    "symbol=\"Si\"\n",
    "funcdir = PotcarSingle.functional_dir[\"PBE\"]\n",
    "d = get_potcar_dir()\n",
    "print(d)\n",
    "paths_to_try = [os.path.join(d, funcdir, \"POTCAR.{}\".format(symbol)),\n",
    "                        os.path.join(d, funcdir, symbol, \"POTCAR\")]\n",
    "for p in paths_to_try:\n",
    "            p = os.path.expanduser(p)\n",
    "            print(\"0\",p)\n",
    "            p = zpath(p)\n",
    "            print(\"1\",p)\n",
    "            if os.path.exists(p):\n",
    "                print(\"2\",p)"
   ]
  },
  {
   "cell_type": "code",
   "execution_count": null,
   "metadata": {
    "collapsed": false
   },
   "outputs": [],
   "source": [
    "os.path.exists('/project/projectdirs/matgen/POTCARs/POT_GGA_PAW_PBE/POTCAR.Si.gz')"
   ]
  },
  {
   "cell_type": "code",
   "execution_count": null,
   "metadata": {
    "collapsed": false
   },
   "outputs": [],
   "source": [
    "os.listdir(\"/home/jovyan/\")"
   ]
  }
 ],
 "metadata": {
  "kernelspec": {
   "display_name": "Python 3",
   "language": "python",
   "name": "python3"
  },
  "language_info": {
   "codemirror_mode": {
    "name": "ipython",
    "version": 3
   },
   "file_extension": ".py",
   "mimetype": "text/x-python",
   "name": "python",
   "nbconvert_exporter": "python",
   "pygments_lexer": "ipython3",
   "version": "3.5.1"
  },
  "widgets": {
   "state": {},
   "version": "1.1.2"
  }
 },
 "nbformat": 4,
 "nbformat_minor": 0
}
