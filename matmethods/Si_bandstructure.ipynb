{
 "cells": [
  {
   "cell_type": "markdown",
   "metadata": {},
   "source": [
    "# VASP bandstructure workflow using MatMethods\n",
    "\n",
    "In this excercise we will use the [MatMethods](https://github.com/hackingmaterials/MatMethods.git) package to compute the bandstructre of silicon.\n",
    "\n",
    "**MatMethods:**\n",
    "\n",
    "- Successor to **MPWorks**: the software framework that powers the MaterialsProject\n",
    "\n",
    "- Like MPWorks it is built on top of state-of-the-art open-source libraries: **pymatgen, custodian, and FireWorks**\n",
    "    \n",
    "- Unlike MPWorks, MatMethods provides a much **cleaner and simpler interface** for composing complex workflows.\n",
    "\n",
    "- Features:\n",
    " \n",
    "    - Provides “standard” workflows for a wide variety of desired materials properties - optimized structures, band structures, electronic transport properties, dielectric constants, and much more. Just provide a crystal structure (that’s it!) and let MatMethods set up a complete workflow that provides the property you are interested in. You can do this for a single material, 100 materials, or 100,000 materials.\n",
    "\n",
    "    - One can easily change “standard workflows” - whether that is changing some of the default calculation parameters or recomposing the workflow (adding new calculations, removing steps, etc.) - using a very expressive syntax. One can compose very complex new workflows simply by chaining together pre-built calculation steps.\n",
    "\n",
    "    - It can build large databases of output properties that you can query, analyze, and share in a systematic way.\n",
    "\n",
    "    - It automatically keeps meticulous records of jobs, their directories, runtime parameters, etc.\n",
    "\n",
    "    - Jobs can be run on a variety of computing systems, queue systems, and architectures.\n",
    "    \n",
    "    - Uses a standard interface for adding new types of calculations and workflows such that it is possible for users to contribute new features and grow the capabilities of the software over time."
   ]
  },
  {
   "cell_type": "markdown",
   "metadata": {},
   "source": [
    "# Setup\n",
    "\n",
    "- start terminal\n",
    "- switch to python2 environment\n",
    "    - source activate python2\n",
    "- get the latest version of MatMethods and install\n",
    "    - git clone https://github.com/hackingmaterials/MatMethods.git\n",
    "    - cd MatMethods\n",
    "    - python setup.py develop\n",
    "- start mongoDB\n",
    "    - mongod"
   ]
  },
  {
   "cell_type": "markdown",
   "metadata": {},
   "source": [
    "# Set environment variables\n",
    "\n",
    "The environment variable VASP_PSP_DIR points to the location of VASP potcar files."
   ]
  },
  {
   "cell_type": "code",
   "execution_count": 1,
   "metadata": {
    "collapsed": false
   },
   "outputs": [],
   "source": [
    "import os\n",
    "\n",
    "#set the path to vasp pseudopotential files\n",
    "os.environ[\"VASP_PSP_DIR\"] = os.path.join(os.getcwd(), \"Si_bandstructure_runs\")"
   ]
  },
  {
   "cell_type": "markdown",
   "metadata": {},
   "source": [
    "# Get Si Structure"
   ]
  },
  {
   "cell_type": "code",
   "execution_count": 2,
   "metadata": {
    "collapsed": false
   },
   "outputs": [
    {
     "name": "stdout",
     "output_type": "stream",
     "text": [
      "Full Formula (Si2)\n",
      "Reduced Formula: Si\n",
      "abc   :   3.840198   3.840199   3.840198\n",
      "angles: 119.999991  90.000000  60.000009\n",
      "Sites (2)\n",
      "  #  SP       a    b     c\n",
      "---  ----  ----  ---  ----\n",
      "  0  Si    0     0    0\n",
      "  1  Si    0.75  0.5  0.75\n"
     ]
    }
   ],
   "source": [
    "from pymatgen.util.testing import PymatgenTest\n",
    "\n",
    "struct_si = PymatgenTest.get_structure(\"Si\")\n",
    "print struct_si"
   ]
  },
  {
   "cell_type": "markdown",
   "metadata": {},
   "source": [
    "# Set vasp inputset: incar, poscar, potcar and kpoints"
   ]
  },
  {
   "cell_type": "code",
   "execution_count": 3,
   "metadata": {
    "collapsed": false
   },
   "outputs": [],
   "source": [
    "from pymatgen.io.vasp.sets import MPRelaxSet\n",
    "\n",
    "vis = MPRelaxSet(struct_si, force_gamma=True)"
   ]
  },
  {
   "cell_type": "markdown",
   "metadata": {},
   "source": [
    "# INCAR"
   ]
  },
  {
   "cell_type": "code",
   "execution_count": 4,
   "metadata": {
    "collapsed": false
   },
   "outputs": [
    {
     "name": "stdout",
     "output_type": "stream",
     "text": [
      "ALGO = Fast\n",
      "EDIFF = 0.0001\n",
      "ENCUT = 520\n",
      "IBRION = 2\n",
      "ICHARG = 1\n",
      "ISIF = 3\n",
      "ISMEAR = -5\n",
      "ISPIN = 2\n",
      "LORBIT = 11\n",
      "LREAL = Auto\n",
      "LWAVE = False\n",
      "MAGMOM = 2*0.6\n",
      "NELM = 100\n",
      "NSW = 99\n",
      "PREC = Accurate\n",
      "SIGMA = 0.05\n",
      "\n"
     ]
    }
   ],
   "source": [
    "print vis.incar"
   ]
  },
  {
   "cell_type": "markdown",
   "metadata": {},
   "source": [
    "# POSCAR"
   ]
  },
  {
   "cell_type": "code",
   "execution_count": 5,
   "metadata": {
    "collapsed": false
   },
   "outputs": [
    {
     "name": "stdout",
     "output_type": "stream",
     "text": [
      "Si2\n",
      "1.0\n",
      "3.840198 0.000000 0.000000\n",
      "1.920099 3.325710 0.000000\n",
      "0.000000 -2.217138 3.135509\n",
      "Si\n",
      "2\n",
      "direct\n",
      "0.000000 0.000000 0.000000 Si\n",
      "0.750000 0.500000 0.750000 Si\n",
      "\n"
     ]
    }
   ],
   "source": [
    "print vis.poscar"
   ]
  },
  {
   "cell_type": "markdown",
   "metadata": {},
   "source": [
    "# POTCAR"
   ]
  },
  {
   "cell_type": "code",
   "execution_count": 6,
   "metadata": {
    "collapsed": false
   },
   "outputs": [
    {
     "name": "stdout",
     "output_type": "stream",
     "text": [
      "PBE ['Si']\n"
     ]
    }
   ],
   "source": [
    "print vis.potcar_functional, vis.potcar_symbols"
   ]
  },
  {
   "cell_type": "markdown",
   "metadata": {},
   "source": [
    "# KPOINTS"
   ]
  },
  {
   "cell_type": "code",
   "execution_count": 7,
   "metadata": {
    "collapsed": false
   },
   "outputs": [
    {
     "name": "stdout",
     "output_type": "stream",
     "text": [
      "pymatgen generated KPOINTS with grid density = 619 / atom\n",
      "0\n",
      "Gamma\n",
      "8 8 8\n",
      "\n"
     ]
    }
   ],
   "source": [
    "print vis.kpoints"
   ]
  },
  {
   "cell_type": "markdown",
   "metadata": {},
   "source": [
    "# Define Fireworks and Workflow\n",
    "\n",
    "The workflow consists of  3 fireworks:\n",
    "- structure optimization\n",
    "- static calculation\n",
    "- refined band structure calculation"
   ]
  },
  {
   "cell_type": "markdown",
   "metadata": {},
   "source": [
    "# Structure optimization firework"
   ]
  },
  {
   "cell_type": "code",
   "execution_count": 8,
   "metadata": {
    "collapsed": false
   },
   "outputs": [],
   "source": [
    "from matmethods.vasp.fireworks.core import OptimizeFW\n",
    "\n",
    "fw1 = OptimizeFW(struct_si, vasp_input_set=vis, vasp_cmd=None, db_file=\">>db_file<<\")"
   ]
  },
  {
   "cell_type": "markdown",
   "metadata": {},
   "source": [
    "# env_chk, the >>db_file<< syntax\n",
    "\n",
    "The **env_chk** functionality is a way to support both hard-coding of parameters as well as letting the machine (or more specifically, the FireWorker) set the parameter. Many of the FireTasks in MatMethods\n",
    "\n",
    "In the above firework there are 2 ways to set the path to the db_file:\n",
    "- Explicitly set the path\n",
    "    - *db_file=\"path_to_the_db_settings_file\"*\n",
    "- use the env_chk notation \n",
    "    - *db_file=\">>db_file<<\"*\n",
    "    - The 'env_chk' parameter 'db_file' enclosed in the >><< symbols implies that the user wants to get the values from the FireWorker’s env value. That is, when executing the workflow, one must use a FireWorker that contains an env that looks like {\"db_file\": \"path_to_the_db_settings_file\"}.\n",
    "    - We will set this environment variable below when we configure the Fireworker\n",
    "    \n",
    "Similarly the vasp_cmd parameter in the above firework can also be set using the 'env_chk' functionality."
   ]
  },
  {
   "cell_type": "markdown",
   "metadata": {},
   "source": [
    "The Structure optimization firework consists of the following firetasks"
   ]
  },
  {
   "cell_type": "code",
   "execution_count": 9,
   "metadata": {
    "collapsed": false
   },
   "outputs": [
    {
     "name": "stdout",
     "output_type": "stream",
     "text": [
      "{{matmethods.vasp.firetasks.write_inputs.WriteVaspFromIOSet}}\n",
      "{{matmethods.vasp.firetasks.run_calc.RunVaspCustodian}}\n",
      "{{matmethods.common.firetasks.glue_tasks.PassCalcLocs}}\n",
      "{{matmethods.vasp.firetasks.parse_outputs.VaspToDbTask}}\n"
     ]
    }
   ],
   "source": [
    "for task in fw1.tasks:\n",
    "    print task.fw_name"
   ]
  },
  {
   "cell_type": "markdown",
   "metadata": {},
   "source": [
    "# Static firework"
   ]
  },
  {
   "cell_type": "code",
   "execution_count": 10,
   "metadata": {
    "collapsed": false
   },
   "outputs": [
    {
     "name": "stdout",
     "output_type": "stream",
     "text": [
      "{{matmethods.vasp.firetasks.glue_tasks.CopyVaspOutputs}}\n",
      "{{matmethods.vasp.firetasks.write_inputs.WriteVaspStaticFromPrev}}\n",
      "{{matmethods.vasp.firetasks.run_calc.RunVaspCustodian}}\n",
      "{{matmethods.common.firetasks.glue_tasks.PassCalcLocs}}\n",
      "{{matmethods.vasp.firetasks.parse_outputs.VaspToDbTask}}\n"
     ]
    }
   ],
   "source": [
    "from matmethods.vasp.fireworks.core import StaticFW\n",
    "\n",
    "fw2 = StaticFW(struct_si, vasp_input_set=vis, vasp_cmd=None, db_file=\">>db_file<<\", parents=[fw1])\n",
    "\n",
    "for task in fw2.tasks:\n",
    "    print task.fw_name"
   ]
  },
  {
   "cell_type": "markdown",
   "metadata": {},
   "source": [
    "# Non-selfconsistent firework"
   ]
  },
  {
   "cell_type": "code",
   "execution_count": 11,
   "metadata": {
    "collapsed": false
   },
   "outputs": [
    {
     "name": "stdout",
     "output_type": "stream",
     "text": [
      "{{matmethods.vasp.firetasks.glue_tasks.CopyVaspOutputs}}\n",
      "{{matmethods.vasp.firetasks.write_inputs.WriteVaspNSCFFromPrev}}\n",
      "{{matmethods.vasp.firetasks.run_calc.RunVaspCustodian}}\n",
      "{{matmethods.common.firetasks.glue_tasks.PassCalcLocs}}\n",
      "{{matmethods.vasp.firetasks.parse_outputs.VaspToDbTask}}\n"
     ]
    }
   ],
   "source": [
    "from matmethods.vasp.fireworks.core import NonSCFFW\n",
    "\n",
    "fw3 = NonSCFFW(struct_si, vasp_cmd=None, db_file=\">>db_file<<\", parents=[fw2], mode=\"uniform\")\n",
    "\n",
    "for task in fw3.tasks:\n",
    "    print task.fw_name"
   ]
  },
  {
   "cell_type": "markdown",
   "metadata": {},
   "source": [
    "# the workflow"
   ]
  },
  {
   "cell_type": "code",
   "execution_count": 12,
   "metadata": {
    "collapsed": true
   },
   "outputs": [],
   "source": [
    "from fireworks import Workflow\n",
    "\n",
    "fws = [fw1, fw2, fw3]\n",
    "\n",
    "wf = Workflow(fws)"
   ]
  },
  {
   "cell_type": "markdown",
   "metadata": {},
   "source": [
    "# Workflow “Powerups”\n",
    "\n",
    "- Similar to function decorators but for workflows\n",
    "- Enables the users to add additional features to the workflow\n",
    "- Example: Lets say instead of running vasp directly you want to run it through the custodian. All you have to do is to apply the 'use_custodian' powerup to the workflow.\n",
    "- In this excercise we will make use of the vasp emulator powerup, use_fake_vasp, to replace RunVaspDirect with RunVaspFake."
   ]
  },
  {
   "cell_type": "markdown",
   "metadata": {},
   "source": [
    "# Use powerup to emulate VASP\n",
    "\n",
    "Due to time and resource constraints we will not be running vasp, instead emulate it using pre-computed results of the workflow. To that end we employ the 'use_fake_vasp' powerup to replace the vasp custodian task with the vasp emulator task."
   ]
  },
  {
   "cell_type": "code",
   "execution_count": 13,
   "metadata": {
    "collapsed": true
   },
   "outputs": [],
   "source": [
    "from matmethods.vasp.vasp_powerups import use_fake_vasp\n",
    "\n",
    "reference_dir = os.path.join(os.getcwd(), \"Si_bandstructure_runs\")\n",
    "#reference_dir = os.path.abspath(os.path.join(\"..\",\"..\",\"matproj/MatMethods/matmethods/vasp/tests\", \"reference_files\"))\n",
    "\n",
    "si_ref_dirs = {\"structure optimization\": os.path.join(reference_dir, \"Si_structure_optimization\"),\n",
    "               \"static\": os.path.join(reference_dir, \"Si_static\"),\n",
    "               \"nscf uniform\": os.path.join(reference_dir, \"Si_nscf_uniform\"),\n",
    "               \"nscf line\": os.path.join(reference_dir, \"Si_nscf_line\")}\n",
    "\n",
    "wf = use_fake_vasp(wf, si_ref_dirs)"
   ]
  },
  {
   "cell_type": "markdown",
   "metadata": {},
   "source": [
    "# Connect to Launchpad and reset\n",
    "\n",
    "Establish conncetion to the mongodb database that stores the workflow(the launchpad) and reset it."
   ]
  },
  {
   "cell_type": "code",
   "execution_count": 14,
   "metadata": {
    "collapsed": false
   },
   "outputs": [
    {
     "name": "stdout",
     "output_type": "stream",
     "text": [
      "2016-08-05 08:31:03,347 INFO Performing db tune-up\n",
      "2016-08-05 08:31:03,354 INFO LaunchPad was RESET.\n"
     ]
    }
   ],
   "source": [
    "import datetime\n",
    "from fireworks import LaunchPad\n",
    "\n",
    "lp = LaunchPad.from_file(\"my_launchpad.yaml\")\n",
    "lp.reset(datetime.datetime.now().strftime('%Y-%m-%d'))"
   ]
  },
  {
   "cell_type": "markdown",
   "metadata": {},
   "source": [
    "# Add Workflow\n",
    "\n",
    "add the workflow to the launchpad"
   ]
  },
  {
   "cell_type": "code",
   "execution_count": 15,
   "metadata": {
    "collapsed": false
   },
   "outputs": [
    {
     "name": "stdout",
     "output_type": "stream",
     "text": [
      "2016-08-05 08:31:04,826 INFO Added a workflow. id_map: {-1: 3, -3: 1, -2: 2}\n"
     ]
    },
    {
     "data": {
      "text/plain": [
       "{-3: 1, -2: 2, -1: 3}"
      ]
     },
     "execution_count": 15,
     "metadata": {},
     "output_type": "execute_result"
    }
   ],
   "source": [
    "lp.add_wf(wf)"
   ]
  },
  {
   "cell_type": "markdown",
   "metadata": {},
   "source": [
    "Define some utility functions"
   ]
  },
  {
   "cell_type": "code",
   "execution_count": 16,
   "metadata": {
    "collapsed": false
   },
   "outputs": [],
   "source": [
    "def get_status():\n",
    "    \"\"\"\n",
    "    print firework names and their states\n",
    "    \"\"\"\n",
    "    for id in lp.get_fw_ids():\n",
    "        fw = lp.get_fw_by_id(id)\n",
    "        print \"Name:{}, State:{}\".format(fw.name, fw.state)\n",
    "\n",
    "def set_launch_dir(launch_dir):\n",
    "    \"\"\"\n",
    "    create and change to the directory. \n",
    "    Called before launching a firework\n",
    "    \"\"\"\n",
    "    os.mkdir(launch_dir)\n",
    "    os.chdir(launch_dir)\n",
    "    \n",
    "def get_task_collection(db_file):\n",
    "    \"\"\"\n",
    "    connect to the database and return task collection\n",
    "    \"\"\"\n",
    "    with open(db_file) as f:\n",
    "        creds = json.loads(f.read())\n",
    "        conn = MongoClient(creds[\"host\"], creds[\"port\"])\n",
    "        db = conn[creds[\"database\"]]\n",
    "        if \"admin_user\" in creds:\n",
    "            db.authenticate(creds[\"admin_user\"], creds[\"admin_password\"])\n",
    "        return db[creds[\"collection\"]]"
   ]
  },
  {
   "cell_type": "markdown",
   "metadata": {},
   "source": [
    "print firework names and their states"
   ]
  },
  {
   "cell_type": "code",
   "execution_count": 17,
   "metadata": {
    "collapsed": false
   },
   "outputs": [
    {
     "name": "stdout",
     "output_type": "stream",
     "text": [
      "Name:Si-nscf uniform, State:WAITING\n",
      "Name:Si-static, State:WAITING\n",
      "Name:Si-structure optimization, State:READY\n"
     ]
    }
   ],
   "source": [
    "get_status()"
   ]
  },
  {
   "cell_type": "markdown",
   "metadata": {},
   "source": [
    "# Configure Fireworker\n",
    "\n",
    "- Since we are using the 'env_chk' functionality to set the path to the file containing the db settings we need to configure the fireworker by setting the 'db_file' environment variable"
   ]
  },
  {
   "cell_type": "code",
   "execution_count": 18,
   "metadata": {
    "collapsed": false
   },
   "outputs": [],
   "source": [
    "from fireworks import FWorker\n",
    "\n",
    "db_file = os.path.join(os.getcwd(), \"db.json\")\n",
    "my_fworker=FWorker(env={\"db_file\": db_file})"
   ]
  },
  {
   "cell_type": "markdown",
   "metadata": {},
   "source": [
    "# Launch Structure optimization firework\n",
    "\n",
    "create a launch directory, change to it and launch the first firework\n",
    "\n",
    "Note: As shown in the previous session the firework launches and status checking can also be done using the commandline utility 'lpad'."
   ]
  },
  {
   "cell_type": "code",
   "execution_count": 19,
   "metadata": {
    "collapsed": false
   },
   "outputs": [
    {
     "name": "stdout",
     "output_type": "stream",
     "text": [
      "2016-08-05 08:31:09,887 INFO Launching Rocket\n",
      "2016-08-05 08:31:09,928 INFO RUNNING fw_id: 3 in directory: /home/ray/Software/workshop-2016/matmethods/structure_optimization\n",
      "2016-08-05 08:31:09,931 INFO Task started: {{matmethods.vasp.firetasks.write_inputs.WriteVaspFromIOSet}}.\n",
      "2016-08-05 08:31:09,947 INFO Task completed: {{matmethods.vasp.firetasks.write_inputs.WriteVaspFromIOSet}} \n",
      "2016-08-05 08:31:09,949 INFO Task started: {{matmethods.vasp.firetasks.run_calc.RunVaspFake}}.\n",
      "2016-08-05 08:31:09,983 INFO matmethods.vasp.firetasks.run_calc RunVaspFake: verified inputs successfully\n",
      "2016-08-05 08:31:10,003 INFO matmethods.vasp.firetasks.run_calc RunVaspFake: ran fake VASP, generated outputs\n",
      "2016-08-05 08:31:10,005 INFO Task completed: {{matmethods.vasp.firetasks.run_calc.RunVaspFake}} \n",
      "2016-08-05 08:31:10,007 INFO Task started: {{matmethods.common.firetasks.glue_tasks.PassCalcLocs}}.\n",
      "2016-08-05 08:31:10,009 INFO Task completed: {{matmethods.common.firetasks.glue_tasks.PassCalcLocs}} \n",
      "2016-08-05 08:31:10,011 INFO Task started: {{matmethods.vasp.firetasks.parse_outputs.VaspToDbTask}}.\n",
      "2016-08-05 08:31:10,014 INFO matmethods.vasp.firetasks.parse_outputs PARSING DIRECTORY: /home/ray/Software/workshop-2016/matmethods/structure_optimization\n",
      "2016-08-05 08:31:10,016 INFO matmethods.vasp.drones Getting task doc for base dir :/home/ray/Software/workshop-2016/matmethods/structure_optimization\n",
      "2016-08-05 08:31:10,152 INFO matmethods.vasp.drones Post-processing dir:/home/ray/Software/workshop-2016/matmethods/structure_optimization\n",
      "2016-08-05 08:31:10,153 WARNING matmethods.vasp.drones Transformations file does not exist.\n",
      "2016-08-05 08:31:10,159 INFO matmethods.vasp.drones Post-processed /home/ray/Software/workshop-2016/matmethods/structure_optimization\n",
      "2016-08-05 08:31:10,171 INFO matmethods.vasp.database Updating eclipse:/home/ray/Software/workshop-2016/matmethods/structure_optimization with taskid = 60\n",
      "2016-08-05 08:31:10,190 INFO matmethods.vasp.firetasks.parse_outputs Finished parsing with task_id: 60\n",
      "2016-08-05 08:31:10,191 INFO Task completed: {{matmethods.vasp.firetasks.parse_outputs.VaspToDbTask}} \n",
      "2016-08-05 08:31:10,248 INFO Rocket finished\n"
     ]
    },
    {
     "data": {
      "text/plain": [
       "True"
      ]
     },
     "execution_count": 19,
     "metadata": {},
     "output_type": "execute_result"
    }
   ],
   "source": [
    "from fireworks.core.rocket_launcher import launch_rocket\n",
    "\n",
    "set_launch_dir(\"structure_optimization\")\n",
    "launch_rocket(lp, fworker=my_fworker)"
   ]
  },
  {
   "cell_type": "code",
   "execution_count": 20,
   "metadata": {
    "collapsed": false
   },
   "outputs": [
    {
     "name": "stdout",
     "output_type": "stream",
     "text": [
      "Name:Si-nscf uniform, State:WAITING\n",
      "Name:Si-static, State:READY\n",
      "Name:Si-structure optimization, State:COMPLETED\n"
     ]
    }
   ],
   "source": [
    "get_status()"
   ]
  },
  {
   "cell_type": "markdown",
   "metadata": {},
   "source": [
    "# Launch static vasp calculation firework"
   ]
  },
  {
   "cell_type": "code",
   "execution_count": 21,
   "metadata": {
    "collapsed": false
   },
   "outputs": [
    {
     "name": "stdout",
     "output_type": "stream",
     "text": [
      "2016-08-05 08:31:12,017 INFO Launching Rocket\n",
      "2016-08-05 08:31:12,055 INFO RUNNING fw_id: 2 in directory: /home/ray/Software/workshop-2016/matmethods/static\n",
      "2016-08-05 08:31:12,057 INFO Task started: {{matmethods.vasp.firetasks.glue_tasks.CopyVaspOutputs}}.\n",
      "2016-08-05 08:31:12,109 INFO Task completed: {{matmethods.vasp.firetasks.glue_tasks.CopyVaspOutputs}} \n",
      "2016-08-05 08:31:12,110 INFO Task started: {{matmethods.vasp.firetasks.write_inputs.WriteVaspStaticFromPrev}}.\n",
      "2016-08-05 08:31:12,166 INFO Task completed: {{matmethods.vasp.firetasks.write_inputs.WriteVaspStaticFromPrev}} \n",
      "2016-08-05 08:31:12,167 INFO Task started: {{matmethods.vasp.firetasks.run_calc.RunVaspFake}}.\n",
      "2016-08-05 08:31:12,193 INFO matmethods.vasp.firetasks.run_calc RunVaspFake: verified inputs successfully\n",
      "2016-08-05 08:31:12,210 INFO matmethods.vasp.firetasks.run_calc RunVaspFake: ran fake VASP, generated outputs\n",
      "2016-08-05 08:31:12,211 INFO Task completed: {{matmethods.vasp.firetasks.run_calc.RunVaspFake}} \n",
      "2016-08-05 08:31:12,212 INFO Task started: {{matmethods.common.firetasks.glue_tasks.PassCalcLocs}}.\n",
      "2016-08-05 08:31:12,213 INFO Task completed: {{matmethods.common.firetasks.glue_tasks.PassCalcLocs}} \n",
      "2016-08-05 08:31:12,214 INFO Task started: {{matmethods.vasp.firetasks.parse_outputs.VaspToDbTask}}.\n",
      "2016-08-05 08:31:12,216 INFO matmethods.vasp.firetasks.parse_outputs PARSING DIRECTORY: /home/ray/Software/workshop-2016/matmethods/static\n",
      "2016-08-05 08:31:12,218 INFO matmethods.vasp.drones Getting task doc for base dir :/home/ray/Software/workshop-2016/matmethods/static\n",
      "2016-08-05 08:31:12,361 INFO matmethods.vasp.drones Post-processing dir:/home/ray/Software/workshop-2016/matmethods/static\n",
      "2016-08-05 08:31:12,362 WARNING matmethods.vasp.drones Transformations file does not exist.\n",
      "2016-08-05 08:31:12,369 INFO matmethods.vasp.drones Post-processed /home/ray/Software/workshop-2016/matmethods/static\n",
      "2016-08-05 08:31:12,373 INFO matmethods.vasp.database Updating eclipse:/home/ray/Software/workshop-2016/matmethods/static with taskid = 7\n",
      "2016-08-05 08:31:12,392 INFO matmethods.vasp.firetasks.parse_outputs Finished parsing with task_id: 7\n",
      "2016-08-05 08:31:12,395 INFO Task completed: {{matmethods.vasp.firetasks.parse_outputs.VaspToDbTask}} \n",
      "2016-08-05 08:31:12,433 INFO Rocket finished\n"
     ]
    },
    {
     "data": {
      "text/plain": [
       "True"
      ]
     },
     "execution_count": 21,
     "metadata": {},
     "output_type": "execute_result"
    }
   ],
   "source": [
    "set_launch_dir(\"../static\")\n",
    "\n",
    "launch_rocket(lp, fworker=my_fworker)"
   ]
  },
  {
   "cell_type": "code",
   "execution_count": 22,
   "metadata": {
    "collapsed": false
   },
   "outputs": [
    {
     "name": "stdout",
     "output_type": "stream",
     "text": [
      "Name:Si-nscf uniform, State:READY\n",
      "Name:Si-static, State:COMPLETED\n",
      "Name:Si-structure optimization, State:COMPLETED\n"
     ]
    }
   ],
   "source": [
    "get_status()"
   ]
  },
  {
   "cell_type": "markdown",
   "metadata": {},
   "source": [
    "# Launch vasp bandstructure calculation firework"
   ]
  },
  {
   "cell_type": "code",
   "execution_count": 23,
   "metadata": {
    "collapsed": false
   },
   "outputs": [
    {
     "name": "stdout",
     "output_type": "stream",
     "text": [
      "2016-08-05 08:31:16,288 INFO Launching Rocket\n",
      "2016-08-05 08:31:16,327 INFO RUNNING fw_id: 1 in directory: /home/ray/Software/workshop-2016/matmethods/bandstructure\n",
      "2016-08-05 08:31:16,330 INFO Task started: {{matmethods.vasp.firetasks.glue_tasks.CopyVaspOutputs}}.\n",
      "2016-08-05 08:31:16,789 INFO Task completed: {{matmethods.vasp.firetasks.glue_tasks.CopyVaspOutputs}} \n",
      "2016-08-05 08:31:16,790 INFO Task started: {{matmethods.vasp.firetasks.write_inputs.WriteVaspNSCFFromPrev}}.\n",
      "2016-08-05 08:31:16,961 INFO Task completed: {{matmethods.vasp.firetasks.write_inputs.WriteVaspNSCFFromPrev}} \n",
      "2016-08-05 08:31:16,962 INFO Task started: {{matmethods.vasp.firetasks.run_calc.RunVaspFake}}.\n",
      "2016-08-05 08:31:16,983 INFO matmethods.vasp.firetasks.run_calc RunVaspFake: verified inputs successfully\n",
      "2016-08-05 08:31:16,994 INFO matmethods.vasp.firetasks.run_calc RunVaspFake: ran fake VASP, generated outputs\n",
      "2016-08-05 08:31:16,995 INFO Task completed: {{matmethods.vasp.firetasks.run_calc.RunVaspFake}} \n",
      "2016-08-05 08:31:16,997 INFO Task started: {{matmethods.common.firetasks.glue_tasks.PassCalcLocs}}.\n",
      "2016-08-05 08:31:16,998 INFO Task completed: {{matmethods.common.firetasks.glue_tasks.PassCalcLocs}} \n",
      "2016-08-05 08:31:16,999 INFO Task started: {{matmethods.vasp.firetasks.parse_outputs.VaspToDbTask}}.\n",
      "2016-08-05 08:31:17,000 INFO matmethods.vasp.firetasks.parse_outputs PARSING DIRECTORY: /home/ray/Software/workshop-2016/matmethods/bandstructure\n",
      "2016-08-05 08:31:17,001 INFO matmethods.vasp.drones Getting task doc for base dir :/home/ray/Software/workshop-2016/matmethods/bandstructure\n",
      "2016-08-05 08:31:18,669 INFO matmethods.vasp.drones Post-processing dir:/home/ray/Software/workshop-2016/matmethods/bandstructure\n",
      "2016-08-05 08:31:18,670 WARNING matmethods.vasp.drones Transformations file does not exist.\n",
      "2016-08-05 08:31:18,672 INFO matmethods.vasp.drones Post-processed /home/ray/Software/workshop-2016/matmethods/bandstructure\n",
      "2016-08-05 08:31:18,752 INFO matmethods.vasp.database Updating eclipse:/home/ray/Software/workshop-2016/matmethods/bandstructure with taskid = 8\n",
      "2016-08-05 08:31:18,771 INFO matmethods.vasp.firetasks.parse_outputs Finished parsing with task_id: 8\n",
      "2016-08-05 08:31:18,772 INFO Task completed: {{matmethods.vasp.firetasks.parse_outputs.VaspToDbTask}} \n",
      "2016-08-05 08:31:18,806 INFO Rocket finished\n"
     ]
    },
    {
     "data": {
      "text/plain": [
       "True"
      ]
     },
     "execution_count": 23,
     "metadata": {},
     "output_type": "execute_result"
    }
   ],
   "source": [
    "set_launch_dir(\"../bandstructure\")\n",
    "\n",
    "launch_rocket(lp, fworker=my_fworker)"
   ]
  },
  {
   "cell_type": "markdown",
   "metadata": {},
   "source": [
    "# Retrieve data\n"
   ]
  },
  {
   "cell_type": "code",
   "execution_count": 24,
   "metadata": {
    "collapsed": false
   },
   "outputs": [],
   "source": [
    "import json\n",
    "from pymongo import MongoClient, DESCENDING\n",
    "\n",
    "d1 = get_task_collection(db_file).find_one({\"task_label\": \"structure optimization\"}, \n",
    "                                           sort=[(\"_id\", DESCENDING)])\n",
    "\n",
    "d2 = get_task_collection(db_file).find_one({\"task_label\": \"static\"}, \n",
    "                                           sort=[(\"_id\", DESCENDING)])\n",
    "\n",
    "d3 = get_task_collection(db_file).find_one({\"task_label\": \"nscf uniform\"}, \n",
    "                                           sort=[(\"_id\", DESCENDING)])"
   ]
  },
  {
   "cell_type": "markdown",
   "metadata": {},
   "source": [
    "# Get the bandstructure"
   ]
  },
  {
   "cell_type": "code",
   "execution_count": 25,
   "metadata": {
    "collapsed": false
   },
   "outputs": [],
   "source": [
    "import gridfs\n",
    "\n",
    "with open(\"../db.json\") as f:\n",
    "    creds = json.loads(f.read())\n",
    "    conn = MongoClient(creds[\"host\"], creds[\"port\"])\n",
    "    db = conn[creds[\"database\"]]\n",
    "    \n",
    "fs = gridfs.GridFS(db, 'bandstructure_fs')"
   ]
  },
  {
   "cell_type": "code",
   "execution_count": 26,
   "metadata": {
    "collapsed": false
   },
   "outputs": [],
   "source": [
    "import zlib\n",
    "\n",
    "bs_fs_id = d3[\"calcs_reversed\"][0][\"bandstructure_fs_id\"]\n",
    "bs_json = zlib.decompress(fs.get(bs_fs_id).read())\n",
    "bs = json.loads(bs_json.decode())"
   ]
  },
  {
   "cell_type": "code",
   "execution_count": 27,
   "metadata": {
    "collapsed": false
   },
   "outputs": [
    {
     "name": "stdout",
     "output_type": "stream",
     "text": [
      "False\n",
      "False\n",
      "0.6103\n",
      "False\n"
     ]
    }
   ],
   "source": [
    "print bs[\"is_spin_polarized\"] \n",
    "print bs[\"band_gap\"][\"direct\"]\n",
    "print bs[\"band_gap\"][\"energy\"] \n",
    "print bs[\"is_metal\"]"
   ]
  },
  {
   "cell_type": "markdown",
   "metadata": {},
   "source": [
    "# Get DOS"
   ]
  },
  {
   "cell_type": "code",
   "execution_count": 28,
   "metadata": {
    "collapsed": false
   },
   "outputs": [],
   "source": [
    "from pymatgen.electronic_structure.dos import Dos\n",
    "\n",
    "fs = gridfs.GridFS(db, 'dos_fs')\n",
    "dos_fs_id = d3[\"calcs_reversed\"][0][\"dos_fs_id\"]\n",
    "\n",
    "dos_json = zlib.decompress(fs.get(dos_fs_id).read())\n",
    "dos_dict = json.loads(dos_json.decode())\n",
    "\n",
    "dos = Dos.from_dict(dos_dict)"
   ]
  },
  {
   "cell_type": "markdown",
   "metadata": {},
   "source": [
    "# Plot DOS\n",
    "\n",
    "Note: pip install prettyplotlib palettable cycler"
   ]
  },
  {
   "cell_type": "code",
   "execution_count": 29,
   "metadata": {
    "collapsed": false
   },
   "outputs": [
    {
     "name": "stderr",
     "output_type": "stream",
     "text": [
      "/home/ray/Software/vnv2/local/lib/python2.7/site-packages/matplotlib/__init__.py:872: UserWarning: axes.color_cycle is deprecated and replaced with axes.prop_cycle; please use the latter.\n",
      "  warnings.warn(self.msg_depr % (key, alt_key))\n"
     ]
    },
    {
     "data": {
      "image/png": "[encoded data removed]",
      "text/plain": [
       "<matplotlib.figure.Figure at 0x7fd804e920d0>"
      ]
     },
     "metadata": {},
     "output_type": "display_data"
    }
   ],
   "source": [
    "%matplotlib inline\n",
    "\n",
    "from pymatgen.electronic_structure.plotter import DosPlotter\n",
    "\n",
    "dos_plotter = DosPlotter()\n",
    "dos_plotter.add_dos(\"Si\",dos)\n",
    "dos_plotter.show()"
   ]
  },
  {
   "cell_type": "code",
   "execution_count": null,
   "metadata": {
    "collapsed": true
   },
   "outputs": [],
   "source": []
  }
 ],
 "metadata": {
  "kernelspec": {
   "display_name": "Python 2",
   "language": "python",
   "name": "python2"
  },
  "language_info": {
   "codemirror_mode": {
    "name": "ipython",
    "version": 2
   },
   "file_extension": ".py",
   "mimetype": "text/x-python",
   "name": "python",
   "nbconvert_exporter": "python",
   "pygments_lexer": "ipython2",
   "version": "2.7.11+"
  },
  "widgets": {
   "state": {},
   "version": "1.1.2"
  }
 },
 "nbformat": 4,
 "nbformat_minor": 0
}
