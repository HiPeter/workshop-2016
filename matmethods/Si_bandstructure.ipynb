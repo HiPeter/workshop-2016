{
 "cells": [
  {
   "cell_type": "code",
   "execution_count": 1,
   "metadata": {
    "collapsed": true
   },
   "outputs": [],
   "source": [
    "import os\n",
    "import json\n",
    "\n",
    "from pymongo import MongoClient"
   ]
  },
  {
   "cell_type": "markdown",
   "metadata": {},
   "source": [
    "Set environment variables and setup simulated vasp run"
   ]
  },
  {
   "cell_type": "code",
   "execution_count": 2,
   "metadata": {
    "collapsed": false
   },
   "outputs": [],
   "source": [
    "#set the path to vasp pseudopotential files\n",
    "os.environ[\"VASP_PSP_DIR\"] = os.path.join(os.getcwd(), \"Si_bandstructure_runs\")"
   ]
  },
  {
   "cell_type": "markdown",
   "metadata": {},
   "source": [
    "# Structure and input set"
   ]
  },
  {
   "cell_type": "code",
   "execution_count": 3,
   "metadata": {
    "collapsed": false
   },
   "outputs": [],
   "source": [
    "from pymatgen.util.testing import PymatgenTest\n",
    "from pymatgen.io.vasp.sets import MPRelaxSet\n",
    "\n",
    "struct_si = PymatgenTest.get_structure(\"Si\")\n",
    "vis = MPRelaxSet(struct_si, force_gamma=True)"
   ]
  },
  {
   "cell_type": "markdown",
   "metadata": {},
   "source": [
    "# Define Fireworks and Workflow\n",
    "\n",
    "The workflow consists of  3 fireworks:\n",
    "- structure optimization\n",
    "- static calculation\n",
    "- refined band structure calculation"
   ]
  },
  {
   "cell_type": "code",
   "execution_count": 4,
   "metadata": {
    "collapsed": false
   },
   "outputs": [],
   "source": [
    "from fireworks import Workflow\n",
    "from matmethods.vasp.fireworks.core import OptimizeFW, StaticFW, NonSCFFW\n",
    "\n",
    "fw1 = OptimizeFW(struct_si, vasp_input_set=vis, vasp_cmd=None, db_file=\">>db_file<<\")\n",
    "fw2 = StaticFW(struct_si, vasp_input_set=vis, vasp_cmd=None, db_file=\">>db_file<<\", parents=[fw1])\n",
    "fw3 = NonSCFFW(struct_si, vasp_cmd=None, db_file=\">>db_file<<\", parents=[fw2], mode=\"uniform\")\n",
    "#fw4 = NonSCFFW(struct_si, vasp_cmd=None, db_file=\">>db_file<<\", parents=[fw2], mode=\"line\")\n",
    "\n",
    "fws = [fw1, fw2, fw3]\n",
    "\n",
    "wf = Workflow(fws)"
   ]
  },
  {
   "cell_type": "markdown",
   "metadata": {},
   "source": [
    "# Emulate VASP"
   ]
  },
  {
   "cell_type": "code",
   "execution_count": 5,
   "metadata": {
    "collapsed": true
   },
   "outputs": [],
   "source": [
    "from matmethods.vasp.vasp_powerups import use_fake_vasp\n",
    "\n",
    "reference_dir = os.path.join(os.getcwd(), \"Si_bandstructure_runs\")\n",
    "#reference_dir = os.path.abspath(os.path.join(\"..\",\"..\",\"matproj/MatMethods/matmethods/vasp/tests\", \"reference_files\"))\n",
    "\n",
    "si_ref_dirs = {\"structure optimization\": os.path.join(reference_dir, \"Si_structure_optimization\"),\n",
    "             \"static\": os.path.join(reference_dir, \"Si_static\"),\n",
    "             \"nscf uniform\": os.path.join(reference_dir, \"Si_nscf_uniform\"),\n",
    "             \"nscf line\": os.path.join(reference_dir, \"Si_nscf_line\")}\n",
    "\n",
    "wf_fake = use_fake_vasp(wf, si_ref_dirs)"
   ]
  },
  {
   "cell_type": "code",
   "execution_count": 6,
   "metadata": {
    "collapsed": false
   },
   "outputs": [
    {
     "name": "stdout",
     "output_type": "stream",
     "text": [
      "3\n"
     ]
    }
   ],
   "source": [
    "# total number of fireworks in the workflow\n",
    "print len(wf_fake.as_dict()[\"fws\"])"
   ]
  },
  {
   "cell_type": "markdown",
   "metadata": {},
   "source": [
    "# Connect to Launchpad and reset"
   ]
  },
  {
   "cell_type": "code",
   "execution_count": 7,
   "metadata": {
    "collapsed": false
   },
   "outputs": [
    {
     "name": "stdout",
     "output_type": "stream",
     "text": [
      "2016-08-04 12:19:14,806 INFO Performing db tune-up\n",
      "2016-08-04 12:19:14,818 INFO LaunchPad was RESET.\n"
     ]
    }
   ],
   "source": [
    "import datetime\n",
    "from fireworks import LaunchPad\n",
    "\n",
    "lp = LaunchPad.from_file(\"my_launchpad.yaml\")\n",
    "lp.reset(datetime.datetime.now().strftime('%Y-%m-%d'))"
   ]
  },
  {
   "cell_type": "markdown",
   "metadata": {},
   "source": [
    "# Add Workflow"
   ]
  },
  {
   "cell_type": "code",
   "execution_count": 8,
   "metadata": {
    "collapsed": false
   },
   "outputs": [
    {
     "name": "stdout",
     "output_type": "stream",
     "text": [
      "2016-08-04 12:19:16,193 INFO Added a workflow. id_map: {-1: 3, -3: 1, -2: 2}\n"
     ]
    },
    {
     "data": {
      "text/plain": [
       "{-3: 1, -2: 2, -1: 3}"
      ]
     },
     "execution_count": 8,
     "metadata": {},
     "output_type": "execute_result"
    }
   ],
   "source": [
    "lp.add_wf(wf_fake)"
   ]
  },
  {
   "cell_type": "code",
   "execution_count": 9,
   "metadata": {
    "collapsed": false
   },
   "outputs": [],
   "source": [
    "def get_status():\n",
    "    for id in lp.get_fw_ids():\n",
    "        fw = lp.get_fw_by_id(id)\n",
    "        print \"Name:{}, State:{}\".format(fw.name, fw.state)\n",
    "\n",
    "def set_launch_dir(launch_dir):\n",
    "    os.mkdir(launch_dir)\n",
    "    os.chdir(launch_dir)"
   ]
  },
  {
   "cell_type": "markdown",
   "metadata": {},
   "source": [
    "print firework names and their states"
   ]
  },
  {
   "cell_type": "code",
   "execution_count": 10,
   "metadata": {
    "collapsed": false
   },
   "outputs": [
    {
     "name": "stdout",
     "output_type": "stream",
     "text": [
      "Name:Si-nscf uniform, State:WAITING\n",
      "Name:Si-static, State:WAITING\n",
      "Name:Si-structure optimization, State:READY\n"
     ]
    }
   ],
   "source": [
    "get_status()"
   ]
  },
  {
   "cell_type": "markdown",
   "metadata": {},
   "source": [
    "# Launch Structure optimization firework"
   ]
  },
  {
   "cell_type": "code",
   "execution_count": 11,
   "metadata": {
    "collapsed": false
   },
   "outputs": [],
   "source": [
    "from fireworks import FWorker\n",
    "from fireworks.core.rocket_launcher import rapidfire, launch_rocket\n",
    "\n",
    "db_file = os.path.join(os.getcwd(), \"db.json\")\n",
    "#rapidfire(lp, fworker=FWorker(env={\"db_file\": db_file}))"
   ]
  },
  {
   "cell_type": "code",
   "execution_count": 12,
   "metadata": {
    "collapsed": false
   },
   "outputs": [
    {
     "name": "stdout",
     "output_type": "stream",
     "text": [
      "2016-08-04 12:19:22,939 INFO Launching Rocket\n",
      "2016-08-04 12:19:23,177 INFO RUNNING fw_id: 3 in directory: /home/ray/Software/workshop-2016/matmethods/structure_optimization\n",
      "2016-08-04 12:19:23,180 INFO Task started: {{matmethods.vasp.firetasks.write_inputs.WriteVaspFromIOSet}}.\n",
      "2016-08-04 12:19:23,197 INFO Task completed: {{matmethods.vasp.firetasks.write_inputs.WriteVaspFromIOSet}} \n",
      "2016-08-04 12:19:23,198 INFO Task started: {{matmethods.vasp.firetasks.run_calc.RunVaspFake}}.\n",
      "2016-08-04 12:19:23,234 INFO matmethods.vasp.firetasks.run_calc RunVaspFake: verified inputs successfully\n",
      "2016-08-04 12:19:23,243 INFO matmethods.vasp.firetasks.run_calc RunVaspFake: ran fake VASP, generated outputs\n",
      "2016-08-04 12:19:23,244 INFO Task completed: {{matmethods.vasp.firetasks.run_calc.RunVaspFake}} \n",
      "2016-08-04 12:19:23,246 INFO Task started: {{matmethods.common.firetasks.glue_tasks.PassCalcLocs}}.\n",
      "2016-08-04 12:19:23,251 INFO Task completed: {{matmethods.common.firetasks.glue_tasks.PassCalcLocs}} \n",
      "2016-08-04 12:19:23,253 INFO Task started: {{matmethods.vasp.firetasks.parse_outputs.VaspToDbTask}}.\n",
      "2016-08-04 12:19:23,255 INFO matmethods.vasp.firetasks.parse_outputs PARSING DIRECTORY: /home/ray/Software/workshop-2016/matmethods/structure_optimization\n",
      "2016-08-04 12:19:23,257 INFO matmethods.vasp.drones Getting task doc for base dir :/home/ray/Software/workshop-2016/matmethods/structure_optimization\n",
      "2016-08-04 12:19:23,430 INFO matmethods.vasp.drones Post-processing dir:/home/ray/Software/workshop-2016/matmethods/structure_optimization\n",
      "2016-08-04 12:19:23,432 WARNING matmethods.vasp.drones Transformations file does not exist.\n",
      "2016-08-04 12:19:23,436 INFO matmethods.vasp.drones Post-processed /home/ray/Software/workshop-2016/matmethods/structure_optimization\n",
      "2016-08-04 12:19:23,481 INFO matmethods.vasp.database Inserting eclipse:/home/ray/Software/workshop-2016/matmethods/structure_optimization with taskid = 60\n",
      "2016-08-04 12:19:23,525 INFO matmethods.vasp.firetasks.parse_outputs Finished parsing with task_id: 60\n",
      "2016-08-04 12:19:23,528 INFO Task completed: {{matmethods.vasp.firetasks.parse_outputs.VaspToDbTask}} \n",
      "2016-08-04 12:19:23,750 INFO Rocket finished\n"
     ]
    },
    {
     "data": {
      "text/plain": [
       "True"
      ]
     },
     "execution_count": 12,
     "metadata": {},
     "output_type": "execute_result"
    }
   ],
   "source": [
    "set_launch_dir(\"structure_optimization\")\n",
    "launch_rocket(lp, fworker=FWorker(env={\"db_file\": db_file}))"
   ]
  },
  {
   "cell_type": "code",
   "execution_count": 13,
   "metadata": {
    "collapsed": false
   },
   "outputs": [
    {
     "name": "stdout",
     "output_type": "stream",
     "text": [
      "Name:Si-nscf uniform, State:WAITING\n",
      "Name:Si-static, State:READY\n",
      "Name:Si-structure optimization, State:COMPLETED\n"
     ]
    }
   ],
   "source": [
    "get_status()"
   ]
  },
  {
   "cell_type": "markdown",
   "metadata": {},
   "source": [
    "# Launch static vasp calculation firework"
   ]
  },
  {
   "cell_type": "code",
   "execution_count": 14,
   "metadata": {
    "collapsed": false
   },
   "outputs": [
    {
     "name": "stdout",
     "output_type": "stream",
     "text": [
      "2016-08-04 12:19:30,116 INFO Launching Rocket\n",
      "2016-08-04 12:19:30,479 INFO RUNNING fw_id: 2 in directory: /home/ray/Software/workshop-2016/matmethods/static\n",
      "2016-08-04 12:19:30,481 INFO Task started: {{matmethods.vasp.firetasks.glue_tasks.CopyVaspOutputs}}.\n",
      "2016-08-04 12:19:30,532 INFO Task completed: {{matmethods.vasp.firetasks.glue_tasks.CopyVaspOutputs}} \n",
      "2016-08-04 12:19:30,532 INFO Task started: {{matmethods.vasp.firetasks.write_inputs.WriteVaspStaticFromPrev}}.\n",
      "2016-08-04 12:19:30,589 INFO Task completed: {{matmethods.vasp.firetasks.write_inputs.WriteVaspStaticFromPrev}} \n",
      "2016-08-04 12:19:30,590 INFO Task started: {{matmethods.vasp.firetasks.run_calc.RunVaspFake}}.\n",
      "2016-08-04 12:19:30,617 INFO matmethods.vasp.firetasks.run_calc RunVaspFake: verified inputs successfully\n",
      "2016-08-04 12:19:30,635 INFO matmethods.vasp.firetasks.run_calc RunVaspFake: ran fake VASP, generated outputs\n",
      "2016-08-04 12:19:30,636 INFO Task completed: {{matmethods.vasp.firetasks.run_calc.RunVaspFake}} \n",
      "2016-08-04 12:19:30,638 INFO Task started: {{matmethods.common.firetasks.glue_tasks.PassCalcLocs}}.\n",
      "2016-08-04 12:19:30,639 INFO Task completed: {{matmethods.common.firetasks.glue_tasks.PassCalcLocs}} \n",
      "2016-08-04 12:19:30,640 INFO Task started: {{matmethods.vasp.firetasks.parse_outputs.VaspToDbTask}}.\n",
      "2016-08-04 12:19:30,641 INFO matmethods.vasp.firetasks.parse_outputs PARSING DIRECTORY: /home/ray/Software/workshop-2016/matmethods/static\n",
      "2016-08-04 12:19:30,642 INFO matmethods.vasp.drones Getting task doc for base dir :/home/ray/Software/workshop-2016/matmethods/static\n",
      "2016-08-04 12:19:30,784 INFO matmethods.vasp.drones Post-processing dir:/home/ray/Software/workshop-2016/matmethods/static\n",
      "2016-08-04 12:19:30,785 WARNING matmethods.vasp.drones Transformations file does not exist.\n",
      "2016-08-04 12:19:30,787 INFO matmethods.vasp.drones Post-processed /home/ray/Software/workshop-2016/matmethods/static\n",
      "2016-08-04 12:19:30,799 INFO matmethods.vasp.database Updating eclipse:/home/ray/Software/workshop-2016/matmethods/static with taskid = 7\n",
      "2016-08-04 12:19:30,840 INFO matmethods.vasp.firetasks.parse_outputs Finished parsing with task_id: 7\n",
      "2016-08-04 12:19:30,842 INFO Task completed: {{matmethods.vasp.firetasks.parse_outputs.VaspToDbTask}} \n",
      "2016-08-04 12:19:31,043 INFO Rocket finished\n"
     ]
    },
    {
     "data": {
      "text/plain": [
       "True"
      ]
     },
     "execution_count": 14,
     "metadata": {},
     "output_type": "execute_result"
    }
   ],
   "source": [
    "set_launch_dir(\"../static\")\n",
    "\n",
    "launch_rocket(lp, fworker=FWorker(env={\"db_file\": db_file}))"
   ]
  },
  {
   "cell_type": "code",
   "execution_count": 15,
   "metadata": {
    "collapsed": false
   },
   "outputs": [
    {
     "name": "stdout",
     "output_type": "stream",
     "text": [
      "Name:Si-nscf uniform, State:READY\n",
      "Name:Si-static, State:COMPLETED\n",
      "Name:Si-structure optimization, State:COMPLETED\n"
     ]
    }
   ],
   "source": [
    "get_status()"
   ]
  },
  {
   "cell_type": "markdown",
   "metadata": {},
   "source": [
    "# Launch vasp bandstructure calculation firework"
   ]
  },
  {
   "cell_type": "code",
   "execution_count": 16,
   "metadata": {
    "collapsed": false
   },
   "outputs": [
    {
     "name": "stdout",
     "output_type": "stream",
     "text": [
      "2016-08-04 12:19:36,011 INFO Launching Rocket\n",
      "2016-08-04 12:19:36,260 INFO RUNNING fw_id: 1 in directory: /home/ray/Software/workshop-2016/matmethods/bandstructure\n",
      "2016-08-04 12:19:36,264 INFO Task started: {{matmethods.vasp.firetasks.glue_tasks.CopyVaspOutputs}}.\n",
      "2016-08-04 12:19:36,718 INFO Task completed: {{matmethods.vasp.firetasks.glue_tasks.CopyVaspOutputs}} \n",
      "2016-08-04 12:19:36,719 INFO Task started: {{matmethods.vasp.firetasks.write_inputs.WriteVaspNSCFFromPrev}}.\n",
      "2016-08-04 12:19:36,857 INFO Task completed: {{matmethods.vasp.firetasks.write_inputs.WriteVaspNSCFFromPrev}} \n",
      "2016-08-04 12:19:36,858 INFO Task started: {{matmethods.vasp.firetasks.run_calc.RunVaspFake}}.\n",
      "2016-08-04 12:19:36,890 INFO matmethods.vasp.firetasks.run_calc RunVaspFake: verified inputs successfully\n",
      "2016-08-04 12:19:36,900 INFO matmethods.vasp.firetasks.run_calc RunVaspFake: ran fake VASP, generated outputs\n",
      "2016-08-04 12:19:36,901 INFO Task completed: {{matmethods.vasp.firetasks.run_calc.RunVaspFake}} \n",
      "2016-08-04 12:19:36,902 INFO Task started: {{matmethods.common.firetasks.glue_tasks.PassCalcLocs}}.\n",
      "2016-08-04 12:19:36,903 INFO Task completed: {{matmethods.common.firetasks.glue_tasks.PassCalcLocs}} \n",
      "2016-08-04 12:19:36,904 INFO Task started: {{matmethods.vasp.firetasks.parse_outputs.VaspToDbTask}}.\n",
      "2016-08-04 12:19:36,904 INFO matmethods.vasp.firetasks.parse_outputs PARSING DIRECTORY: /home/ray/Software/workshop-2016/matmethods/bandstructure\n",
      "2016-08-04 12:19:36,905 INFO matmethods.vasp.drones Getting task doc for base dir :/home/ray/Software/workshop-2016/matmethods/bandstructure\n",
      "2016-08-04 12:19:38,739 INFO matmethods.vasp.drones Post-processing dir:/home/ray/Software/workshop-2016/matmethods/bandstructure\n",
      "2016-08-04 12:19:38,740 WARNING matmethods.vasp.drones Transformations file does not exist.\n",
      "2016-08-04 12:19:38,742 INFO matmethods.vasp.drones Post-processed /home/ray/Software/workshop-2016/matmethods/bandstructure\n",
      "2016-08-04 12:19:38,933 INFO matmethods.vasp.database Updating eclipse:/home/ray/Software/workshop-2016/matmethods/bandstructure with taskid = 8\n",
      "2016-08-04 12:19:38,976 INFO matmethods.vasp.firetasks.parse_outputs Finished parsing with task_id: 8\n",
      "2016-08-04 12:19:38,978 INFO Task completed: {{matmethods.vasp.firetasks.parse_outputs.VaspToDbTask}} \n",
      "2016-08-04 12:19:39,153 INFO Rocket finished\n"
     ]
    },
    {
     "data": {
      "text/plain": [
       "True"
      ]
     },
     "execution_count": 16,
     "metadata": {},
     "output_type": "execute_result"
    }
   ],
   "source": [
    "set_launch_dir(\"../bandstructure\")\n",
    "\n",
    "launch_rocket(lp, fworker=FWorker(env={\"db_file\": db_file}))"
   ]
  },
  {
   "cell_type": "markdown",
   "metadata": {},
   "source": [
    "# Retrieve and Verify"
   ]
  },
  {
   "cell_type": "code",
   "execution_count": 17,
   "metadata": {
    "collapsed": true
   },
   "outputs": [],
   "source": [
    "def get_task_collection(db_file):\n",
    "    \"\"\"\n",
    "    connect to the database and return task collection\n",
    "    \"\"\"\n",
    "    with open(db_file) as f:\n",
    "        creds = json.loads(f.read())\n",
    "        conn = MongoClient(creds[\"host\"], creds[\"port\"])\n",
    "        db = conn[creds[\"database\"]]\n",
    "        if \"admin_user\" in creds:\n",
    "            db.authenticate(creds[\"admin_user\"], creds[\"admin_password\"])\n",
    "        return db[creds[\"collection\"]]"
   ]
  },
  {
   "cell_type": "code",
   "execution_count": 18,
   "metadata": {
    "collapsed": false
   },
   "outputs": [],
   "source": [
    "from pymongo import DESCENDING\n",
    "\n",
    "d1 = get_task_collection(db_file).find_one({\"task_label\": \"structure optimization\"}, sort=[(\"_id\", DESCENDING)])\n",
    "\n",
    "d2 = get_task_collection(db_file).find_one({\"task_label\": \"static\"}, sort=[(\"_id\", DESCENDING)])\n",
    "\n",
    "d3 = get_task_collection(db_file).find_one({\"task_label\": \"nscf uniform\"}, sort=[(\"_id\", DESCENDING)])\n",
    "\n",
    "d4 = get_task_collection(db_file).find_one({\"task_label\": \"nscf line\"}, sort=[(\"_id\", DESCENDING)])"
   ]
  },
  {
   "cell_type": "code",
   "execution_count": 19,
   "metadata": {
    "collapsed": false
   },
   "outputs": [
    {
     "data": {
      "text/plain": [
       "0.6500000000000004"
      ]
     },
     "execution_count": 19,
     "metadata": {},
     "output_type": "execute_result"
    }
   ],
   "source": [
    "d1[\"output\"][\"bandgap\"] # 0.65"
   ]
  },
  {
   "cell_type": "code",
   "execution_count": null,
   "metadata": {
    "collapsed": true
   },
   "outputs": [],
   "source": []
  }
 ],
 "metadata": {
  "kernelspec": {
   "display_name": "Python 2",
   "language": "python",
   "name": "python2"
  },
  "language_info": {
   "codemirror_mode": {
    "name": "ipython",
    "version": 2
   },
   "file_extension": ".py",
   "mimetype": "text/x-python",
   "name": "python",
   "nbconvert_exporter": "python",
   "pygments_lexer": "ipython2",
   "version": "2.7.11+"
  },
  "widgets": {
   "state": {},
   "version": "1.1.2"
  }
 },
 "nbformat": 4,
 "nbformat_minor": 0
}
