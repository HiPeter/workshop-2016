{
 "cells": [
  {
   "cell_type": "code",
   "execution_count": 1,
   "metadata": {
    "collapsed": true
   },
   "outputs": [],
   "source": [
    "import os\n",
    "import json\n",
    "\n",
    "from pymongo import MongoClient"
   ]
  },
  {
   "cell_type": "markdown",
   "metadata": {},
   "source": [
    "# Prep\n",
    "\n",
    "Set environment variables and setup simulated vasp run"
   ]
  },
  {
   "cell_type": "code",
   "execution_count": 2,
   "metadata": {
    "collapsed": false
   },
   "outputs": [],
   "source": [
    "#set the path to vasp pseudopotential files\n",
    "#os.environ[\"VASP_PSP_DIR\"] = os.path.join(os.getcwd(), \"reference_files\")"
   ]
  },
  {
   "cell_type": "markdown",
   "metadata": {},
   "source": [
    "# Structure and input set"
   ]
  },
  {
   "cell_type": "code",
   "execution_count": 3,
   "metadata": {
    "collapsed": false
   },
   "outputs": [],
   "source": [
    "from pymatgen.util.testing import PymatgenTest\n",
    "from pymatgen.io.vasp.sets import MPRelaxSet\n",
    "\n",
    "struct_si = PymatgenTest.get_structure(\"Si\")\n",
    "vis = MPRelaxSet(struct_si, force_gamma=True)"
   ]
  },
  {
   "cell_type": "markdown",
   "metadata": {},
   "source": [
    "# Define Fireworks and Workflow"
   ]
  },
  {
   "cell_type": "code",
   "execution_count": 4,
   "metadata": {
    "collapsed": false
   },
   "outputs": [],
   "source": [
    "from fireworks import Workflow\n",
    "from matmethods.vasp.fireworks.core import OptimizeFW, StaticFW, NonSCFFW\n",
    "\n",
    "fw1 = OptimizeFW(struct_si, vasp_input_set=vis, vasp_cmd=None, db_file=\">>db_file<<\")\n",
    "fw2 = StaticFW(struct_si, vasp_input_set=vis, vasp_cmd=None, db_file=\">>db_file<<\", parents=[fw1])\n",
    "fw3 = NonSCFFW(struct_si, vasp_cmd=None, db_file=\">>db_file<<\", parents=[fw2], mode=\"uniform\")\n",
    "fw4 = NonSCFFW(struct_si, vasp_cmd=None, db_file=\">>db_file<<\", parents=[fw2], mode=\"line\")\n",
    "\n",
    "fws = [fw1, fw2, fw3, fw4]\n",
    "\n",
    "wf = Workflow(fws)"
   ]
  },
  {
   "cell_type": "code",
   "execution_count": 5,
   "metadata": {
    "collapsed": true
   },
   "outputs": [],
   "source": [
    "from matmethods.vasp.vasp_powerups import use_fake_vasp\n",
    "\n",
    "#reference_dir = os.path.join(os.getcwd(), \"reference_files\")\n",
    "reference_dir = os.path.abspath(os.path.join(\"..\",\"..\",\"matproj/MatMethods/matmethods/vasp/tests\", \n",
    "                                             \"reference_files\"))\n",
    "\n",
    "si_ref_dirs = {\"structure optimization\": os.path.join(reference_dir, \"Si_structure_optimization\"),\n",
    "             \"static\": os.path.join(reference_dir, \"Si_static\"),\n",
    "             \"nscf uniform\": os.path.join(reference_dir, \"Si_nscf_uniform\"),\n",
    "             \"nscf line\": os.path.join(reference_dir, \"Si_nscf_line\")}\n",
    "\n",
    "wf_fake = use_fake_vasp(wf, si_ref_dirs)"
   ]
  },
  {
   "cell_type": "markdown",
   "metadata": {},
   "source": [
    "# Connect to Launchpad and reset"
   ]
  },
  {
   "cell_type": "code",
   "execution_count": 6,
   "metadata": {
    "collapsed": false
   },
   "outputs": [
    {
     "name": "stdout",
     "output_type": "stream",
     "text": [
      "2016-08-03 07:53:34,234 INFO Performing db tune-up\n",
      "2016-08-03 07:53:34,437 INFO LaunchPad was RESET.\n"
     ]
    }
   ],
   "source": [
    "import datetime\n",
    "from fireworks import LaunchPad\n",
    "\n",
    "lp = LaunchPad.from_file(\"my_launchpad.yaml\")\n",
    "lp.reset(datetime.datetime.now().strftime('%Y-%m-%d'))"
   ]
  },
  {
   "cell_type": "markdown",
   "metadata": {},
   "source": [
    "# Submit Workflow"
   ]
  },
  {
   "cell_type": "code",
   "execution_count": 7,
   "metadata": {
    "collapsed": false
   },
   "outputs": [
    {
     "name": "stdout",
     "output_type": "stream",
     "text": [
      "2016-08-03 07:53:36,388 INFO Added a workflow. id_map: {-1: 4, -4: 1, -3: 2, -2: 3}\n"
     ]
    },
    {
     "data": {
      "text/plain": [
       "{-4: 1, -3: 2, -2: 3, -1: 4}"
      ]
     },
     "execution_count": 7,
     "metadata": {},
     "output_type": "execute_result"
    }
   ],
   "source": [
    "lp.add_wf(wf_fake)"
   ]
  },
  {
   "cell_type": "markdown",
   "metadata": {},
   "source": [
    "# Run"
   ]
  },
  {
   "cell_type": "code",
   "execution_count": 8,
   "metadata": {
    "collapsed": false
   },
   "outputs": [
    {
     "name": "stdout",
     "output_type": "stream",
     "text": [
      "2016-08-03 07:53:38,050 INFO Created new dir /home/ray/Software/workshop-2016/matmethods/launcher_2016-08-03-14-53-38-050499\n",
      "2016-08-03 07:53:38,051 INFO Launching Rocket\n",
      "2016-08-03 07:53:38,101 INFO RUNNING fw_id: 4 in directory: /home/ray/Software/workshop-2016/matmethods/launcher_2016-08-03-14-53-38-050499\n",
      "2016-08-03 07:53:38,106 INFO Task started: {{matmethods.vasp.firetasks.write_inputs.WriteVaspFromIOSet}}.\n",
      "2016-08-03 07:53:38,132 INFO Task completed: {{matmethods.vasp.firetasks.write_inputs.WriteVaspFromIOSet}} \n",
      "2016-08-03 07:53:38,134 INFO Task started: {{matmethods.vasp.firetasks.run_calc.RunVaspFake}}.\n",
      "2016-08-03 07:53:38,168 INFO matmethods.vasp.firetasks.run_calc RunVaspFake: verified inputs successfully\n",
      "2016-08-03 07:53:38,180 INFO matmethods.vasp.firetasks.run_calc RunVaspFake: ran fake VASP, generated outputs\n",
      "2016-08-03 07:53:38,181 INFO Task completed: {{matmethods.vasp.firetasks.run_calc.RunVaspFake}} \n",
      "2016-08-03 07:53:38,182 INFO Task started: {{matmethods.common.firetasks.glue_tasks.PassCalcLocs}}.\n",
      "2016-08-03 07:53:38,184 INFO Task completed: {{matmethods.common.firetasks.glue_tasks.PassCalcLocs}} \n",
      "2016-08-03 07:53:38,186 INFO Task started: {{matmethods.vasp.firetasks.parse_outputs.VaspToDbTask}}.\n",
      "2016-08-03 07:53:38,187 INFO matmethods.vasp.firetasks.parse_outputs PARSING DIRECTORY: /home/ray/Software/workshop-2016/matmethods/launcher_2016-08-03-14-53-38-050499\n",
      "2016-08-03 07:53:38,188 INFO matmethods.vasp.drones Getting task doc for base dir :/home/ray/Software/workshop-2016/matmethods/launcher_2016-08-03-14-53-38-050499\n",
      "2016-08-03 07:53:38,365 INFO matmethods.vasp.drones Post-processing dir:/home/ray/Software/workshop-2016/matmethods/launcher_2016-08-03-14-53-38-050499\n",
      "2016-08-03 07:53:38,374 WARNING matmethods.vasp.drones Transformations file does not exist.\n",
      "2016-08-03 07:53:38,376 INFO matmethods.vasp.drones Post-processed /home/ray/Software/workshop-2016/matmethods/launcher_2016-08-03-14-53-38-050499\n",
      "2016-08-03 07:53:38,481 INFO matmethods.vasp.database Inserting eclipse:/home/ray/Software/workshop-2016/matmethods/launcher_2016-08-03-14-53-38-050499 with taskid = 1\n",
      "2016-08-03 07:53:38,498 INFO matmethods.vasp.firetasks.parse_outputs Finished parsing with task_id: 1\n",
      "2016-08-03 07:53:38,499 INFO Task completed: {{matmethods.vasp.firetasks.parse_outputs.VaspToDbTask}} \n",
      "2016-08-03 07:53:38,552 INFO Rocket finished\n",
      "2016-08-03 07:53:38,559 INFO Created new dir /home/ray/Software/workshop-2016/matmethods/launcher_2016-08-03-14-53-38-559477\n",
      "2016-08-03 07:53:38,560 INFO Launching Rocket\n",
      "2016-08-03 07:53:38,598 INFO RUNNING fw_id: 3 in directory: /home/ray/Software/workshop-2016/matmethods/launcher_2016-08-03-14-53-38-559477\n",
      "2016-08-03 07:53:38,601 INFO Task started: {{matmethods.vasp.firetasks.glue_tasks.CopyVaspOutputs}}.\n",
      "2016-08-03 07:53:38,657 INFO Task completed: {{matmethods.vasp.firetasks.glue_tasks.CopyVaspOutputs}} \n",
      "2016-08-03 07:53:38,658 INFO Task started: {{matmethods.vasp.firetasks.write_inputs.WriteVaspStaticFromPrev}}.\n",
      "2016-08-03 07:53:38,735 INFO Task completed: {{matmethods.vasp.firetasks.write_inputs.WriteVaspStaticFromPrev}} \n",
      "2016-08-03 07:53:38,736 INFO Task started: {{matmethods.vasp.firetasks.run_calc.RunVaspFake}}.\n",
      "2016-08-03 07:53:38,770 INFO matmethods.vasp.firetasks.run_calc RunVaspFake: verified inputs successfully\n",
      "2016-08-03 07:53:38,789 INFO matmethods.vasp.firetasks.run_calc RunVaspFake: ran fake VASP, generated outputs\n",
      "2016-08-03 07:53:38,791 INFO Task completed: {{matmethods.vasp.firetasks.run_calc.RunVaspFake}} \n",
      "2016-08-03 07:53:38,792 INFO Task started: {{matmethods.common.firetasks.glue_tasks.PassCalcLocs}}.\n",
      "2016-08-03 07:53:38,793 INFO Task completed: {{matmethods.common.firetasks.glue_tasks.PassCalcLocs}} \n",
      "2016-08-03 07:53:38,794 INFO Task started: {{matmethods.vasp.firetasks.parse_outputs.VaspToDbTask}}.\n",
      "2016-08-03 07:53:38,795 INFO matmethods.vasp.firetasks.parse_outputs PARSING DIRECTORY: /home/ray/Software/workshop-2016/matmethods/launcher_2016-08-03-14-53-38-559477\n",
      "2016-08-03 07:53:38,796 INFO matmethods.vasp.drones Getting task doc for base dir :/home/ray/Software/workshop-2016/matmethods/launcher_2016-08-03-14-53-38-559477\n",
      "2016-08-03 07:53:38,942 INFO matmethods.vasp.drones Post-processing dir:/home/ray/Software/workshop-2016/matmethods/launcher_2016-08-03-14-53-38-559477\n",
      "2016-08-03 07:53:38,944 WARNING matmethods.vasp.drones Transformations file does not exist.\n",
      "2016-08-03 07:53:38,950 INFO matmethods.vasp.drones Post-processed /home/ray/Software/workshop-2016/matmethods/launcher_2016-08-03-14-53-38-559477\n",
      "2016-08-03 07:53:38,961 INFO matmethods.vasp.database Inserting eclipse:/home/ray/Software/workshop-2016/matmethods/launcher_2016-08-03-14-53-38-559477 with taskid = 2\n",
      "2016-08-03 07:53:38,984 INFO matmethods.vasp.firetasks.parse_outputs Finished parsing with task_id: 2\n",
      "2016-08-03 07:53:38,986 INFO Task completed: {{matmethods.vasp.firetasks.parse_outputs.VaspToDbTask}} \n",
      "2016-08-03 07:53:39,035 INFO Rocket finished\n",
      "2016-08-03 07:53:39,039 INFO Created new dir /home/ray/Software/workshop-2016/matmethods/launcher_2016-08-03-14-53-39-039316\n",
      "2016-08-03 07:53:39,040 INFO Launching Rocket\n",
      "2016-08-03 07:53:39,076 INFO RUNNING fw_id: 2 in directory: /home/ray/Software/workshop-2016/matmethods/launcher_2016-08-03-14-53-39-039316\n",
      "2016-08-03 07:53:39,078 INFO Task started: {{matmethods.vasp.firetasks.glue_tasks.CopyVaspOutputs}}.\n",
      "2016-08-03 07:53:39,576 INFO Task completed: {{matmethods.vasp.firetasks.glue_tasks.CopyVaspOutputs}} \n",
      "2016-08-03 07:53:39,578 INFO Task started: {{matmethods.vasp.firetasks.write_inputs.WriteVaspNSCFFromPrev}}.\n",
      "2016-08-03 07:53:39,790 INFO Task completed: {{matmethods.vasp.firetasks.write_inputs.WriteVaspNSCFFromPrev}} \n",
      "2016-08-03 07:53:39,791 INFO Task started: {{matmethods.vasp.firetasks.run_calc.RunVaspFake}}.\n",
      "2016-08-03 07:53:39,819 INFO matmethods.vasp.firetasks.run_calc RunVaspFake: verified inputs successfully\n",
      "2016-08-03 07:53:39,827 INFO matmethods.vasp.firetasks.run_calc RunVaspFake: ran fake VASP, generated outputs\n",
      "2016-08-03 07:53:39,829 INFO Task completed: {{matmethods.vasp.firetasks.run_calc.RunVaspFake}} \n",
      "2016-08-03 07:53:39,830 INFO Task started: {{matmethods.common.firetasks.glue_tasks.PassCalcLocs}}.\n",
      "2016-08-03 07:53:39,832 INFO Task completed: {{matmethods.common.firetasks.glue_tasks.PassCalcLocs}} \n",
      "2016-08-03 07:53:39,832 INFO Task started: {{matmethods.vasp.firetasks.parse_outputs.VaspToDbTask}}.\n",
      "2016-08-03 07:53:39,834 INFO matmethods.vasp.firetasks.parse_outputs PARSING DIRECTORY: /home/ray/Software/workshop-2016/matmethods/launcher_2016-08-03-14-53-39-039316\n",
      "2016-08-03 07:53:39,836 INFO matmethods.vasp.drones Getting task doc for base dir :/home/ray/Software/workshop-2016/matmethods/launcher_2016-08-03-14-53-39-039316\n",
      "2016-08-03 07:53:41,594 INFO matmethods.vasp.drones Post-processing dir:/home/ray/Software/workshop-2016/matmethods/launcher_2016-08-03-14-53-39-039316\n",
      "2016-08-03 07:53:41,595 WARNING matmethods.vasp.drones Transformations file does not exist.\n",
      "2016-08-03 07:53:41,597 INFO matmethods.vasp.drones Post-processed /home/ray/Software/workshop-2016/matmethods/launcher_2016-08-03-14-53-39-039316\n",
      "2016-08-03 07:53:41,755 INFO matmethods.vasp.database Inserting eclipse:/home/ray/Software/workshop-2016/matmethods/launcher_2016-08-03-14-53-39-039316 with taskid = 3\n",
      "2016-08-03 07:53:41,771 INFO matmethods.vasp.firetasks.parse_outputs Finished parsing with task_id: 3\n",
      "2016-08-03 07:53:41,772 INFO Task completed: {{matmethods.vasp.firetasks.parse_outputs.VaspToDbTask}} \n",
      "2016-08-03 07:53:41,806 INFO Rocket finished\n",
      "2016-08-03 07:53:41,810 INFO Created new dir /home/ray/Software/workshop-2016/matmethods/launcher_2016-08-03-14-53-41-810763\n",
      "2016-08-03 07:53:41,811 INFO Launching Rocket\n",
      "2016-08-03 07:53:41,844 INFO RUNNING fw_id: 1 in directory: /home/ray/Software/workshop-2016/matmethods/launcher_2016-08-03-14-53-41-810763\n",
      "2016-08-03 07:53:41,847 INFO Task started: {{matmethods.vasp.firetasks.glue_tasks.CopyVaspOutputs}}.\n",
      "2016-08-03 07:53:42,314 INFO Task completed: {{matmethods.vasp.firetasks.glue_tasks.CopyVaspOutputs}} \n",
      "2016-08-03 07:53:42,315 INFO Task started: {{matmethods.vasp.firetasks.write_inputs.WriteVaspNSCFFromPrev}}.\n",
      "2016-08-03 07:53:42,451 INFO Task completed: {{matmethods.vasp.firetasks.write_inputs.WriteVaspNSCFFromPrev}} \n",
      "2016-08-03 07:53:42,452 INFO Task started: {{matmethods.vasp.firetasks.run_calc.RunVaspFake}}.\n",
      "2016-08-03 07:53:42,486 INFO matmethods.vasp.firetasks.run_calc RunVaspFake: verified inputs successfully\n",
      "2016-08-03 07:53:42,497 INFO matmethods.vasp.firetasks.run_calc RunVaspFake: ran fake VASP, generated outputs\n",
      "2016-08-03 07:53:42,498 INFO Task completed: {{matmethods.vasp.firetasks.run_calc.RunVaspFake}} \n",
      "2016-08-03 07:53:42,500 INFO Task started: {{matmethods.common.firetasks.glue_tasks.PassCalcLocs}}.\n",
      "2016-08-03 07:53:42,501 INFO Task completed: {{matmethods.common.firetasks.glue_tasks.PassCalcLocs}} \n",
      "2016-08-03 07:53:42,503 INFO Task started: {{matmethods.vasp.firetasks.parse_outputs.VaspToDbTask}}.\n",
      "2016-08-03 07:53:42,504 INFO matmethods.vasp.firetasks.parse_outputs PARSING DIRECTORY: /home/ray/Software/workshop-2016/matmethods/launcher_2016-08-03-14-53-41-810763\n",
      "2016-08-03 07:53:42,506 INFO matmethods.vasp.drones Getting task doc for base dir :/home/ray/Software/workshop-2016/matmethods/launcher_2016-08-03-14-53-41-810763\n",
      "2016-08-03 07:53:43,740 INFO matmethods.vasp.drones Post-processing dir:/home/ray/Software/workshop-2016/matmethods/launcher_2016-08-03-14-53-41-810763\n",
      "2016-08-03 07:53:43,741 WARNING matmethods.vasp.drones Transformations file does not exist.\n",
      "2016-08-03 07:53:43,743 INFO matmethods.vasp.drones Post-processed /home/ray/Software/workshop-2016/matmethods/launcher_2016-08-03-14-53-41-810763\n",
      "2016-08-03 07:53:43,789 INFO matmethods.vasp.database Inserting eclipse:/home/ray/Software/workshop-2016/matmethods/launcher_2016-08-03-14-53-41-810763 with taskid = 4\n",
      "2016-08-03 07:53:43,812 INFO matmethods.vasp.firetasks.parse_outputs Finished parsing with task_id: 4\n",
      "2016-08-03 07:53:43,813 INFO Task completed: {{matmethods.vasp.firetasks.parse_outputs.VaspToDbTask}} \n",
      "2016-08-03 07:53:43,852 INFO Rocket finished\n"
     ]
    }
   ],
   "source": [
    "from fireworks import FWorker\n",
    "from fireworks.core.rocket_launcher import rapidfire\n",
    "\n",
    "db_file = os.path.join(os.getcwd(), \"db.json\")\n",
    "rapidfire(lp, fworker=FWorker(env={\"db_file\": db_file}))"
   ]
  },
  {
   "cell_type": "markdown",
   "metadata": {},
   "source": [
    "# Retrieve and Verify"
   ]
  },
  {
   "cell_type": "code",
   "execution_count": 14,
   "metadata": {
    "collapsed": true
   },
   "outputs": [],
   "source": [
    "def get_task_collection(db_file):\n",
    "    \"\"\"\n",
    "    connect to the database and return task collection\n",
    "    \"\"\"\n",
    "    with open(db_file) as f:\n",
    "        creds = json.loads(f.read())\n",
    "        conn = MongoClient(creds[\"host\"], creds[\"port\"])\n",
    "        db = conn[creds[\"database\"]]\n",
    "        if \"admin_user\" in creds:\n",
    "            db.authenticate(creds[\"admin_user\"], creds[\"admin_password\"])\n",
    "        return db[creds[\"collection\"]]"
   ]
  },
  {
   "cell_type": "code",
   "execution_count": 15,
   "metadata": {
    "collapsed": false
   },
   "outputs": [],
   "source": [
    "from pymongo import DESCENDING\n",
    "\n",
    "d1 = get_task_collection(db_file).find_one({\"task_label\": \"structure optimization\"}, sort=[(\"_id\", DESCENDING)])\n",
    "\n",
    "d2 = get_task_collection(db_file).find_one({\"task_label\": \"static\"}, sort=[(\"_id\", DESCENDING)])\n",
    "\n",
    "d3 = get_task_collection(db_file).find_one({\"task_label\": \"nscf uniform\"}, sort=[(\"_id\", DESCENDING)])\n",
    "\n",
    "d4 = get_task_collection(db_file).find_one({\"task_label\": \"nscf line\"}, sort=[(\"_id\", DESCENDING)])"
   ]
  },
  {
   "cell_type": "code",
   "execution_count": 16,
   "metadata": {
    "collapsed": false
   },
   "outputs": [
    {
     "data": {
      "text/plain": [
       "0.6500000000000004"
      ]
     },
     "execution_count": 16,
     "metadata": {},
     "output_type": "execute_result"
    }
   ],
   "source": [
    "d1[\"output\"][\"bandgap\"] # 0.65"
   ]
  },
  {
   "cell_type": "code",
   "execution_count": null,
   "metadata": {
    "collapsed": true
   },
   "outputs": [],
   "source": []
  },
  {
   "cell_type": "markdown",
   "metadata": {},
   "source": [
    "# Debug"
   ]
  },
  {
   "cell_type": "code",
   "execution_count": 13,
   "metadata": {
    "collapsed": false
   },
   "outputs": [],
   "source": [
    "!rm -rf launcher*"
   ]
  }
 ],
 "metadata": {
  "kernelspec": {
   "display_name": "Python 2",
   "language": "python",
   "name": "python2"
  },
  "language_info": {
   "codemirror_mode": {
    "name": "ipython",
    "version": 2
   },
   "file_extension": ".py",
   "mimetype": "text/x-python",
   "name": "python",
   "nbconvert_exporter": "python",
   "pygments_lexer": "ipython2",
   "version": "2.7.11+"
  },
  "widgets": {
   "state": {},
   "version": "1.1.2"
  }
 },
 "nbformat": 4,
 "nbformat_minor": 0
}
