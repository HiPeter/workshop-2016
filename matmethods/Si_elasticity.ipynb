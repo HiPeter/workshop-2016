{
 "cells": [
  {
   "cell_type": "code",
   "execution_count": null,
   "metadata": {
    "collapsed": true
   },
   "outputs": [],
   "source": [
    "import os\n",
    "import json\n",
    "\n",
    "from pymongo import MongoClient"
   ]
  },
  {
   "cell_type": "markdown",
   "metadata": {},
   "source": [
    "# Prep\n",
    "\n",
    "Set environment variables and setup simulated vasp run"
   ]
  },
  {
   "cell_type": "code",
   "execution_count": null,
   "metadata": {
    "collapsed": false
   },
   "outputs": [],
   "source": [
    "#set the path to vasp pseudopotential files\n",
    "#os.environ[\"VASP_PSP_DIR\"] = os.path.join(os.getcwd(), \"reference_files\")"
   ]
  },
  {
   "cell_type": "markdown",
   "metadata": {},
   "source": [
    "# Structure and input set"
   ]
  },
  {
   "cell_type": "code",
   "execution_count": null,
   "metadata": {
    "collapsed": false
   },
   "outputs": [],
   "source": [
    "from pymatgen.util.testing import PymatgenTest\n",
    "from pymatgen.io.vasp.sets import MPRelaxSet\n",
    "\n",
    "struct_si = PymatgenTest.get_structure(\"Si\")\n",
    "vis = MPRelaxSet(struct_si, force_gamma=True)"
   ]
  },
  {
   "cell_type": "markdown",
   "metadata": {},
   "source": [
    "# Define Fireworks and Workflow"
   ]
  },
  {
   "cell_type": "code",
   "execution_count": null,
   "metadata": {
    "collapsed": false
   },
   "outputs": [],
   "source": [
    "from fireworks import Workflow\n",
    "from matmethods.vasp.fireworks.core import OptimizeFW, StaticFW, TransmuterFW\n",
    "\n",
    "\n",
    "vasp_cmd=None\n",
    "db_file=\">>db_file<<\"\n",
    "\n",
    "fws = []\n",
    "fw1 = OptimizeFW(struct_si, vasp_input_set=vis, vasp_cmd=vasp_cmd, db_file=db_file)\n",
    "fws.append(fw1)"
   ]
  },
  {
   "cell_type": "code",
   "execution_count": null,
   "metadata": {
    "collapsed": false
   },
   "outputs": [],
   "source": [
    "from pymatgen.analysis.elasticity.strain import Deformation\n",
    "from fireworks import Firework\n",
    "from matmethods.vasp.workflows.base.elastic import PassStressStrainData\n",
    "\n",
    "# Normal deformation\n",
    "normal_deformation = Deformation.from_index_amount((0,0), 0.01)\n",
    "\n",
    "#Shear\n",
    "#shear_deformation = Deformation.from_index_amount((0,1), 0.01)\n",
    "\n",
    "deformation_vasp_params = {\"user_incar_settings\": {\"ISIF\": 2, \"IBRION\": 2, \"NSW\": 99, \"LAECHG\": False,\n",
    "                                           \"LHVAR\": False, \"ALGO\": \"Fast\", \"LWAVE\": False}}\n",
    "    \n",
    "# deformation firework\n",
    "fw = TransmuterFW(name=\"normal deformation\",\n",
    "                  structure=struct_si,\n",
    "                  transformations=['DeformStructureTransformation'],\n",
    "                  transformation_params=[{\"deformation\": normal_deformation.tolist()}],\n",
    "                  copy_vasp_outputs=True,\n",
    "                  db_file=db_file,\n",
    "                  vasp_cmd=vasp_cmd,\n",
    "                  parents=fws[0],\n",
    "                  vasp_input_params=deformation_vasp_params\n",
    "                 )\n",
    "\n",
    "# add task to pass the stress strain data\n",
    "fw.spec['_tasks'].append(PassStressStrainData(deformation=normal_deformation.tolist()).to_dict())\n",
    "fws.append(fw)"
   ]
  },
  {
   "cell_type": "code",
   "execution_count": null,
   "metadata": {
    "collapsed": true
   },
   "outputs": [],
   "source": [
    "from matmethods.vasp.workflows.base.elastic import AnalyzeStressStrainData\n",
    "\n",
    "# stress-strain analyzer firework\n",
    "fws.append(Firework(AnalyzeStressStrainData(structure=struct_si, db_file=db_file),\n",
    "                    name=\"Analyze Elastic Data\", parents=fws[1:],\n",
    "                    spec={\"_allow_fizzled_parents\": True}))\n",
    "\n",
    "wfname = \"{}:{}\".format(struct_si.composition.reduced_formula, \"elastic constants\")\n",
    "\n",
    "wf = Workflow(fws, name=wfname)"
   ]
  },
  {
   "cell_type": "code",
   "execution_count": null,
   "metadata": {
    "collapsed": false
   },
   "outputs": [],
   "source": [
    "len(wf.as_dict()[\"fws\"])"
   ]
  },
  {
   "cell_type": "code",
   "execution_count": null,
   "metadata": {
    "collapsed": true
   },
   "outputs": [],
   "source": [
    "from matmethods.vasp.vasp_powerups import use_fake_vasp\n",
    "\n",
    "#reference_dir = os.path.join(os.getcwd(), \"reference_files\")\n",
    "reference_dir = os.path.abspath(os.path.join(\"..\",\"..\",\"matproj/MatMethods/matmethods/vasp/tests\", \n",
    "                                             \"reference_files\"))\n",
    "\n",
    "si_ref_dirs = {\"structure optimization\": os.path.join(reference_dir, \"Si_structure_optimization\"), \n",
    "               \"normal deformation\": os.path.join(reference_dir, \"Si_normal_deformation\")}\n",
    "\n",
    "wf_fake = use_fake_vasp(wf, si_ref_dirs)"
   ]
  },
  {
   "cell_type": "markdown",
   "metadata": {},
   "source": [
    "# Connect to Launchpad and reset"
   ]
  },
  {
   "cell_type": "code",
   "execution_count": null,
   "metadata": {
    "collapsed": false
   },
   "outputs": [],
   "source": [
    "import datetime\n",
    "from fireworks import LaunchPad\n",
    "\n",
    "lp = LaunchPad.from_file(\"my_launchpad.yaml\")\n",
    "lp.reset(datetime.datetime.now().strftime('%Y-%m-%d'))"
   ]
  },
  {
   "cell_type": "markdown",
   "metadata": {},
   "source": [
    "# Submit Workflow"
   ]
  },
  {
   "cell_type": "code",
   "execution_count": null,
   "metadata": {
    "collapsed": false
   },
   "outputs": [],
   "source": [
    "lp.add_wf(wf_fake)"
   ]
  },
  {
   "cell_type": "code",
   "execution_count": null,
   "metadata": {
    "collapsed": false
   },
   "outputs": [],
   "source": [
    "lp.get_fw_ids()"
   ]
  },
  {
   "cell_type": "markdown",
   "metadata": {},
   "source": [
    "# Run"
   ]
  },
  {
   "cell_type": "code",
   "execution_count": null,
   "metadata": {
    "collapsed": false
   },
   "outputs": [],
   "source": [
    "from fireworks import FWorker\n",
    "from fireworks.core.rocket_launcher import rapidfire, launch_rocket\n",
    "\n",
    "db_file = os.path.join(os.getcwd(), \"db.json\")\n",
    "#rapidfire(lp, fworker=FWorker(env={\"db_file\": db_file}))\n",
    "launch_rocket(lp, fworker=FWorker(env={\"db_file\": db_file}))"
   ]
  },
  {
   "cell_type": "code",
   "execution_count": null,
   "metadata": {
    "collapsed": false
   },
   "outputs": [],
   "source": [
    "for id in lp.get_fw_ids():\n",
    "    fw = lp.get_fw_by_id(id)\n",
    "    print fw.name, fw.fw_name, fw.state"
   ]
  },
  {
   "cell_type": "markdown",
   "metadata": {},
   "source": [
    "# Retrieve and Verify"
   ]
  },
  {
   "cell_type": "code",
   "execution_count": null,
   "metadata": {
    "collapsed": true
   },
   "outputs": [],
   "source": [
    "def get_task_collection(db_file):\n",
    "    \"\"\"\n",
    "    connect to the database and return task collection\n",
    "    \"\"\"\n",
    "    with open(db_file) as f:\n",
    "        creds = json.loads(f.read())\n",
    "        conn = MongoClient(creds[\"host\"], creds[\"port\"])\n",
    "        db = conn[creds[\"database\"]]\n",
    "        if \"admin_user\" in creds:\n",
    "            db.authenticate(creds[\"admin_user\"], creds[\"admin_password\"])\n",
    "        return db[creds[\"collection\"]]"
   ]
  },
  {
   "cell_type": "code",
   "execution_count": null,
   "metadata": {
    "collapsed": false
   },
   "outputs": [],
   "source": [
    "from pymongo import DESCENDING\n",
    "\n",
    "d1 = get_task_collection(db_file).find_one({\"task_label\": \"structure optimization\"}, sort=[(\"_id\", DESCENDING)])\n",
    "\n",
    "d2 = get_task_collection(db_file).find_one({\"task_label\": \"normal deformation\"}, sort=[(\"_id\", DESCENDING)])"
   ]
  },
  {
   "cell_type": "code",
   "execution_count": null,
   "metadata": {
    "collapsed": false
   },
   "outputs": [],
   "source": [
    "d1[\"output\"][\"bandgap\"] # 0.65"
   ]
  },
  {
   "cell_type": "code",
   "execution_count": null,
   "metadata": {
    "collapsed": true
   },
   "outputs": [],
   "source": []
  },
  {
   "cell_type": "markdown",
   "metadata": {},
   "source": [
    "# Debug"
   ]
  },
  {
   "cell_type": "code",
   "execution_count": null,
   "metadata": {
    "collapsed": false
   },
   "outputs": [],
   "source": [
    "!rm -rf launcher*"
   ]
  }
 ],
 "metadata": {
  "kernelspec": {
   "display_name": "Python 2",
   "language": "python",
   "name": "python2"
  },
  "language_info": {
   "codemirror_mode": {
    "name": "ipython",
    "version": 2
   },
   "file_extension": ".py",
   "mimetype": "text/x-python",
   "name": "python",
   "nbconvert_exporter": "python",
   "pygments_lexer": "ipython2",
   "version": "2.7.11+"
  },
  "widgets": {
   "state": {},
   "version": "1.1.2"
  }
 },
 "nbformat": 4,
 "nbformat_minor": 0
}
