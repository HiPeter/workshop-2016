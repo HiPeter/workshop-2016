{
 "cells": [
  {
   "cell_type": "markdown",
   "metadata": {},
   "source": [
    "# Elasticity workflow using MatMethods\n",
    "\n",
    "In this excercise we will use the [MatMethods](https://github.com/hackingmaterials/MatMethods.git) package and VASP to compute the elastic properties of Silicon."
   ]
  },
  {
   "cell_type": "markdown",
   "metadata": {},
   "source": [
    "Set environment variables and setup simulated vasp run"
   ]
  },
  {
   "cell_type": "code",
   "execution_count": 1,
   "metadata": {
    "collapsed": false
   },
   "outputs": [],
   "source": [
    "import os\n",
    "from helper_functions import *\n",
    "\n",
    "lp_file = os.path.abspath(\"my_launchpad.yaml\")\n",
    "db_file = os.path.abspath(\"db.json\")\n",
    "#db_file=\">>db_file<<\""
   ]
  },
  {
   "cell_type": "markdown",
   "metadata": {},
   "source": [
    "# Structure"
   ]
  },
  {
   "cell_type": "code",
   "execution_count": 2,
   "metadata": {
    "collapsed": false
   },
   "outputs": [],
   "source": [
    "from pymatgen import Structure\n",
    "\n",
    "struct_si = Structure([[5.468344455957462, 0.0, -0.0], \n",
    "                       [-0.0, 5.468344455957462, 0.0], \n",
    "                       [0.0, -0.0, 5.468344455957462]], \n",
    "                      \n",
    "                      [\"Si\"]*8, \n",
    "                      \n",
    "                      [[-0.0, -0.0, 0.5],\n",
    "                       [0.75, 0.75, 0.75],\n",
    "                       [0.0, 0.5, -0.0],\n",
    "                       [0.75, 0.25, 0.25],\n",
    "                       [0.5, 0.0, -0.0],\n",
    "                       [0.25, 0.75, 0.25],\n",
    "                       [0.5, 0.5, 0.5],\n",
    "                       [0.25, 0.25, 0.75]])"
   ]
  },
  {
   "cell_type": "markdown",
   "metadata": {},
   "source": [
    "# vasp inputset: MPRelaxSet"
   ]
  },
  {
   "cell_type": "code",
   "execution_count": 3,
   "metadata": {
    "collapsed": true
   },
   "outputs": [],
   "source": [
    "from pymatgen.io.vasp.sets import MPRelaxSet, DictSet\n",
    "\n",
    "vis = MPRelaxSet(struct_si, force_gamma=True)\n",
    "vis.config_dict[\"KPOINTS\"].update({\"reciprocal_density\": 600})\n",
    "vis = DictSet(struct_si, vis.config_dict)"
   ]
  },
  {
   "cell_type": "markdown",
   "metadata": {},
   "source": [
    "# Structure optimization firework"
   ]
  },
  {
   "cell_type": "code",
   "execution_count": 4,
   "metadata": {
    "collapsed": true
   },
   "outputs": [],
   "source": [
    "from fireworks import Workflow\n",
    "from matmethods.vasp.fireworks.core import OptimizeFW\n",
    "\n",
    "\n",
    "vasp_cmd=None\n",
    "\n",
    "fws = []\n",
    "fw1 = OptimizeFW(struct_si, vasp_input_set=vis, vasp_cmd=vasp_cmd, db_file=db_file)\n",
    "fws.append(fw1)"
   ]
  },
  {
   "cell_type": "markdown",
   "metadata": {},
   "source": [
    "# Deformation fireworks\n",
    "\n",
    "define normal and shear deformations"
   ]
  },
  {
   "cell_type": "code",
   "execution_count": 5,
   "metadata": {
    "collapsed": true
   },
   "outputs": [],
   "source": [
    "from pymatgen.analysis.elasticity.strain import Deformation\n",
    "\n",
    "norm_deformations=[-0.01, -0.005, 0.005, 0.01]\n",
    "shear_deformations=[-0.06, -0.03, 0.03, 0.06]\n",
    "\n",
    "deformations = []\n",
    "#Normal deformations\n",
    "for ind in [(0, 0), (1, 1), (2, 2)]:\n",
    "    for amount in norm_deformations:\n",
    "        defo = Deformation.from_index_amount(ind, amount)\n",
    "        deformations.append(defo)\n",
    "        \n",
    "#Shear deformations\n",
    "for ind in [(0, 1), (0, 2), (1, 2)]:\n",
    "    for amount in shear_deformations:\n",
    "        defo = Deformation.from_index_amount(ind, amount)\n",
    "        deformations.append(defo)"
   ]
  },
  {
   "cell_type": "markdown",
   "metadata": {},
   "source": [
    "Update incar and kpoint settings"
   ]
  },
  {
   "cell_type": "code",
   "execution_count": 6,
   "metadata": {
    "collapsed": true
   },
   "outputs": [],
   "source": [
    "#update incar file settings\n",
    "def_incar_settings = vis.incar.as_dict()\n",
    "def_incar_settings.update({\"ISIF\":2, \"ISTART\":1})\n",
    "for key in [\"MAGMOM\", \"@module\", \"@class\", \"LDAUU\", \"LDAUJ\", \"LDAUL\"]:\n",
    "    def_incar_settings.pop(key, None)\n",
    "\n",
    "def_vasp_params = {\"user_incar_settings\":def_incar_settings}\n",
    "def_vasp_params.update({\"reciprocal_density\": 600})"
   ]
  },
  {
   "cell_type": "markdown",
   "metadata": {},
   "source": [
    "Define firework for each deformation. A total of 24 deformation fireworks"
   ]
  },
  {
   "cell_type": "code",
   "execution_count": 7,
   "metadata": {
    "collapsed": true
   },
   "outputs": [],
   "source": [
    "from fireworks import Firework\n",
    "from matmethods.vasp.fireworks.core import TransmuterFW\n",
    "from matmethods.vasp.workflows.base.elastic import PassStressStrainData\n",
    "\n",
    "#generate deformation fireworks; one for each deformation\n",
    "for i, deformation in enumerate(deformations):\n",
    "    fw = TransmuterFW(name=\"elastic_deformation_\"+str(i+1),\n",
    "                      structure=struct_si,\n",
    "                      transformations=['DeformStructureTransformation'],\n",
    "                      transformation_params=[{\"deformation\": deformation.tolist()}],\n",
    "                      copy_vasp_outputs=True,\n",
    "                      db_file=db_file,\n",
    "                      vasp_cmd=vasp_cmd,\n",
    "                      parents=fws[0],\n",
    "                      vasp_input_params=def_vasp_params\n",
    "                     )\n",
    "    fw.spec['_tasks'].append(PassStressStrainData(deformation=deformation.tolist()).to_dict())\n",
    "    fws.append(fw)"
   ]
  },
  {
   "cell_type": "markdown",
   "metadata": {},
   "source": [
    "# Stress-strain analyzer firework"
   ]
  },
  {
   "cell_type": "code",
   "execution_count": 8,
   "metadata": {
    "collapsed": true
   },
   "outputs": [],
   "source": [
    "from matmethods.vasp.workflows.base.elastic import AnalyzeStressStrainData\n",
    "\n",
    "fws.append(Firework(AnalyzeStressStrainData(structure=struct_si, db_file=db_file),\n",
    "                    name=\"Analyze Elastic Data\", parents=fws[1:],\n",
    "                    spec={\"_allow_fizzled_parents\": True}))\n",
    "\n",
    "wfname = \"{}:{}\".format(struct_si.composition.reduced_formula, \"elastic constants\")\n",
    "\n",
    "wf = Workflow(fws, name=wfname)"
   ]
  },
  {
   "cell_type": "markdown",
   "metadata": {},
   "source": [
    "# Powerups\n",
    "\n",
    "use the powerup to modify incar paramters: ENCUT and EDIFF"
   ]
  },
  {
   "cell_type": "code",
   "execution_count": 9,
   "metadata": {
    "collapsed": false
   },
   "outputs": [],
   "source": [
    "from matmethods.vasp.vasp_powerups import add_modify_incar\n",
    "from matmethods.vasp.workflows.presets.core import add_common_powerups\n",
    "\n",
    "wf = add_modify_incar(wf, modify_incar_params={\"incar_update\": {\"ENCUT\": 700, \"EDIFF\": 1e-6}})\n",
    "c = {\"VASP_CMD\": vasp_cmd, \"DB_FILE\": db_file, \"reciprocal_density\": 600}\n",
    "wf = add_common_powerups(wf, c)"
   ]
  },
  {
   "cell_type": "markdown",
   "metadata": {},
   "source": [
    "# Simulate vasp run"
   ]
  },
  {
   "cell_type": "code",
   "execution_count": 10,
   "metadata": {
    "collapsed": true
   },
   "outputs": [],
   "source": [
    "wf = simulate_elasticity_vasprun(wf, deformations, ref_dir=os.path.abspath(\".\"))"
   ]
  },
  {
   "cell_type": "markdown",
   "metadata": {},
   "source": [
    "# Connect to Launchpad and reset"
   ]
  },
  {
   "cell_type": "code",
   "execution_count": 11,
   "metadata": {
    "collapsed": false
   },
   "outputs": [
    {
     "name": "stdout",
     "output_type": "stream",
     "text": [
      "2016-08-05 12:37:28,417 INFO Performing db tune-up\n",
      "2016-08-05 12:37:28,423 INFO LaunchPad was RESET.\n"
     ]
    }
   ],
   "source": [
    "from fireworks import LaunchPad\n",
    "\n",
    "lp = LaunchPad.from_file(lp_file)\n",
    "lp.reset(\"\", require_password=False)"
   ]
  },
  {
   "cell_type": "markdown",
   "metadata": {},
   "source": [
    "# Submit Workflow"
   ]
  },
  {
   "cell_type": "code",
   "execution_count": 12,
   "metadata": {
    "collapsed": false
   },
   "outputs": [
    {
     "name": "stdout",
     "output_type": "stream",
     "text": [
      "2016-08-05 12:37:29,411 INFO Added a workflow. id_map: {-1: 26, -26: 1, -25: 2, -24: 3, -23: 4, -22: 5, -21: 6, -20: 7, -19: 8, -18: 9, -17: 10, -16: 11, -15: 12, -14: 13, -13: 14, -12: 15, -11: 16, -10: 17, -9: 18, -8: 19, -7: 20, -6: 21, -5: 22, -4: 23, -3: 24, -2: 25}\n"
     ]
    },
    {
     "data": {
      "text/plain": [
       "{-26: 1,\n",
       " -25: 2,\n",
       " -24: 3,\n",
       " -23: 4,\n",
       " -22: 5,\n",
       " -21: 6,\n",
       " -20: 7,\n",
       " -19: 8,\n",
       " -18: 9,\n",
       " -17: 10,\n",
       " -16: 11,\n",
       " -15: 12,\n",
       " -14: 13,\n",
       " -13: 14,\n",
       " -12: 15,\n",
       " -11: 16,\n",
       " -10: 17,\n",
       " -9: 18,\n",
       " -8: 19,\n",
       " -7: 20,\n",
       " -6: 21,\n",
       " -5: 22,\n",
       " -4: 23,\n",
       " -3: 24,\n",
       " -2: 25,\n",
       " -1: 26}"
      ]
     },
     "execution_count": 12,
     "metadata": {},
     "output_type": "execute_result"
    }
   ],
   "source": [
    "lp.add_wf(wf)"
   ]
  },
  {
   "cell_type": "markdown",
   "metadata": {},
   "source": [
    "# Retrieve and Verify"
   ]
  },
  {
   "cell_type": "code",
   "execution_count": null,
   "metadata": {
    "collapsed": false
   },
   "outputs": [],
   "source": [
    "from pymongo import DESCENDING\n",
    "\n",
    "d1 = get_task_collection(\"../db.json\").find_one({\"task_label\": \"Analyze Elastic Data\"}, sort=[(\"_id\", DESCENDING)])"
   ]
  },
  {
   "cell_type": "code",
   "execution_count": null,
   "metadata": {
    "collapsed": false
   },
   "outputs": [],
   "source": []
  }
 ],
 "metadata": {
  "kernelspec": {
   "display_name": "Python 2",
   "language": "python",
   "name": "python2"
  },
  "language_info": {
   "codemirror_mode": {
    "name": "ipython",
    "version": 2
   },
   "file_extension": ".py",
   "mimetype": "text/x-python",
   "name": "python",
   "nbconvert_exporter": "python",
   "pygments_lexer": "ipython2",
   "version": "2.7.11+"
  },
  "widgets": {
   "state": {},
   "version": "1.1.2"
  }
 },
 "nbformat": 4,
 "nbformat_minor": 0
}
