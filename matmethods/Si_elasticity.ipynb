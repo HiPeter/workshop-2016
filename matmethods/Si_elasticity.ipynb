{
 "cells": [
  {
   "cell_type": "code",
   "execution_count": 1,
   "metadata": {
    "collapsed": true
   },
   "outputs": [],
   "source": [
    "import os\n",
    "import json\n",
    "\n",
    "from pymongo import MongoClient"
   ]
  },
  {
   "cell_type": "markdown",
   "metadata": {},
   "source": [
    "# Prep\n",
    "\n",
    "Set environment variables and setup simulated vasp run"
   ]
  },
  {
   "cell_type": "code",
   "execution_count": 2,
   "metadata": {
    "collapsed": false
   },
   "outputs": [],
   "source": [
    "#set the path to vasp pseudopotential files\n",
    "#os.environ[\"VASP_PSP_DIR\"] = os.path.join(os.getcwd(), \"reference_files\")"
   ]
  },
  {
   "cell_type": "markdown",
   "metadata": {},
   "source": [
    "# Structure and input set"
   ]
  },
  {
   "cell_type": "code",
   "execution_count": 3,
   "metadata": {
    "collapsed": false
   },
   "outputs": [],
   "source": [
    "from pymatgen.util.testing import PymatgenTest\n",
    "from pymatgen.io.vasp.sets import MPRelaxSet\n",
    "\n",
    "struct_si = PymatgenTest.get_structure(\"Si\")\n",
    "vis = MPRelaxSet(struct_si, force_gamma=True)"
   ]
  },
  {
   "cell_type": "markdown",
   "metadata": {},
   "source": [
    "# Define Fireworks and Workflow"
   ]
  },
  {
   "cell_type": "code",
   "execution_count": 32,
   "metadata": {
    "collapsed": false
   },
   "outputs": [],
   "source": [
    "from fireworks import Workflow\n",
    "from matmethods.vasp.fireworks.core import OptimizeFW, StaticFW, TransmuterFW\n",
    "\n",
    "\n",
    "vasp_cmd=None\n",
    "db_file=\">>db_file<<\"\n",
    "\n",
    "fws = []\n",
    "fw1 = OptimizeFW(struct_si, vasp_input_set=vis, vasp_cmd=vasp_cmd, db_file=db_file)\n",
    "fws.append(fw1)"
   ]
  },
  {
   "cell_type": "code",
   "execution_count": 33,
   "metadata": {
    "collapsed": false
   },
   "outputs": [],
   "source": [
    "from pymatgen.analysis.elasticity.strain import Deformation\n",
    "from fireworks import Firework\n",
    "from matmethods.vasp.workflows.base.elastic import PassStressStrainData\n",
    "\n",
    "# Normal deformation\n",
    "normal_deformation = Deformation.from_index_amount((0,0), 0.01)\n",
    "\n",
    "#Shear\n",
    "#shear_deformation = Deformation.from_index_amount((0,1), 0.01)\n",
    "\n",
    "def_vasp_params = {\"user_incar_settings\": {\"ISIF\": 2, \"IBRION\": 2, \"NSW\": 99, \"LAECHG\": False,\n",
    "                                           \"LHVAR\": False, \"ALGO\": \"Fast\", \"LWAVE\": False}}\n",
    "    \n",
    "# deformation firework\n",
    "fw = TransmuterFW(name=\"normal deformation\",\n",
    "                  structure=struct_si,\n",
    "                  transformations=['DeformStructureTransformation'],\n",
    "                  transformation_params=[{\"deformation\": normal_deformation.tolist()}],\n",
    "                  copy_vasp_outputs=True,\n",
    "                  db_file=db_file,\n",
    "                  vasp_cmd=vasp_cmd,\n",
    "                  parents=fws[0],\n",
    "                  vasp_input_params=def_vasp_params\n",
    "                 )\n",
    "\n",
    "# add task to pass the stress strain data\n",
    "fw.spec['_tasks'].append(PassStressStrainData(deformation=normal_deformation.tolist()).to_dict())\n",
    "fws.append(fw)"
   ]
  },
  {
   "cell_type": "code",
   "execution_count": 34,
   "metadata": {
    "collapsed": true
   },
   "outputs": [],
   "source": [
    "from matmethods.vasp.workflows.base.elastic import AnalyzeStressStrainData\n",
    "\n",
    "# stress-strain analyzer firework\n",
    "fws.append(Firework(AnalyzeStressStrainData(structure=struct_si, db_file=db_file),\n",
    "                    name=\"Analyze Elastic Data\", parents=fws[1:],\n",
    "                    spec={\"_allow_fizzled_parents\": True}))\n",
    "\n",
    "wfname = \"{}:{}\".format(struct_si.composition.reduced_formula, \"elastic constants\")\n",
    "\n",
    "wf = Workflow(fws, name=wfname)"
   ]
  },
  {
   "cell_type": "code",
   "execution_count": 35,
   "metadata": {
    "collapsed": false
   },
   "outputs": [
    {
     "data": {
      "text/plain": [
       "3"
      ]
     },
     "execution_count": 35,
     "metadata": {},
     "output_type": "execute_result"
    }
   ],
   "source": [
    "len(wf.as_dict()[\"fws\"])"
   ]
  },
  {
   "cell_type": "code",
   "execution_count": 36,
   "metadata": {
    "collapsed": true
   },
   "outputs": [],
   "source": [
    "from matmethods.vasp.vasp_powerups import use_fake_vasp\n",
    "\n",
    "#reference_dir = os.path.join(os.getcwd(), \"reference_files\")\n",
    "reference_dir = os.path.abspath(os.path.join(\"..\",\"..\",\"matproj/MatMethods/matmethods/vasp/tests\", \n",
    "                                             \"reference_files\"))\n",
    "\n",
    "si_ref_dirs = {\"structure optimization\": os.path.join(reference_dir, \"Si_structure_optimization\"), \n",
    "               \"normal deformation\": os.path.join(reference_dir, \"Si_normal_deformation\")}\n",
    "\n",
    "wf_fake = use_fake_vasp(wf, si_ref_dirs)"
   ]
  },
  {
   "cell_type": "markdown",
   "metadata": {},
   "source": [
    "# Connect to Launchpad and reset"
   ]
  },
  {
   "cell_type": "code",
   "execution_count": 43,
   "metadata": {
    "collapsed": false
   },
   "outputs": [
    {
     "name": "stdout",
     "output_type": "stream",
     "text": [
      "2016-08-03 08:53:29,761 INFO Performing db tune-up\n",
      "2016-08-03 08:53:29,767 INFO LaunchPad was RESET.\n"
     ]
    }
   ],
   "source": [
    "import datetime\n",
    "from fireworks import LaunchPad\n",
    "\n",
    "lp = LaunchPad.from_file(\"my_launchpad.yaml\")\n",
    "lp.reset(datetime.datetime.now().strftime('%Y-%m-%d'))"
   ]
  },
  {
   "cell_type": "markdown",
   "metadata": {},
   "source": [
    "# Submit Workflow"
   ]
  },
  {
   "cell_type": "code",
   "execution_count": 44,
   "metadata": {
    "collapsed": false
   },
   "outputs": [
    {
     "name": "stdout",
     "output_type": "stream",
     "text": [
      "2016-08-03 08:53:30,767 INFO Added a workflow. id_map: {1: 1, 2: 2, 3: 3}\n"
     ]
    },
    {
     "data": {
      "text/plain": [
       "{1: 1, 2: 2, 3: 3}"
      ]
     },
     "execution_count": 44,
     "metadata": {},
     "output_type": "execute_result"
    }
   ],
   "source": [
    "lp.add_wf(wf_fake)"
   ]
  },
  {
   "cell_type": "code",
   "execution_count": 45,
   "metadata": {
    "collapsed": false
   },
   "outputs": [
    {
     "data": {
      "text/plain": [
       "[1, 2, 3]"
      ]
     },
     "execution_count": 45,
     "metadata": {},
     "output_type": "execute_result"
    }
   ],
   "source": [
    "lp.get_fw_ids()"
   ]
  },
  {
   "cell_type": "markdown",
   "metadata": {},
   "source": [
    "# Run"
   ]
  },
  {
   "cell_type": "code",
   "execution_count": 47,
   "metadata": {
    "collapsed": false
   },
   "outputs": [
    {
     "name": "stdout",
     "output_type": "stream",
     "text": [
      "2016-08-03 08:54:08,835 INFO Launching Rocket\n",
      "2016-08-03 08:54:08,881 INFO RUNNING fw_id: 3 in directory: /home/ray/Software/workshop-2016/matmethods\n",
      "2016-08-03 08:54:08,884 INFO Task started: {{matmethods.vasp.firetasks.write_inputs.WriteVaspFromIOSet}}.\n",
      "2016-08-03 08:54:08,896 INFO Task completed: {{matmethods.vasp.firetasks.write_inputs.WriteVaspFromIOSet}} \n",
      "2016-08-03 08:54:08,897 INFO Task started: {{matmethods.vasp.firetasks.run_calc.RunVaspFake}}.\n",
      "2016-08-03 08:54:08,940 INFO matmethods.vasp.firetasks.run_calc RunVaspFake: verified inputs successfully\n",
      "2016-08-03 08:54:08,950 INFO matmethods.vasp.firetasks.run_calc RunVaspFake: ran fake VASP, generated outputs\n",
      "2016-08-03 08:54:08,951 INFO Task completed: {{matmethods.vasp.firetasks.run_calc.RunVaspFake}} \n",
      "2016-08-03 08:54:08,952 INFO Task started: {{matmethods.common.firetasks.glue_tasks.PassCalcLocs}}.\n",
      "2016-08-03 08:54:08,953 INFO Task completed: {{matmethods.common.firetasks.glue_tasks.PassCalcLocs}} \n",
      "2016-08-03 08:54:08,955 INFO Task started: {{matmethods.vasp.firetasks.parse_outputs.VaspToDbTask}}.\n",
      "2016-08-03 08:54:08,957 INFO matmethods.vasp.firetasks.parse_outputs PARSING DIRECTORY: /home/ray/Software/workshop-2016/matmethods\n",
      "2016-08-03 08:54:08,959 INFO matmethods.vasp.drones Getting task doc for base dir :/home/ray/Software/workshop-2016/matmethods\n",
      "2016-08-03 08:54:09,113 INFO matmethods.vasp.drones Post-processing dir:/home/ray/Software/workshop-2016/matmethods\n",
      "2016-08-03 08:54:09,114 WARNING matmethods.vasp.drones Transformations file does not exist.\n",
      "2016-08-03 08:54:09,116 INFO matmethods.vasp.drones Post-processed /home/ray/Software/workshop-2016/matmethods\n",
      "2016-08-03 08:54:09,125 INFO matmethods.vasp.database Inserting eclipse:/home/ray/Software/workshop-2016/matmethods with taskid = 5\n",
      "2016-08-03 08:54:09,141 INFO matmethods.vasp.firetasks.parse_outputs Finished parsing with task_id: 5\n",
      "2016-08-03 08:54:09,143 INFO Task completed: {{matmethods.vasp.firetasks.parse_outputs.VaspToDbTask}} \n",
      "2016-08-03 08:54:09,199 INFO Rocket finished\n"
     ]
    },
    {
     "data": {
      "text/plain": [
       "True"
      ]
     },
     "execution_count": 47,
     "metadata": {},
     "output_type": "execute_result"
    }
   ],
   "source": [
    "from fireworks import FWorker\n",
    "from fireworks.core.rocket_launcher import rapidfire, launch_rocket\n",
    "\n",
    "db_file = os.path.join(os.getcwd(), \"db.json\")\n",
    "#rapidfire(lp, fworker=FWorker(env={\"db_file\": db_file}))\n",
    "launch_rocket(lp, fworker=FWorker(env={\"db_file\": db_file}))"
   ]
  },
  {
   "cell_type": "code",
   "execution_count": 54,
   "metadata": {
    "collapsed": false
   },
   "outputs": [
    {
     "name": "stdout",
     "output_type": "stream",
     "text": [
      "Analyze Elastic Data fireworks::Firework WAITING\n",
      "Si-normal deformation fireworks::Firework READY\n",
      "Si-structure optimization fireworks::Firework COMPLETED\n"
     ]
    }
   ],
   "source": [
    "for id in lp.get_fw_ids():\n",
    "    fw = lp.get_fw_by_id(id)\n",
    "    print fw.name, fw.fw_name, fw.state"
   ]
  },
  {
   "cell_type": "markdown",
   "metadata": {},
   "source": [
    "# Retrieve and Verify"
   ]
  },
  {
   "cell_type": "code",
   "execution_count": null,
   "metadata": {
    "collapsed": true
   },
   "outputs": [],
   "source": [
    "def get_task_collection(db_file):\n",
    "    \"\"\"\n",
    "    connect to the database and return task collection\n",
    "    \"\"\"\n",
    "    with open(db_file) as f:\n",
    "        creds = json.loads(f.read())\n",
    "        conn = MongoClient(creds[\"host\"], creds[\"port\"])\n",
    "        db = conn[creds[\"database\"]]\n",
    "        if \"admin_user\" in creds:\n",
    "            db.authenticate(creds[\"admin_user\"], creds[\"admin_password\"])\n",
    "        return db[creds[\"collection\"]]"
   ]
  },
  {
   "cell_type": "code",
   "execution_count": null,
   "metadata": {
    "collapsed": false
   },
   "outputs": [],
   "source": [
    "from pymongo import DESCENDING\n",
    "\n",
    "d1 = get_task_collection(db_file).find_one({\"task_label\": \"structure optimization\"}, sort=[(\"_id\", DESCENDING)])\n",
    "\n",
    "d2 = get_task_collection(db_file).find_one({\"task_label\": \"normal deformation\"}, sort=[(\"_id\", DESCENDING)])"
   ]
  },
  {
   "cell_type": "code",
   "execution_count": null,
   "metadata": {
    "collapsed": false
   },
   "outputs": [],
   "source": [
    "d1[\"output\"][\"bandgap\"] # 0.65"
   ]
  },
  {
   "cell_type": "code",
   "execution_count": null,
   "metadata": {
    "collapsed": true
   },
   "outputs": [],
   "source": []
  },
  {
   "cell_type": "markdown",
   "metadata": {},
   "source": [
    "# Debug"
   ]
  },
  {
   "cell_type": "code",
   "execution_count": null,
   "metadata": {
    "collapsed": false
   },
   "outputs": [],
   "source": [
    "!rm -rf launcher*"
   ]
  }
 ],
 "metadata": {
  "kernelspec": {
   "display_name": "Python 2",
   "language": "python",
   "name": "python2"
  },
  "language_info": {
   "codemirror_mode": {
    "name": "ipython",
    "version": 2
   },
   "file_extension": ".py",
   "mimetype": "text/x-python",
   "name": "python",
   "nbconvert_exporter": "python",
   "pygments_lexer": "ipython2",
   "version": "2.7.11+"
  },
  "widgets": {
   "state": {},
   "version": "1.1.2"
  }
 },
 "nbformat": 4,
 "nbformat_minor": 0
}
