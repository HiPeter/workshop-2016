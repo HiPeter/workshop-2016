{
 "cells": [
  {
   "cell_type": "markdown",
   "metadata": {},
   "source": [
    "# Elasticity workflow using MatMethods\n",
    "\n",
    "In this excercise we will use the [MatMethods](https://github.com/hackingmaterials/MatMethods.git) package to compose VASP workflow to study the elastic properties of silicon."
   ]
  },
  {
   "cell_type": "code",
   "execution_count": null,
   "metadata": {
    "collapsed": false
   },
   "outputs": [],
   "source": [
    "%matplotlib inline\n",
    "\n",
    "import os\n",
    "from helper_functions import *\n",
    "\n",
    "db_file = os.path.abspath(\"db.json\")"
   ]
  },
  {
   "cell_type": "markdown",
   "metadata": {},
   "source": [
    "# Structure"
   ]
  },
  {
   "cell_type": "code",
   "execution_count": null,
   "metadata": {
    "collapsed": false
   },
   "outputs": [],
   "source": [
    "from pymatgen import Structure\n",
    "\n",
    "struct_si = Structure([[5.468344455957462, 0.0, -0.0], \n",
    "                       [-0.0, 5.468344455957462, 0.0], \n",
    "                       [0.0, -0.0, 5.468344455957462]], \n",
    "                      \n",
    "                      [\"Si\"]*8, \n",
    "                      \n",
    "                      [[-0.0, -0.0, 0.5],\n",
    "                       [0.75, 0.75, 0.75],\n",
    "                       [0.0, 0.5, -0.0],\n",
    "                       [0.75, 0.25, 0.25],\n",
    "                       [0.5, 0.0, -0.0],\n",
    "                       [0.25, 0.75, 0.25],\n",
    "                       [0.5, 0.5, 0.5],\n",
    "                       [0.25, 0.25, 0.75]])"
   ]
  },
  {
   "cell_type": "markdown",
   "metadata": {},
   "source": [
    "# vasp inputset: MPRelaxSet"
   ]
  },
  {
   "cell_type": "code",
   "execution_count": null,
   "metadata": {
    "collapsed": true
   },
   "outputs": [],
   "source": [
    "from pymatgen.io.vasp.sets import MPRelaxSet, DictSet\n",
    "\n",
    "vis = MPRelaxSet(struct_si, force_gamma=True)\n",
    "vis.config_dict[\"KPOINTS\"].update({\"reciprocal_density\": 600})\n",
    "vis = DictSet(struct_si, vis.config_dict)"
   ]
  },
  {
   "cell_type": "markdown",
   "metadata": {},
   "source": [
    "# Structure optimization firework"
   ]
  },
  {
   "cell_type": "code",
   "execution_count": null,
   "metadata": {
    "collapsed": true
   },
   "outputs": [],
   "source": [
    "from fireworks import Workflow\n",
    "from matmethods.vasp.fireworks.core import OptimizeFW\n",
    "\n",
    "\n",
    "vasp_cmd=None\n",
    "\n",
    "fws = []\n",
    "fw1 = OptimizeFW(struct_si, vasp_input_set=vis, vasp_cmd=vasp_cmd, db_file=db_file)\n",
    "fws.append(fw1)"
   ]
  },
  {
   "cell_type": "markdown",
   "metadata": {},
   "source": [
    "# Deformation fireworks\n",
    "\n",
    "define normal and shear deformations\n",
    "\n",
    "total 24 = 4 x 3 + 4 x 3"
   ]
  },
  {
   "cell_type": "code",
   "execution_count": null,
   "metadata": {
    "collapsed": true
   },
   "outputs": [],
   "source": [
    "from pymatgen.analysis.elasticity.strain import Deformation\n",
    "\n",
    "norm_deformations=[-0.01, -0.005, 0.005, 0.01]\n",
    "shear_deformations=[-0.06, -0.03, 0.03, 0.06]\n",
    "\n",
    "deformations = []\n",
    "#Normal deformations\n",
    "for ind in [(0, 0), (1, 1), (2, 2)]:\n",
    "    for amount in norm_deformations:\n",
    "        defo = Deformation.from_index_amount(ind, amount)\n",
    "        deformations.append(defo)\n",
    "        \n",
    "#Shear deformations\n",
    "for ind in [(0, 1), (0, 2), (1, 2)]:\n",
    "    for amount in shear_deformations:\n",
    "        defo = Deformation.from_index_amount(ind, amount)\n",
    "        deformations.append(defo)"
   ]
  },
  {
   "cell_type": "markdown",
   "metadata": {},
   "source": [
    "Update incar and kpoint settings for the deformation fireworks"
   ]
  },
  {
   "cell_type": "code",
   "execution_count": null,
   "metadata": {
    "collapsed": true
   },
   "outputs": [],
   "source": [
    "#update incar file settings\n",
    "def_incar_settings = vis.incar.as_dict()\n",
    "def_incar_settings.update({\"ISIF\":2, \"ISTART\":1})\n",
    "\n",
    "# remove unnecessary params\n",
    "for key in [\"MAGMOM\", \"@module\", \"@class\", \"LDAUU\", \"LDAUJ\", \"LDAUL\"]:\n",
    "    def_incar_settings.pop(key, None)\n",
    "    \n",
    "# deformation input param updatesL incar and kpoints\n",
    "def_vasp_params = {\"user_incar_settings\":def_incar_settings, \n",
    "                  \"reciprocal_density\": 600}"
   ]
  },
  {
   "cell_type": "markdown",
   "metadata": {},
   "source": [
    "Define firework for each deformation. A total of 24 deformation fireworks.\n",
    "\n",
    "Uses the Transmuter firework to apply the deformation transformation\n",
    "\n",
    "Also appends PassStressStrainData firetask to the Transmuter firework"
   ]
  },
  {
   "cell_type": "code",
   "execution_count": null,
   "metadata": {
    "collapsed": true
   },
   "outputs": [],
   "source": [
    "from fireworks import Firework\n",
    "from matmethods.vasp.fireworks.core import TransmuterFW\n",
    "from matmethods.vasp.workflows.base.elastic import PassStressStrainData\n",
    "\n",
    "#generate deformation fireworks; one for each deformation\n",
    "for i, deformation in enumerate(deformations):\n",
    "    fw = TransmuterFW(name=\"elastic_deformation_\"+str(i+1),\n",
    "                      structure=struct_si,\n",
    "                      transformations=['DeformStructureTransformation'],\n",
    "                      transformation_params=[{\"deformation\": deformation.tolist()}],\n",
    "                      copy_vasp_outputs=True,\n",
    "                      db_file=db_file,\n",
    "                      vasp_cmd=vasp_cmd,\n",
    "                      parents=fws[0],\n",
    "                      vasp_input_params=def_vasp_params\n",
    "                     )\n",
    "    fw.spec['_tasks'].append(PassStressStrainData(deformation=deformation.tolist()).to_dict())\n",
    "    fws.append(fw)"
   ]
  },
  {
   "cell_type": "markdown",
   "metadata": {},
   "source": [
    "# Workflow"
   ]
  },
  {
   "cell_type": "code",
   "execution_count": null,
   "metadata": {
    "collapsed": true
   },
   "outputs": [],
   "source": [
    "wfname = \"{}:{}\".format(struct_si.composition.reduced_formula, \"elastic constants\")\n",
    "wf = Workflow(fws, name=wfname)"
   ]
  },
  {
   "cell_type": "code",
   "execution_count": null,
   "metadata": {
    "collapsed": false
   },
   "outputs": [],
   "source": [
    "plot_wf(wf, depth_factor=100.0, numerical_label=True, breadth_factor=12)"
   ]
  },
  {
   "cell_type": "markdown",
   "metadata": {},
   "source": [
    "# Simulate vasp run"
   ]
  },
  {
   "cell_type": "code",
   "execution_count": null,
   "metadata": {
    "collapsed": false
   },
   "outputs": [],
   "source": [
    "wf = simulate_elasticity_vasprun(wf, deformations)"
   ]
  },
  {
   "cell_type": "markdown",
   "metadata": {},
   "source": [
    "# Powerups\n",
    "\n",
    "use the powerup to modify incar paramters: ENCUT and EDIFF"
   ]
  },
  {
   "cell_type": "code",
   "execution_count": null,
   "metadata": {
    "collapsed": false
   },
   "outputs": [],
   "source": [
    "from matmethods.vasp.vasp_powerups import add_modify_incar\n",
    "from matmethods.vasp.workflows.presets.core import add_common_powerups\n",
    "\n",
    "wf = add_modify_incar(wf, modify_incar_params={\"incar_update\": {\"ENCUT\": 700, \n",
    "                                                                \"EDIFF\": 1e-6}})"
   ]
  },
  {
   "cell_type": "markdown",
   "metadata": {},
   "source": [
    "# Connect to Launchpad and reset"
   ]
  },
  {
   "cell_type": "code",
   "execution_count": null,
   "metadata": {
    "collapsed": false
   },
   "outputs": [],
   "source": [
    "from fireworks import LaunchPad\n",
    "\n",
    "lp = LaunchPad()\n",
    "lp.reset(\"\", require_password=False)"
   ]
  },
  {
   "cell_type": "markdown",
   "metadata": {},
   "source": [
    "# Submit Workflow"
   ]
  },
  {
   "cell_type": "code",
   "execution_count": null,
   "metadata": {
    "collapsed": false
   },
   "outputs": [],
   "source": [
    "lp.add_wf(wf)"
   ]
  }
 ],
 "metadata": {
  "kernelspec": {
   "display_name": "Python 2",
   "language": "python",
   "name": "python2"
  },
  "language_info": {
   "codemirror_mode": {
    "name": "ipython",
    "version": 2
   },
   "file_extension": ".py",
   "mimetype": "text/x-python",
   "name": "python",
   "nbconvert_exporter": "python",
   "pygments_lexer": "ipython2",
   "version": "2.7.11+"
  }
 },
 "nbformat": 4,
 "nbformat_minor": 0
}
