{
 "cells": [
  {
   "cell_type": "code",
   "execution_count": 1,
   "metadata": {
    "collapsed": true
   },
   "outputs": [],
   "source": [
    "import os\n",
    "import json\n",
    "\n",
    "from pymongo import MongoClient"
   ]
  },
  {
   "cell_type": "markdown",
   "metadata": {},
   "source": [
    "Set environment variables and setup simulated vasp run"
   ]
  },
  {
   "cell_type": "code",
   "execution_count": 2,
   "metadata": {
    "collapsed": false
   },
   "outputs": [],
   "source": [
    "#set the path to vasp pseudopotential files\n",
    "#os.environ[\"VASP_PSP_DIR\"] = os.path.join(os.getcwd(), \"reference_files\")"
   ]
  },
  {
   "cell_type": "markdown",
   "metadata": {},
   "source": [
    "# Structure and input set"
   ]
  },
  {
   "cell_type": "code",
   "execution_count": 3,
   "metadata": {
    "collapsed": false
   },
   "outputs": [],
   "source": [
    "from pymatgen.util.testing import PymatgenTest\n",
    "from pymatgen.io.vasp.sets import MPRelaxSet\n",
    "\n",
    "struct_si = PymatgenTest.get_structure(\"Si\")\n",
    "vis = MPRelaxSet(struct_si, force_gamma=True)"
   ]
  },
  {
   "cell_type": "markdown",
   "metadata": {},
   "source": [
    "# Define Fireworks and Workflow"
   ]
  },
  {
   "cell_type": "code",
   "execution_count": 4,
   "metadata": {
    "collapsed": false
   },
   "outputs": [],
   "source": [
    "from fireworks import Workflow\n",
    "from matmethods.vasp.fireworks.core import OptimizeFW, StaticFW, TransmuterFW\n",
    "\n",
    "\n",
    "vasp_cmd=None\n",
    "db_file=\">>db_file<<\"\n",
    "\n",
    "fws = []\n",
    "fw1 = OptimizeFW(struct_si, vasp_input_set=vis, vasp_cmd=vasp_cmd, db_file=db_file)\n",
    "fws.append(fw1)"
   ]
  },
  {
   "cell_type": "markdown",
   "metadata": {},
   "source": [
    "# Deformation fireworks"
   ]
  },
  {
   "cell_type": "code",
   "execution_count": 5,
   "metadata": {
    "collapsed": false
   },
   "outputs": [],
   "source": [
    "from pymatgen.analysis.elasticity.strain import Deformation\n",
    "from fireworks import Firework\n",
    "from matmethods.vasp.workflows.base.elastic import PassStressStrainData\n",
    "\n",
    "# Normal deformation\n",
    "normal_deformation = Deformation.from_index_amount((0,0), 0.01)\n",
    "\n",
    "#Shear\n",
    "#shear_deformation = Deformation.from_index_amount((0,1), 0.01)\n",
    "\n",
    "deformation_vasp_params = {\"user_incar_settings\": {\"ISIF\": 2, \"IBRION\": 2, \n",
    "                                                   \"NSW\": 99, \"LAECHG\": False, \n",
    "                                                   \"LHVAR\": False, \"ALGO\": \"Fast\", \n",
    "                                                   \"LWAVE\": False}}\n",
    "    \n",
    "# deformation firework\n",
    "fw = TransmuterFW(name=\"normal deformation\",\n",
    "                  structure=struct_si,\n",
    "                  transformations=['DeformStructureTransformation'],\n",
    "                  transformation_params=[{\"deformation\": normal_deformation.tolist()}],\n",
    "                  copy_vasp_outputs=True,\n",
    "                  db_file=db_file,\n",
    "                  vasp_cmd=vasp_cmd,\n",
    "                  parents=fws[0],\n",
    "                  vasp_input_params=deformation_vasp_params\n",
    "                 )\n",
    "\n",
    "# add task to pass the stress strain data\n",
    "fw.spec['_tasks'].append(PassStressStrainData(deformation=normal_deformation.tolist()).to_dict())\n",
    "fws.append(fw)"
   ]
  },
  {
   "cell_type": "markdown",
   "metadata": {},
   "source": [
    "# Stress-strain analyzer firework"
   ]
  },
  {
   "cell_type": "code",
   "execution_count": 6,
   "metadata": {
    "collapsed": true
   },
   "outputs": [],
   "source": [
    "from matmethods.vasp.workflows.base.elastic import AnalyzeStressStrainData\n",
    "\n",
    "fws.append(Firework(AnalyzeStressStrainData(structure=struct_si, db_file=db_file),\n",
    "                    name=\"Analyze Elastic Data\", parents=fws[1:],\n",
    "                    spec={\"_allow_fizzled_parents\": True}))\n",
    "\n",
    "wfname = \"{}:{}\".format(struct_si.composition.reduced_formula, \"elastic constants\")\n",
    "\n",
    "wf = Workflow(fws, name=wfname)"
   ]
  },
  {
   "cell_type": "code",
   "execution_count": 7,
   "metadata": {
    "collapsed": false
   },
   "outputs": [
    {
     "data": {
      "text/plain": [
       "3"
      ]
     },
     "execution_count": 7,
     "metadata": {},
     "output_type": "execute_result"
    }
   ],
   "source": [
    "len(wf.as_dict()[\"fws\"])"
   ]
  },
  {
   "cell_type": "markdown",
   "metadata": {},
   "source": [
    "# Simulated vasp run"
   ]
  },
  {
   "cell_type": "code",
   "execution_count": 8,
   "metadata": {
    "collapsed": true
   },
   "outputs": [],
   "source": [
    "from matmethods.vasp.vasp_powerups import use_fake_vasp\n",
    "\n",
    "#reference_dir = os.path.join(os.getcwd(), \"reference_files\")\n",
    "reference_dir = os.path.abspath(os.path.join(\"..\",\"..\",\"matproj/MatMethods/matmethods/vasp/tests\", \n",
    "                                             \"reference_files\"))\n",
    "\n",
    "si_ref_dirs = {\"structure optimization\": os.path.join(reference_dir, \"Si_structure_optimization\"), \n",
    "               \"normal deformation\": os.path.join(reference_dir, \"Si_normal_deformation\")}\n",
    "\n",
    "wf_fake = use_fake_vasp(wf, si_ref_dirs)"
   ]
  },
  {
   "cell_type": "markdown",
   "metadata": {},
   "source": [
    "# Connect to Launchpad and reset"
   ]
  },
  {
   "cell_type": "code",
   "execution_count": 9,
   "metadata": {
    "collapsed": false
   },
   "outputs": [
    {
     "name": "stdout",
     "output_type": "stream",
     "text": [
      "2016-08-03 11:38:55,211 INFO Performing db tune-up\n",
      "2016-08-03 11:38:55,222 INFO LaunchPad was RESET.\n"
     ]
    }
   ],
   "source": [
    "import datetime\n",
    "from fireworks import LaunchPad\n",
    "\n",
    "lp = LaunchPad.from_file(\"my_launchpad.yaml\")\n",
    "lp.reset(datetime.datetime.now().strftime('%Y-%m-%d'))"
   ]
  },
  {
   "cell_type": "markdown",
   "metadata": {},
   "source": [
    "# Submit Workflow"
   ]
  },
  {
   "cell_type": "code",
   "execution_count": 10,
   "metadata": {
    "collapsed": false
   },
   "outputs": [
    {
     "name": "stdout",
     "output_type": "stream",
     "text": [
      "2016-08-03 11:38:56,683 INFO Added a workflow. id_map: {-1: 3, -3: 1, -2: 2}\n"
     ]
    },
    {
     "data": {
      "text/plain": [
       "{-3: 1, -2: 2, -1: 3}"
      ]
     },
     "execution_count": 10,
     "metadata": {},
     "output_type": "execute_result"
    }
   ],
   "source": [
    "lp.add_wf(wf_fake)"
   ]
  },
  {
   "cell_type": "code",
   "execution_count": 11,
   "metadata": {
    "collapsed": false
   },
   "outputs": [
    {
     "data": {
      "text/plain": [
       "[1, 2, 3]"
      ]
     },
     "execution_count": 11,
     "metadata": {},
     "output_type": "execute_result"
    }
   ],
   "source": [
    "lp.get_fw_ids()"
   ]
  },
  {
   "cell_type": "markdown",
   "metadata": {},
   "source": [
    "# Launch structure optimization firework"
   ]
  },
  {
   "cell_type": "code",
   "execution_count": 12,
   "metadata": {
    "collapsed": false
   },
   "outputs": [
    {
     "name": "stdout",
     "output_type": "stream",
     "text": [
      "2016-08-03 11:39:00,540 INFO Launching Rocket\n",
      "2016-08-03 11:39:00,587 INFO RUNNING fw_id: 3 in directory: /home/ray/Software/workshop-2016/matmethods\n",
      "2016-08-03 11:39:00,591 INFO Task started: {{matmethods.vasp.firetasks.write_inputs.WriteVaspFromIOSet}}.\n",
      "2016-08-03 11:39:00,610 INFO Task completed: {{matmethods.vasp.firetasks.write_inputs.WriteVaspFromIOSet}} \n",
      "2016-08-03 11:39:00,611 INFO Task started: {{matmethods.vasp.firetasks.run_calc.RunVaspFake}}.\n",
      "2016-08-03 11:39:00,649 INFO matmethods.vasp.firetasks.run_calc RunVaspFake: verified inputs successfully\n",
      "2016-08-03 11:39:00,660 INFO matmethods.vasp.firetasks.run_calc RunVaspFake: ran fake VASP, generated outputs\n",
      "2016-08-03 11:39:00,662 INFO Task completed: {{matmethods.vasp.firetasks.run_calc.RunVaspFake}} \n",
      "2016-08-03 11:39:00,664 INFO Task started: {{matmethods.common.firetasks.glue_tasks.PassCalcLocs}}.\n",
      "2016-08-03 11:39:00,666 INFO Task completed: {{matmethods.common.firetasks.glue_tasks.PassCalcLocs}} \n",
      "2016-08-03 11:39:00,668 INFO Task started: {{matmethods.vasp.firetasks.parse_outputs.VaspToDbTask}}.\n",
      "2016-08-03 11:39:00,669 INFO matmethods.vasp.firetasks.parse_outputs PARSING DIRECTORY: /home/ray/Software/workshop-2016/matmethods\n",
      "2016-08-03 11:39:00,672 INFO matmethods.vasp.drones Getting task doc for base dir :/home/ray/Software/workshop-2016/matmethods\n",
      "2016-08-03 11:39:00,807 INFO matmethods.vasp.drones Post-processing dir:/home/ray/Software/workshop-2016/matmethods\n",
      "2016-08-03 11:39:00,809 WARNING matmethods.vasp.drones Transformations file does not exist.\n",
      "2016-08-03 11:39:00,812 INFO matmethods.vasp.drones Post-processed /home/ray/Software/workshop-2016/matmethods\n",
      "2016-08-03 11:39:00,824 INFO matmethods.vasp.database Updating eclipse:/home/ray/Software/workshop-2016/matmethods with taskid = 5\n",
      "2016-08-03 11:39:00,845 INFO matmethods.vasp.firetasks.parse_outputs Finished parsing with task_id: 5\n",
      "2016-08-03 11:39:00,847 INFO Task completed: {{matmethods.vasp.firetasks.parse_outputs.VaspToDbTask}} \n",
      "2016-08-03 11:39:00,905 INFO Rocket finished\n"
     ]
    },
    {
     "data": {
      "text/plain": [
       "True"
      ]
     },
     "execution_count": 12,
     "metadata": {},
     "output_type": "execute_result"
    }
   ],
   "source": [
    "from fireworks import FWorker\n",
    "from fireworks.core.rocket_launcher import rapidfire, launch_rocket\n",
    "\n",
    "db_file = os.path.join(os.getcwd(), \"db.json\")\n",
    "#rapidfire(lp, fworker=FWorker(env={\"db_file\": db_file}))\n",
    "launch_rocket(lp, fworker=FWorker(env={\"db_file\": db_file}))"
   ]
  },
  {
   "cell_type": "markdown",
   "metadata": {},
   "source": [
    "# Launch structure deformation firework"
   ]
  },
  {
   "cell_type": "code",
   "execution_count": null,
   "metadata": {
    "collapsed": true
   },
   "outputs": [],
   "source": [
    "launch_rocket(lp, fworker=FWorker(env={\"db_file\": db_file}))"
   ]
  },
  {
   "cell_type": "markdown",
   "metadata": {},
   "source": [
    "# Launch stress-strain analyzer firework"
   ]
  },
  {
   "cell_type": "code",
   "execution_count": null,
   "metadata": {
    "collapsed": true
   },
   "outputs": [],
   "source": [
    "launch_rocket(lp, fworker=FWorker(env={\"db_file\": db_file}))"
   ]
  },
  {
   "cell_type": "code",
   "execution_count": null,
   "metadata": {
    "collapsed": false
   },
   "outputs": [],
   "source": [
    "for id in lp.get_fw_ids():\n",
    "    fw = lp.get_fw_by_id(id)\n",
    "    print fw.name, fw.fw_name, fw.state"
   ]
  },
  {
   "cell_type": "markdown",
   "metadata": {},
   "source": [
    "# Retrieve and Verify"
   ]
  },
  {
   "cell_type": "code",
   "execution_count": null,
   "metadata": {
    "collapsed": true
   },
   "outputs": [],
   "source": [
    "def get_task_collection(db_file):\n",
    "    \"\"\"\n",
    "    connect to the database and return task collection\n",
    "    \"\"\"\n",
    "    with open(db_file) as f:\n",
    "        creds = json.loads(f.read())\n",
    "        conn = MongoClient(creds[\"host\"], creds[\"port\"])\n",
    "        db = conn[creds[\"database\"]]\n",
    "        if \"admin_user\" in creds:\n",
    "            db.authenticate(creds[\"admin_user\"], creds[\"admin_password\"])\n",
    "        return db[creds[\"collection\"]]"
   ]
  },
  {
   "cell_type": "code",
   "execution_count": null,
   "metadata": {
    "collapsed": false
   },
   "outputs": [],
   "source": [
    "from pymongo import DESCENDING\n",
    "\n",
    "d1 = get_task_collection(db_file).find_one({\"task_label\": \"structure optimization\"}, sort=[(\"_id\", DESCENDING)])\n",
    "\n",
    "d2 = get_task_collection(db_file).find_one({\"task_label\": \"normal deformation\"}, sort=[(\"_id\", DESCENDING)])"
   ]
  },
  {
   "cell_type": "code",
   "execution_count": null,
   "metadata": {
    "collapsed": false
   },
   "outputs": [],
   "source": []
  },
  {
   "cell_type": "code",
   "execution_count": null,
   "metadata": {
    "collapsed": true
   },
   "outputs": [],
   "source": []
  },
  {
   "cell_type": "markdown",
   "metadata": {},
   "source": [
    "# Debug"
   ]
  },
  {
   "cell_type": "code",
   "execution_count": null,
   "metadata": {
    "collapsed": false
   },
   "outputs": [],
   "source": [
    "!rm -rf launcher*"
   ]
  }
 ],
 "metadata": {
  "kernelspec": {
   "display_name": "Python 2",
   "language": "python",
   "name": "python2"
  },
  "language_info": {
   "codemirror_mode": {
    "name": "ipython",
    "version": 2
   },
   "file_extension": ".py",
   "mimetype": "text/x-python",
   "name": "python",
   "nbconvert_exporter": "python",
   "pygments_lexer": "ipython2",
   "version": "2.7.11+"
  },
  "widgets": {
   "state": {},
   "version": "1.1.2"
  }
 },
 "nbformat": 4,
 "nbformat_minor": 0
}
