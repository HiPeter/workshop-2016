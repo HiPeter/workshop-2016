{
 "cells": [
  {
   "cell_type": "markdown",
   "metadata": {},
   "source": [
    "# Pymatgen core functionality"
   ]
  },
  {
   "cell_type": "code",
   "execution_count": 17,
   "metadata": {
    "collapsed": false
   },
   "outputs": [],
   "source": [
    "from pythreejs import *\n",
    "from IPython.display import display\n",
    "from pymatgen.vis.structure_vtk import EL_COLORS\n",
    "\n",
    "el_color_mapping = EL_COLORS[\"VESTA\"]\n",
    "\n",
    "\n",
    "def struct_to_rend(structure):\n",
    "    big_structure = structure.copy()\n",
    "    big_structure.make_supercell([2, 2, 2])\n",
    "    balls = []\n",
    "    for site in big_structure:\n",
    "        color = \"#%02x%02x%02x\" % tuple(el_color_mapping[site.specie.symbol])\n",
    "        balls += [Mesh(geometry=SphereGeometry(radius=site.specie.average_ionic_radius),\n",
    "                       material=LambertMaterial(color=color),\n",
    "                       position = site.coords.tolist())]\n",
    "    scene = Scene(children=balls)\n",
    "    camera = PerspectiveCamera(position = [0, 5, 5], up = [0, 0, 1],\n",
    "                               children = [DirectionalLight(color='white', \n",
    "                                                            position = [3, 5, 1], \n",
    "                                                            intensity = 0.5)])\n",
    "    renderer = Renderer(camera = camera, scene=scene, controls=[OrbitControls(controlling=camera)])\n",
    "    display(renderer)"
   ]
  },
  {
   "cell_type": "code",
   "execution_count": 18,
   "metadata": {
    "collapsed": false
   },
   "outputs": [],
   "source": [
    "struct_to_rend(structure)"
   ]
  },
  {
   "cell_type": "markdown",
   "metadata": {},
   "source": [
    "## Structures, sites, and lattices"
   ]
  },
  {
   "cell_type": "code",
   "execution_count": 7,
   "metadata": {
    "collapsed": false
   },
   "outputs": [],
   "source": [
    "from pymatgen import *\n",
    "import pymatgen\n",
    "mpr = MPRester()\n",
    "%matplotlib inline\n",
    "\n",
    "nacl_structs = mpr.get_structures(\"mp-680944\")\n",
    "len(nacl_structs)\n",
    "from pymatgen.symmetry.analyzer import SpacegroupAnalyzer\n",
    "sga = SpacegroupAnalyzer(nacl_structs[0])\n",
    "conv = sga.get_conventional_standard_structure()\n",
    "conv.to(filename=\"Nb2O5.cif\")"
   ]
  },
  {
   "cell_type": "code",
   "execution_count": 8,
   "metadata": {
    "collapsed": false
   },
   "outputs": [
    {
     "name": "stdout",
     "output_type": "stream",
     "text": [
      "2.8\n",
      "Full Formula (Fe2)\n",
      "Reduced Formula: Fe\n",
      "abc   :   2.800000   2.800000   2.800000\n",
      "angles:  90.000000  90.000000  90.000000\n",
      "Sites (2)\n",
      "  #  SP      a    b    c\n",
      "---  ----  ---  ---  ---\n",
      "  0  Fe    0    0    0\n",
      "  1  Fe    0.5  0.5  0.5\n",
      "Full Formula (Cu2 Au2)\n",
      "Reduced Formula: CuAu\n",
      "abc   :   3.677000   3.677000   3.677000\n",
      "angles:  90.000000  90.000000  90.000000\n",
      "Sites (4)\n",
      "  #  SP                        a    b    c\n",
      "---  ----------------------  ---  ---  ---\n",
      "  0  Cu0+:0.500, Au0+:0.500  0    0    0\n",
      "  1  Cu0+:0.500, Au0+:0.500  0    0.5  0.5\n",
      "  2  Cu0+:0.500, Au0+:0.500  0.5  0    0.5\n",
      "  3  Cu0+:0.500, Au0+:0.500  0.5  0.5  0\n"
     ]
    }
   ],
   "source": [
    "# Making lattices\n",
    "lattice = Lattice([[2.8, 0, 0], [0, 2.8, 0], [0, 0, 2.8]])\n",
    "lattice.cubic(2.8)\n",
    "lattice.hexagonal(a = 2.8, c = 3.6)\n",
    "lattice.rhombohedral(a = 2.8, alpha = 60)\n",
    "\n",
    "# Manipulating lattices\n",
    "print lattice.a\n",
    "\n",
    "# Making structures\n",
    "bcc_fe = Structure(lattice, [\"Fe\", \"Fe\"], [[0, 0, 0], [0.5, 0.5, 0.5]])\n",
    "site0 = bcc_fe[0]\n",
    "site0.coords\n",
    "site0.species_string\n",
    "site0.x\n",
    "\n",
    "nacl= Structure(lattice, [\"Na+\", \"Cl-\"], [[0, 0, 0], [0.5, 0.5, 0.5]])\n",
    "\n",
    "bcc_fe = Structure.from_spacegroup(\"Im-3m\", Lattice.cubic(2.8), [\"Fe\"], [[0, 0, 0]])\n",
    "print(bcc_fe)\n",
    "big_structure = Structure.from_file(\"Nb2O5.cif\")\n",
    "big_structure.formula\n",
    "\n",
    "# Making disordered structures\n",
    "specie = {\"Cu0+\": 0.5, \"Au0+\":0.5}\n",
    "cu_au = Structure.from_spacegroup(\"Fm-3m\", Lattice.cubic(3.677), [specie], [[0, 0, 0]])\n",
    "print(cu_au)\n",
    "\n",
    "\n",
    "# Manipulating structures and assigning properties to sites\n",
    "big_structure[0] = \"V\"\n",
    "big_structure.formula\n",
    "big_structure[0] = \"Nb\"\n",
    "\n",
    "bcc_fe.append(\"C\", [0.25, 0.25, 0.25])\n",
    "bcc_fe.pop(-1)\n",
    "bcc_fe.make_supercell([2, 2, 2])\n",
    "\n",
    "sd = []\n",
    "names = []\n",
    "for n in range(big_structure.num_sites):\n",
    "    if big_structure[n].species_string == \"Nb\":\n",
    "        sd.append([False, False, False])\n",
    "        names.append(\"Jerry\")\n",
    "    else:\n",
    "        sd.append([True, True, True])\n",
    "        names.append(\"Billy Mays\")\n",
    "big_structure.add_site_property(\"selective_dynamics\", sd)\n",
    "big_structure.to(filename=\"POSCAR\")\n",
    "big_structure.add_site_property(\"names\", names)\n",
    "site0 = big_structure[0]"
   ]
  },
  {
   "cell_type": "markdown",
   "metadata": {},
   "source": [
    "### Exercise: find your favorite oxide using the materials project rester.  Replace each oxygen atom with fluorine."
   ]
  },
  {
   "cell_type": "code",
   "execution_count": 9,
   "metadata": {
    "collapsed": true
   },
   "outputs": [],
   "source": [
    "# Potential solution:\n",
    "structure = mpr.get_structures(\"BaNiO3\")[0]\n",
    "for n in range(structure.num_sites):\n",
    "    if structure[n].species_string == 'O':\n",
    "        structure[n] = 'F'\n",
    "    \n",
    "#print(structure.formula)\n",
    "#print(structure)"
   ]
  },
  {
   "cell_type": "markdown",
   "metadata": {},
   "source": [
    "## Transformations"
   ]
  },
  {
   "cell_type": "code",
   "execution_count": 15,
   "metadata": {
    "collapsed": false
   },
   "outputs": [
    {
     "data": {
      "text/plain": [
       "4"
      ]
     },
     "execution_count": 15,
     "metadata": {},
     "output_type": "execute_result"
    }
   ],
   "source": [
    "# Using transformations\n",
    "from pymatgen.transformations.standard_transformations import SubstitutionTransformation, DeformStructureTransformation, \\\n",
    "OrderDisorderedStructureTransformation, RotationTransformation\n",
    "structure = mpr.get_structures(\"BaNiO3\")[0]\n",
    "st = SubstitutionTransformation({\"O\":\"F\"})\n",
    "new_structure = st.apply_transformation(structure)\n",
    "old_structure = st.inverse.apply_transformation(new_structure)\n",
    "old_structure == structure\n",
    "\n",
    "# Order disorder\n",
    "odst = OrderDisorderedStructureTransformation()\n",
    "ss = odst.apply_transformation(cu_au)\n",
    "len(ss)"
   ]
  },
  {
   "cell_type": "markdown",
   "metadata": {},
   "source": [
    "## SymmetryAnalyzer and StructureMatcher"
   ]
  },
  {
   "cell_type": "markdown",
   "metadata": {},
   "source": [
    "### Exercise: Perform a transformation on a structure and use the structure matcher on the result."
   ]
  },
  {
   "cell_type": "code",
   "execution_count": 16,
   "metadata": {
    "collapsed": false
   },
   "outputs": [
    {
     "name": "stdout",
     "output_type": "stream",
     "text": [
      "True\n",
      "None\n",
      "True\n"
     ]
    }
   ],
   "source": [
    "from pymatgen.symmetry.analyzer import SpacegroupAnalyzer\n",
    "from pymatgen.analysis.structure_matcher import StructureMatcher\n",
    "\n",
    "structure = mpr.get_structures(\"BaNiO3\")[0]\n",
    "sga = SpacegroupAnalyzer(structure)\n",
    "\n",
    "sga.get_conventional_standard_structure()\n",
    "rt = RotationTransformation([1, 0, 0], 120)\n",
    "st = SubstitutionTransformation({\"O\":\"F\"})\n",
    "\n",
    "new_structure = rt.apply_transformation(structure)\n",
    "sm = StructureMatcher()\n",
    "print(sm.fit(structure, new_structure))\n",
    "\n",
    "new_structure = st.apply_transformation(structure)\n",
    "print(sm.fit(structure, new_structure))\n",
    "print(sm.fit_anonymous(structure, new_structure))"
   ]
  },
  {
   "cell_type": "markdown",
   "metadata": {},
   "source": [
    "## XRD, Bandstructure, and Density of States"
   ]
  },
  {
   "cell_type": "markdown",
   "metadata": {},
   "source": [
    "### Exercise: Plot the XRD spectra, Bandstructure, and electronic DOS of Au"
   ]
  },
  {
   "cell_type": "code",
   "execution_count": null,
   "metadata": {
    "collapsed": false
   },
   "outputs": [],
   "source": [
    "from pymatgen.analysis.diffraction.xrd import XRDCalculator\n",
    "from pymatgen.electronic_structure.plotter import BSPlotter, DosPlotter\n",
    "from pymatgen.electronic_structure.core import OrbitalType\n",
    "\n",
    "data = mpr.get_data('TiO2')\n",
    "structures = mpr.get_structures(\"TiO2\")\n",
    "xrd_calc = XRDCalculator()\n",
    "#xrd_calc.show_xrd_plot(structures[0])\n",
    "\n",
    "bs = mpr.get_bandstructure_by_material_id(data[0][\"material_id\"])\n",
    "print(bs.get_band_gap())\n",
    "plotter=BSPlotter(bs)\n",
    "#plotter.get_plot().show()\n",
    "#plotter.plot_brillouin()\n",
    "\n",
    "dos = mpr.get_dos_by_material_id(data[0][\"material_id\"])\n",
    "dp = DosPlotter()\n",
    "dos_ti = dos.get_element_spd_dos(\"Ti\")\n",
    "dos_o = dos.get_element_spd_dos(\"O\")\n",
    "dp.add_dos(\"O p-states\", dos_o[OrbitalType.p])\n",
    "dp.add_dos(\"Ti d-states\", dos_ti[OrbitalType.d])\n",
    "dp.get_plot().show()"
   ]
  },
  {
   "cell_type": "markdown",
   "metadata": {},
   "source": [
    "## Phase diagrams"
   ]
  },
  {
   "cell_type": "markdown",
   "metadata": {},
   "source": [
    "### Exercise: Plot phase diagrams for the Ba-Ni-O chemical system"
   ]
  },
  {
   "cell_type": "code",
   "execution_count": null,
   "metadata": {
    "collapsed": false
   },
   "outputs": [],
   "source": [
    "from pymatgen.phasediagram.maker import PhaseDiagram\n",
    "from pymatgen.phasediagram.plotter import PDPlotter\n",
    "\n",
    "entries = mpr.get_entries_in_chemsys([\"Ba\", \"Ni\", \"O\"])\n",
    "pd = PhaseDiagram(entries)\n",
    "plotter = PDPlotter(pd, show_unstable=True) # show_unstable=true\n",
    "plotter.show()"
   ]
  },
  {
   "cell_type": "markdown",
   "metadata": {},
   "source": [
    "## Tensors"
   ]
  },
  {
   "cell_type": "markdown",
   "metadata": {
    "collapsed": true
   },
   "source": [
    "### Fit a \"noisy\" tensor to a particular crystal structure"
   ]
  },
  {
   "cell_type": "markdown",
   "metadata": {},
   "source": [
    "## Surfaces"
   ]
  },
  {
   "cell_type": "markdown",
   "metadata": {
    "collapsed": true
   },
   "source": [
    "### Generate all of the low-index facets for BCC Fe"
   ]
  },
  {
   "cell_type": "code",
   "execution_count": null,
   "metadata": {
    "collapsed": false
   },
   "outputs": [],
   "source": [
    "from pymatgen.symmetry.analyzer import SpacegroupAnalyzer\n",
    "from pymatgen.core.surface import generate_all_slabs\n",
    "lattice = mg.Lattice.cubic(2.85)\n",
    "structure = mg.Structure(lattice, [\"Fe\", \"Fe\"], \n",
    "                         [[0, 0, 0], [0.5, 0.5, 0.5]])\n",
    "\n",
    "slabs = generate_all_slabs(structure, 1, 4, 10)\n",
    "first_slab = slabs[0]\n",
    "first_slab.miller_index\n",
    "for slab in slabs:\n",
    "    print slab.miller_index"
   ]
  },
  {
   "cell_type": "markdown",
   "metadata": {},
   "source": [
    "## Pourbaix Diagrams?"
   ]
  },
  {
   "cell_type": "code",
   "execution_count": null,
   "metadata": {
    "collapsed": true
   },
   "outputs": [],
   "source": []
  },
  {
   "cell_type": "markdown",
   "metadata": {},
   "source": [
    "## Etc."
   ]
  },
  {
   "cell_type": "code",
   "execution_count": null,
   "metadata": {
    "collapsed": false
   },
   "outputs": [],
   "source": [
    "data = mpr.get_data(\"mp-149\")\n",
    "et = data[0][\"elasticity\"][\"elastic_tensor\"]\n",
    "structure = Structure.from_str(data[0][\"cif\"], fmt=\"cif\")"
   ]
  },
  {
   "cell_type": "code",
   "execution_count": null,
   "metadata": {
    "collapsed": true
   },
   "outputs": [],
   "source": []
  }
 ],
 "metadata": {
  "kernelspec": {
   "display_name": "Python 2",
   "language": "python",
   "name": "python2"
  },
  "language_info": {
   "codemirror_mode": {
    "name": "ipython",
    "version": 2
   },
   "file_extension": ".py",
   "mimetype": "text/x-python",
   "name": "python",
   "nbconvert_exporter": "python",
   "pygments_lexer": "ipython2",
   "version": "2.7.12"
  },
  "widgets": {
   "state": {
    "6102b44d1ac243da9e4bfe0a88dda5b1": {
     "views": [
      {
       "cell_index": 2
      }
     ]
    }
   },
   "version": "1.2.0"
  }
 },
 "nbformat": 4,
 "nbformat_minor": 0
}
