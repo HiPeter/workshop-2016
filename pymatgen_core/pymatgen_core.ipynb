{
 "cells": [
  {
   "cell_type": "markdown",
   "metadata": {},
   "source": [
    "# Pymatgen core functionality\n",
    "\n",
    "Pymatgen is the code that powers all of the analysis that's used in the Materials Project.  It includes a robust and efficient libraries for the handling of structures and molecules, in addition to various mathematical and scientific tools for the handling and generation of materials data.  Here are a few things you can do with pymatgen:\n",
    "\n",
    "- Create, identify, and manipulate crystal structures and molecules\n",
    "- Write input and output files for most electronic structure codes\n",
    "- Analyze density of states, XRD spectra, and bandstructure data\n",
    "- Tensor-based analysis, including Elastic and Piezoelectric tensors\n",
    "- Analysis of the local chemical environment of structural sites\n",
    "- Create pourbaix and phase diagrams\n",
    "- Match substrates based on geometry and elastic behavior\n",
    "- Create and manipulate surfaces\n",
    "- Do unit conversions\n",
    "- Get basic information about chemical identity\n",
    "- Estimate the cost of a material based on chemical abundance"
   ]
  },
  {
   "cell_type": "markdown",
   "metadata": {},
   "source": [
    "## Structures, sites, and lattices\n",
    "\n",
    "Most of the fundamentals of pymatgen are expressed in the Structure and Lattice objects.  These objects contain data on the lattice parameters and the location of individual sites within lattices.  Let's start by importing those objects, along with the MPRester in case we want to find data online."
   ]
  },
  {
   "cell_type": "code",
   "execution_count": 3,
   "metadata": {
    "collapsed": false
   },
   "outputs": [],
   "source": [
    "from pymatgen import Structure, Lattice, MPRester"
   ]
  },
  {
   "cell_type": "markdown",
   "metadata": {},
   "source": [
    "The general lattice constructor takes a 3x3 array as it's argument, which consists of the vectors that compose the unit cell.  There are also convenience constructors that allow you to construct lattices from lengths and angles, as well as from specific crystal systems with appropriate input parameters."
   ]
  },
  {
   "cell_type": "code",
   "execution_count": 4,
   "metadata": {
    "collapsed": false
   },
   "outputs": [
    {
     "name": "stdout",
     "output_type": "stream",
     "text": [
      "a =  2.8\n",
      "alpha =  90.0\n",
      "volume =  21.952\n"
     ]
    }
   ],
   "source": [
    "# Making lattices\n",
    "lattice = Lattice([[2.8, 0, 0], [0, 2.8, 0], [0, 0, 2.8]])\n",
    "lattice = Lattice.from_lengths_and_angles([2.8, 2.8, 2.8], [90, 90, 90])\n",
    "lattice.cubic(2.8)\n",
    "\n",
    "lattice.hexagonal(a = 2.8, c = 3.6)\n",
    "lattice.rhombohedral(a = 2.8, alpha = 60)\n",
    "\n",
    "# Getting lattice info\n",
    "print \"a = \", lattice.a\n",
    "print \"alpha = \", lattice.alpha\n",
    "print \"volume = \", lattice.volume"
   ]
  },
  {
   "cell_type": "markdown",
   "metadata": {},
   "source": [
    "Structures objects are lattices with the addition of contained species.  Structures are constructed from a lattice, a list of species, and a list of coordinates that correspond to each species.  Note that species in this string can contain occupancies (and sometimes must in order to use other tools!).  You can also create structures from spacegroups, and from cif files."
   ]
  },
  {
   "cell_type": "code",
   "execution_count": 5,
   "metadata": {
    "collapsed": false
   },
   "outputs": [
    {
     "name": "stdout",
     "output_type": "stream",
     "text": [
      "Full Formula (Fe2)\n",
      "Reduced Formula: Fe\n",
      "abc   :   2.800000   2.800000   2.800000\n",
      "angles:  90.000000  90.000000  90.000000\n",
      "Sites (2)\n",
      "  #  SP      a    b    c\n",
      "---  ----  ---  ---  ---\n",
      "  0  Fe    0    0    0\n",
      "  1  Fe    0.5  0.5  0.5\n"
     ]
    },
    {
     "data": {
      "text/plain": [
       "u'Nb16 O40'"
      ]
     },
     "execution_count": 5,
     "metadata": {},
     "output_type": "execute_result"
    }
   ],
   "source": [
    "# Making structures\n",
    "bcc_fe = Structure(lattice, [\"Fe\", \"Fe\"], [[0, 0, 0], [0.5, 0.5, 0.5]])\n",
    "site0 = bcc_fe[0]\n",
    "site0.coords\n",
    "site0.species_string\n",
    "site0.x\n",
    "\n",
    "nacl= Structure(lattice, [\"Na+\", \"Cl-\"], [[0, 0, 0], [0.5, 0.5, 0.5]])\n",
    "\n",
    "bcc_fe = Structure.from_spacegroup(\"Im-3m\", Lattice.cubic(2.8), [\"Fe\"], [[0, 0, 0]])\n",
    "print(bcc_fe)\n",
    "big_structure = Structure.from_file(\"Nb2O5.cif\")\n",
    "big_structure.formula"
   ]
  },
  {
   "cell_type": "markdown",
   "metadata": {},
   "source": [
    "Disordered structures can also be constructed using dictionaries that correspond to the species and its occupancy."
   ]
  },
  {
   "cell_type": "code",
   "execution_count": 6,
   "metadata": {
    "collapsed": false
   },
   "outputs": [
    {
     "name": "stdout",
     "output_type": "stream",
     "text": [
      "Full Formula (Cu2 Au2)\n",
      "Reduced Formula: CuAu\n",
      "abc   :   3.677000   3.677000   3.677000\n",
      "angles:  90.000000  90.000000  90.000000\n",
      "Sites (4)\n",
      "  #  SP                        a    b    c\n",
      "---  ----------------------  ---  ---  ---\n",
      "  0  Cu0+:0.500, Au0+:0.500  0    0    0\n",
      "  1  Cu0+:0.500, Au0+:0.500  0    0.5  0.5\n",
      "  2  Cu0+:0.500, Au0+:0.500  0.5  0    0.5\n",
      "  3  Cu0+:0.500, Au0+:0.500  0.5  0.5  0\n"
     ]
    }
   ],
   "source": [
    "# Making disordered structures\n",
    "specie = {\"Cu0+\": 0.5, \"Au0+\":0.5}\n",
    "cu_au = Structure.from_spacegroup(\"Fm-3m\", Lattice.cubic(3.677), [specie], [[0, 0, 0]])\n",
    "print(cu_au)"
   ]
  },
  {
   "cell_type": "markdown",
   "metadata": {},
   "source": [
    "You can also assign site properties flexibly, and some site properties, like `selective_dynamics` will be used in other methods, such as writing a file to POSCAR."
   ]
  },
  {
   "cell_type": "code",
   "execution_count": 7,
   "metadata": {
    "collapsed": false
   },
   "outputs": [],
   "source": [
    "# Manipulating structures and assigning properties to sites\n",
    "big_structure[0] = \"V\"\n",
    "big_structure.formula\n",
    "big_structure[0] = \"Nb\"\n",
    "\n",
    "bcc_fe.append(\"C\", [0.25, 0.25, 0.25])\n",
    "bcc_fe.pop(-1)\n",
    "bcc_fe.make_supercell([2, 2, 2])\n",
    "\n",
    "sd = []\n",
    "names = []\n",
    "for n in range(big_structure.num_sites):\n",
    "    if big_structure[n].species_string == \"Nb\":\n",
    "        sd.append([False, False, False])\n",
    "    else:\n",
    "        sd.append([True, True, True])\n",
    "big_structure.add_site_property(\"selective_dynamics\", sd)\n",
    "big_structure.to(filename=\"POSCAR\")"
   ]
  },
  {
   "cell_type": "markdown",
   "metadata": {},
   "source": [
    "### Exercise 1: \n",
    "\n",
    "You're studying materials used in the chlor-alkali process for the production of Cl<sub>2</sub>.  Find your favorite oxide using the materials project rester.  Replace each oxygen atom with chlorine."
   ]
  },
  {
   "cell_type": "code",
   "execution_count": 8,
   "metadata": {
    "collapsed": false
   },
   "outputs": [],
   "source": [
    "mpr = MPRester()\n",
    "# Potential solution:\n",
    "structure = mpr.get_structures(\"BaNiO3\")[0]\n",
    "for n in range(structure.num_sites):\n",
    "    if structure[n].species_string == 'O':\n",
    "        structure[n] = 'F'\n",
    "\n",
    "# Bonus solution\n",
    "structure.replace_species({'F':'O'})"
   ]
  },
  {
   "cell_type": "markdown",
   "metadata": {},
   "source": [
    "## Transformations\n",
    "\n",
    "Sometimes it's useful to store a transformation, like the one we've just used to replace species, and have it operate on various structures in a workflow.  Pymatgen has transformation objects which can be used to achieve this.  Transformations can be used to replace or modify sites, deform or rotate structures, or even create a set of orderings for disordered structures."
   ]
  },
  {
   "cell_type": "code",
   "execution_count": 9,
   "metadata": {
    "collapsed": false
   },
   "outputs": [
    {
     "data": {
      "text/plain": [
       "4"
      ]
     },
     "execution_count": 9,
     "metadata": {},
     "output_type": "execute_result"
    }
   ],
   "source": [
    "# Using transformations\n",
    "from pymatgen.transformations.standard_transformations import SubstitutionTransformation, DeformStructureTransformation, \\\n",
    "OrderDisorderedStructureTransformation, RotationTransformation\n",
    "structure = mpr.get_structures(\"BaNiO3\")[0]\n",
    "st = SubstitutionTransformation({\"O\":\"F\"})\n",
    "new_structure = st.apply_transformation(structure)\n",
    "old_structure = st.inverse.apply_transformation(new_structure)\n",
    "old_structure == structure\n",
    "\n",
    "# Order disorder\n",
    "odst = OrderDisorderedStructureTransformation()\n",
    "ss = odst.apply_transformation(cu_au)\n",
    "len(ss)"
   ]
  },
  {
   "cell_type": "markdown",
   "metadata": {},
   "source": [
    "---------\n",
    "## SymmetryAnalyzer and StructureMatcher\n",
    "\n",
    "In addition to bookkeeping of structures using Structure objects, pymatgen contains powerful tools for analyzing crystal symmetry and comparing structures.  The SymmetryAnalyzer object is essentially a wrapper around spglib, which is written in c for more efficient determination of invariant symmetry operations and thus crystal symmetry.  The symmetry analyzer can be used to get primitive and standardized conventional cell settings of structures."
   ]
  },
  {
   "cell_type": "code",
   "execution_count": 22,
   "metadata": {
    "collapsed": false
   },
   "outputs": [
    {
     "data": {
      "text/plain": [
       "u'Im-3m'"
      ]
     },
     "execution_count": 22,
     "metadata": {},
     "output_type": "execute_result"
    }
   ],
   "source": [
    "# Get primitive structure of BCC iron\n",
    "from pymatgen.symmetry.analyzer import SpacegroupAnalyzer\n",
    "sga = SpacegroupAnalyzer(bcc_fe)\n",
    "prim = sga.get_primitive_standard_structure() # Note only a single site\n",
    "sga.get_conventional_standard_structure()\n",
    "sga.get_crystal_system()\n",
    "sga.get_spacegroup_symbol()"
   ]
  },
  {
   "cell_type": "markdown",
   "metadata": {},
   "source": [
    "The StructureMatcher object allows you to check whether a \"fit\" between two structures can be achieved."
   ]
  },
  {
   "cell_type": "code",
   "execution_count": 27,
   "metadata": {
    "collapsed": false
   },
   "outputs": [
    {
     "data": {
      "text/plain": [
       "True"
      ]
     },
     "execution_count": 27,
     "metadata": {},
     "output_type": "execute_result"
    }
   ],
   "source": [
    "from pymatgen.analysis.structure_matcher import StructureMatcher\n",
    "sm = StructureMatcher()\n",
    "sm.fit(bcc_fe, prim)"
   ]
  },
  {
   "cell_type": "markdown",
   "metadata": {},
   "source": [
    "### Exercise 2 (from John Dagdalen):\n",
    "<i>Auxetic</i> materials are materials with negative poisson ratios.  In principle, when stretched in a direction, rather than being compressed along the transverse direction, they will expand.  Your experimental collaborator notices that WO<sub>3</sub> has a negative poisson ratio.  You wonder whether there are any AB<sub>3</sub> materials which match structurally to this material that might have similar properties.  Generate a list of such structures using the structure matcher.  Try using the structure matcher for a property you're interested in."
   ]
  },
  {
   "cell_type": "code",
   "execution_count": 51,
   "metadata": {
    "collapsed": false
   },
   "outputs": [],
   "source": [
    "# Limit structures to the same number of sites, just to make it go faster\n",
    "query = mpr.query({\"anonymous_formula\":{\"A\":1, \"B\":3}, \"nsites\":16}, \n",
    "                  {\"structure\":1})\n",
    "\n",
    "structures = [q[\"structure\"] for q in query]\n",
    "wo3 = mpr.get_structure_by_material_id(\"mp-771798\")\n",
    "sm = StructureMatcher()\n",
    "\n",
    "matches = []\n",
    "\n",
    "for structure in structures:\n",
    "    if sm.fit_anonymous(structure, wo3):\n",
    "        matches.append(structure)"
   ]
  },
  {
   "cell_type": "markdown",
   "metadata": {},
   "source": [
    "--------\n",
    "## XRD, Bandstructure, and Density of States"
   ]
  },
  {
   "cell_type": "markdown",
   "metadata": {},
   "source": [
    "### Exercise: Plot the XRD spectra, Bandstructure, and electronic DOS of Au"
   ]
  },
  {
   "cell_type": "code",
   "execution_count": null,
   "metadata": {
    "collapsed": false
   },
   "outputs": [],
   "source": [
    "from pymatgen.analysis.diffraction.xrd import XRDCalculator\n",
    "from pymatgen.electronic_structure.plotter import BSPlotter, DosPlotter\n",
    "from pymatgen.electronic_structure.core import OrbitalType\n",
    "\n",
    "data = mpr.get_data('TiO2')\n",
    "structures = mpr.get_structures(\"TiO2\")\n",
    "xrd_calc = XRDCalculator()\n",
    "#xrd_calc.show_xrd_plot(structures[0])\n",
    "\n",
    "bs = mpr.get_bandstructure_by_material_id(data[0][\"material_id\"])\n",
    "print(bs.get_band_gap())\n",
    "plotter=BSPlotter(bs)\n",
    "#plotter.get_plot().show()\n",
    "#plotter.plot_brillouin()\n",
    "\n",
    "dos = mpr.get_dos_by_material_id(data[0][\"material_id\"])\n",
    "dp = DosPlotter()\n",
    "dos_ti = dos.get_element_spd_dos(\"Ti\")\n",
    "dos_o = dos.get_element_spd_dos(\"O\")\n",
    "dp.add_dos(\"O p-states\", dos_o[OrbitalType.p])\n",
    "dp.add_dos(\"Ti d-states\", dos_ti[OrbitalType.d])\n",
    "dp.get_plot().show()"
   ]
  },
  {
   "cell_type": "markdown",
   "metadata": {},
   "source": [
    "## Phase diagrams"
   ]
  },
  {
   "cell_type": "markdown",
   "metadata": {},
   "source": [
    "### Exercise: Plot phase diagrams for the Ba-Ni-O chemical system"
   ]
  },
  {
   "cell_type": "code",
   "execution_count": null,
   "metadata": {
    "collapsed": false
   },
   "outputs": [],
   "source": [
    "from pymatgen.phasediagram.maker import PhaseDiagram\n",
    "from pymatgen.phasediagram.plotter import PDPlotter\n",
    "\n",
    "entries = mpr.get_entries_in_chemsys([\"Ba\", \"Ni\", \"O\"])\n",
    "pd = PhaseDiagram(entries)\n",
    "plotter = PDPlotter(pd, show_unstable=True) # show_unstable=true\n",
    "plotter.show()"
   ]
  },
  {
   "cell_type": "markdown",
   "metadata": {},
   "source": [
    "## Tensors"
   ]
  },
  {
   "cell_type": "markdown",
   "metadata": {
    "collapsed": true
   },
   "source": [
    "### Fit a \"noisy\" tensor to a particular crystal structure"
   ]
  },
  {
   "cell_type": "markdown",
   "metadata": {},
   "source": [
    "## Surfaces"
   ]
  },
  {
   "cell_type": "markdown",
   "metadata": {
    "collapsed": true
   },
   "source": [
    "### Generate all of the low-index facets for BCC Fe"
   ]
  },
  {
   "cell_type": "code",
   "execution_count": null,
   "metadata": {
    "collapsed": false
   },
   "outputs": [],
   "source": [
    "from pymatgen.symmetry.analyzer import SpacegroupAnalyzer\n",
    "from pymatgen.core.surface import generate_all_slabs\n",
    "lattice = mg.Lattice.cubic(2.85)\n",
    "structure = mg.Structure(lattice, [\"Fe\", \"Fe\"],\n",
    "                         [[0, 0, 0], [0.5, 0.5, 0.5]])\n",
    "\n",
    "slabs = generate_all_slabs(structure, 1, 4, 10)\n",
    "first_slab = slabs[0]\n",
    "first_slab.miller_index\n",
    "for slab in slabs:\n",
    "    print slab.miller_index"
   ]
  },
  {
   "cell_type": "markdown",
   "metadata": {},
   "source": [
    "## Etc."
   ]
  },
  {
   "cell_type": "code",
   "execution_count": null,
   "metadata": {
    "collapsed": false
   },
   "outputs": [],
   "source": [
    "data = mpr.get_data(\"mp-149\")\n",
    "et = data[0][\"elasticity\"][\"elastic_tensor\"]\n",
    "structure = Structure.from_str(data[0][\"cif\"], fmt=\"cif\")"
   ]
  },
  {
   "cell_type": "code",
   "execution_count": null,
   "metadata": {
    "collapsed": true
   },
   "outputs": [],
   "source": []
  }
 ],
 "metadata": {
  "kernelspec": {
   "display_name": "Python 2",
   "language": "python",
   "name": "python2"
  },
  "language_info": {
   "codemirror_mode": {
    "name": "ipython",
    "version": 2
   },
   "file_extension": ".py",
   "mimetype": "text/x-python",
   "name": "python",
   "nbconvert_exporter": "python",
   "pygments_lexer": "ipython2",
   "version": "2.7.12"
  }
 },
 "nbformat": 4,
 "nbformat_minor": 0
}
