{
 "cells": [
  {
   "cell_type": "markdown",
   "metadata": {},
   "source": [
    "# Using the Materials API\n",
    "\n",
    "We will cover:\n",
    "\n",
    "* getting an API key\n",
    "* `pymatgen.MPRester` built-ins\n",
    "* `MPRester.query`\n",
    "* the [mapidoc](https://github.com/materialsproject/mapidoc) repository\n",
    "* accessing the API more directly, with plain HTTP requests (via the Python `requests` library)"
   ]
  }
 ],
 "metadata": {
  "kernelspec": {
   "display_name": "Python 2",
   "language": "python",
   "name": "python2"
  },
  "language_info": {
   "codemirror_mode": {
    "name": "ipython",
    "version": 2
   },
   "file_extension": ".py",
   "mimetype": "text/x-python",
   "name": "python",
   "nbconvert_exporter": "python",
   "pygments_lexer": "ipython2",
   "version": "2.7.10"
  }
 },
 "nbformat": 4,
 "nbformat_minor": 0
}
