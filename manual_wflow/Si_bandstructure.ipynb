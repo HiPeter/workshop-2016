{
 "cells": [
  {
   "cell_type": "markdown",
   "metadata": {
    "slideshow": {
     "slide_type": "slide"
    }
   },
   "source": [
    "# Introduction\n",
    "\n",
    "We're going to run through one full calculation for the band structure of Silicon. We'll start off by optimizing the structure to minimize the forces, then refining the calculation, and finally running a calcluation for the band structure. \n",
    "\n",
    "Goals:\n",
    "* Use Pymatgen to setup and analyze VASP calculations\n",
    "* Use Custodian to manage a VASP calculation"
   ]
  },
  {
   "cell_type": "markdown",
   "metadata": {},
   "source": [
    "# Setup\n",
    "\n",
    "Let's start by setting up some imports for plotting, pretty printing, and file handling.\n",
    "\n",
    "Then we'll make a temporary directory to work in"
   ]
  },
  {
   "cell_type": "code",
   "execution_count": null,
   "metadata": {
    "collapsed": false,
    "scrolled": false,
    "slideshow": {
     "slide_type": "slide"
    }
   },
   "outputs": [],
   "source": [
    "%matplotlib inline\n",
    "import pprint\n",
    "import os\n",
    "import tarfile\n",
    "import glob\n",
    "import matplotlib"
   ]
  },
  {
   "cell_type": "code",
   "execution_count": null,
   "metadata": {
    "collapsed": false,
    "scrolled": false,
    "slideshow": {
     "slide_type": "fragment"
    }
   },
   "outputs": [],
   "source": [
    "os.mkdir(\"Si_BandStructure\")\n",
    "os.chdir(\"Si_BandStructure\")"
   ]
  },
  {
   "cell_type": "markdown",
   "metadata": {
    "slideshow": {
     "slide_type": "slide"
    }
   },
   "source": [
    "# Building a VASP input set\n",
    "\n",
    "In this section, we'll build a vasp input set by 'hand' using the structures in Pymatgen. All DFT codes have some sort of input deck or set. This tells the code the parameters of the calculations, the structure to work with, and any input data needed for the calculation. For Pymatgen, the VASP interface is the best developed since it is the code being used for the Materials Project.\n",
    "\n",
    "A VASP input set consists of:\n",
    "* POSCAR - the file that defines the structure\n",
    "* POTCAR - the pseudopotentials that are used in the calculation\n",
    "* INCAR - input commands that determine what kind of calcluation to run and to what tolerances\n",
    "* KPOINTS - The recipricol space mesh that the calculations are run on\n",
    "\n",
    "Let's build each of these and examine their structure in python and as actual input files to VASP. First we'll import the silicon structure as a pymatgen structure. "
   ]
  },
  {
   "cell_type": "code",
   "execution_count": null,
   "metadata": {
    "collapsed": false,
    "scrolled": false,
    "slideshow": {
     "slide_type": "subslide"
    }
   },
   "outputs": [],
   "source": [
    "from pymatgen.util.testing import PymatgenTest \n",
    "struct_si = PymatgenTest.get_structure(\"Si\")\n",
    "print(struct_si)"
   ]
  },
  {
   "cell_type": "markdown",
   "metadata": {},
   "source": [
    "Next, we'll build a POSCAR and look at it's structure. Note that there is no need to examine the structure of the POSCAR file itself since we have a full python interface to this input."
   ]
  },
  {
   "cell_type": "code",
   "execution_count": null,
   "metadata": {
    "collapsed": false,
    "scrolled": false,
    "slideshow": {
     "slide_type": "subslide"
    }
   },
   "outputs": [],
   "source": [
    "from pymatgen.io.vasp.inputs import Poscar\n",
    "\n",
    "Pos = Poscar(struct_si)\n",
    "print(Pos)"
   ]
  },
  {
   "cell_type": "markdown",
   "metadata": {},
   "source": [
    "Next, we'll build a KPOiNTS file which gives VASP the recipricoal space mesh that the calculation will be performed. There are several ways to do this in pymatgen. The default constructur is highly flexible and can be used to explcitiy specify kpoints, the shift, coord type, weights, etc. This can be complicated so there are automatic generator schemes that are very powerfull."
   ]
  },
  {
   "cell_type": "code",
   "execution_count": null,
   "metadata": {
    "collapsed": false,
    "scrolled": false,
    "slideshow": {
     "slide_type": "subslide"
    }
   },
   "outputs": [],
   "source": [
    "from pymatgen.io.vasp.inputs import Kpoints\n",
    "\n",
    "kp = Kpoints()\n",
    "kp = kp.automatic_gamma_density(struct_si,600)\n",
    "print(kp)"
   ]
  },
  {
   "cell_type": "markdown",
   "metadata": {},
   "source": [
    "Next, we'll build a POTCAR which contains the potentails used in the calculation. These potentials contain most of the element specific physics. Due to the complexity of these physics, there are several different types of potentials and sub-potentials. Understanding the potentials, the physics they describe, and how to use them is key to running DFT calculations in general, but is outside of the scope of this lesson.\n",
    "\n",
    "The VASP potentials are proprietary and a license is necessary to actually use them. We can't distribute them. Rather we've set up this Docker container with the potentials so you can explore Pymatgen's ability to build POTCARs"
   ]
  },
  {
   "cell_type": "code",
   "execution_count": null,
   "metadata": {
    "collapsed": false,
    "scrolled": true,
    "slideshow": {
     "slide_type": "subslide"
    }
   },
   "outputs": [],
   "source": [
    "from pymatgen.io.vasp.inputs import Potcar\n",
    "\n",
    "pots = Potcar([\"Si\"])\n",
    "print(pots)"
   ]
  },
  {
   "cell_type": "markdown",
   "metadata": {},
   "source": [
    "Let's see how difficult it is to change functionals. "
   ]
  },
  {
   "cell_type": "code",
   "execution_count": null,
   "metadata": {
    "collapsed": false,
    "scrolled": true
   },
   "outputs": [],
   "source": [
    "pots_lda = Potcar(['Si'],functional=\"LDA\")\n",
    "print(pots)"
   ]
  },
  {
   "cell_type": "markdown",
   "metadata": {},
   "source": [
    "The final input file is the INCAR. This file describes the calcluations parameter such as type, what to output, whether to continue a calculation, how precise and accurate to run, etc. In VASP, this file is a series of tags and values. In python that same organization can be achieved with a dictionary. The input for an INCAR object is just a dictionary of tags and values."
   ]
  },
  {
   "cell_type": "code",
   "execution_count": null,
   "metadata": {
    "collapsed": false,
    "scrolled": false,
    "slideshow": {
     "slide_type": "subslide"
    }
   },
   "outputs": [],
   "source": [
    "from pymatgen.io.vasp.inputs import Incar\n",
    "\n",
    "inc = Incar({'NELM': 100, # Max electronic self-consistency steps \n",
    "             'IBRION': 2, # Relax using conjugate gradient\n",
    "             'LWAVE': False, # Don't write wave function to WAVECAR\n",
    "             'ISMEAR': -5, # Tetrahedron method with Blochl corrections for partial occupancies\n",
    "             'SIGMA': 0.05, # smearing width in eV\n",
    "             'MAGMOM': [0.6, 0.6], # Initial magnetic moment\n",
    "             'ENCUT': 520, # Cutoff energy for plane wave basis set\n",
    "             'ISIF': 3, # Full degree of freedom and calcualte stress tensor\n",
    "             u'EDIFF': 0.0001, # Allowed error in total energy\n",
    "             'NSW': 99, # Max ionic steps\n",
    "             'LREAL': 'Auto', # Automatically determine if projection done in real space or recipricol space\n",
    "             'PREC': 'Accurate', # Accurate precision mode\n",
    "             'ALGO': 'Fast', # Fast electronic minimization algorithm\n",
    "             'ISPIN': 2, # spin polarized calculations\n",
    "             'LORBIT': 11 # Write Density of States\n",
    "            })\n",
    "print(inc)"
   ]
  },
  {
   "cell_type": "markdown",
   "metadata": {},
   "source": [
    "# Pymatgen Input Sets \n",
    "\n",
    "That was fun, but tedious. There is no way to do that manually for thousands, or even tens of thousands of calculations. What we need is a default set of parameters that is adaptable enough to handle most structures we can throw at it for a specific type of calculation. In Pymatgen, this comes in teh form of an input set. So Let's take the last 4 cells of work and reduce it down to 1, and then write the input to files in the current directory"
   ]
  },
  {
   "cell_type": "code",
   "execution_count": null,
   "metadata": {
    "collapsed": false,
    "scrolled": true
   },
   "outputs": [],
   "source": [
    "from pymatgen.io.vasp.sets import MPRelaxSet\n",
    "\n",
    "vis = MPRelaxSet(struct_si, force_gamma=True)\n",
    "\n",
    "print(vis.poscar)\n",
    "print(vis.kpoints)\n",
    "print(vis.incar)\n",
    "print(vis.potcar)\n",
    "vis.write_input(\".\")"
   ]
  },
  {
   "cell_type": "markdown",
   "metadata": {},
   "source": [
    "# Pretend to run VASP\n",
    "\n",
    "It's not feasible for us to run VASP and wait. Thankfully we've provided you with the appropriate outputs so that you can pretend to run VASP. Let's copy those over."
   ]
  },
  {
   "cell_type": "code",
   "execution_count": null,
   "metadata": {
    "collapsed": false,
    "scrolled": false
   },
   "outputs": [],
   "source": [
    "!cp ../outputs/Si_Opt/* .\n",
    "!ls"
   ]
  },
  {
   "cell_type": "markdown",
   "metadata": {},
   "source": [
    "# Parse outputs\n",
    "\n",
    "Setting up inputs is great. But, we also need to parse that information. VASP generates a lot of data. \n",
    "\n",
    "* OUTCAR - the main output file\n",
    "* CHGCAR - the charge density\n",
    "* WAVECAR - the wave functions\n",
    "* CONTCAR - the relaxed structure\n",
    "* DOSCAR - the density of states\n",
    "* vasprun.xml - a xml version of much of the output\n",
    "* and more .....\n",
    "Just finding the structure of these files is a lot of work. Thankfully, someone has done that work and put it together into nice python objects. Not all of the possible VASP output data is compiled in these objects, but most of if it is.\n",
    "\n",
    "Let's take a look at the vasprun.xml file in the python object"
   ]
  },
  {
   "cell_type": "code",
   "execution_count": null,
   "metadata": {
    "collapsed": false,
    "scrolled": true
   },
   "outputs": [],
   "source": [
    "from pymatgen.io.vasp.outputs import Vasprun\n",
    "\n",
    "vrun = Vasprun(\"vasprun.xml\")\n",
    "vrun.as_dict()"
   ]
  },
  {
   "cell_type": "markdown",
   "metadata": {},
   "source": [
    "# Running under custodian\n",
    "What happens if a calculation fails? When we want to run high throughput calculations, we can't babysit each and every instance of VASP. These silicon calculations are very easy to perform, but a good high throughput search will have many errors that can be easily fixed with a slight modification of the input. This requires a Just In Time (JIT) debugging scheme that can watch the output, fix errors, and rerun VASP or any other pacakge. Custodian is designed to just that. \n",
    "\n",
    "First let's clean up the current directory:"
   ]
  },
  {
   "cell_type": "code",
   "execution_count": null,
   "metadata": {
    "collapsed": false,
    "scrolled": false
   },
   "outputs": [],
   "source": [
    "# Clean up \n",
    "!mkdir opt\n",
    "!mv * opt\n",
    "!ls"
   ]
  },
  {
   "cell_type": "markdown",
   "metadata": {},
   "source": [
    "Now, let's build a static calculation. The optimization calcualtions allows the postiions of hte ions to relax. Once this is done, we can refine the charge density and wave functions to higher precision, which we call a static calculation. To do this, we need to provide it the output from the optimization calculation. The pymatgen input sets know what information is needed for the calcalation and pull them from the appropriate files when told to pull from a previous calculation:"
   ]
  },
  {
   "cell_type": "code",
   "execution_count": null,
   "metadata": {
    "collapsed": false,
    "scrolled": false
   },
   "outputs": [],
   "source": [
    "from pymatgen.io.vasp.sets import MPStaticSet\n",
    "static_vis = MPStaticSet.from_prev_calc(\"./opt\")\n",
    "static_vis.write_input(\".\")\n",
    "!ls"
   ]
  },
  {
   "cell_type": "markdown",
   "metadata": {},
   "source": [
    "Custodian is a just in time job management framework. It has been developed to be generic, although the extensive development under the Materials Project umbrella has resulted in a very capable code base for VASP. There are 3 things custodian needs to run a code like VASP:\n",
    "* Job - runs the application and does necessart setup and book keeping\n",
    "* Error Handlers - look for specific problems, identifies them, and can fix them if they are fixable\n",
    "* Validators - validates the output to ensure the job was run correctly \n",
    "\n",
    "The custodian.vasp module contains all three. We'll use this framework to build a simple custodian job that runs a dummy vasp command. We'll use the basic error handler which is designed to account for a number of basic errors that vasp can throw. Finally, we'll validate based on the XML output. "
   ]
  },
  {
   "cell_type": "code",
   "execution_count": null,
   "metadata": {
    "collapsed": false,
    "scrolled": false
   },
   "outputs": [],
   "source": [
    "from custodian import Custodian\n",
    "from custodian.vasp.handlers import VaspErrorHandler\n",
    "from custodian.vasp.jobs import VaspJob\n",
    "from custodian.vasp.validators import VasprunXMLValidator\n",
    "\n",
    "handlers = [VaspErrorHandler()]\n",
    "jobs = [VaspJob(vasp_cmd=[\"echo\",\"hello\"])]\n",
    "validators = [VasprunXMLValidator()]\n",
    "\n",
    "c = Custodian(handlers,jobs,validators)\n",
    "c.run()"
   ]
  },
  {
   "cell_type": "markdown",
   "metadata": {},
   "source": [
    "Since we can't run vasp, we can't see it's JIT error handling, but it's based on the same type of code as validator. It also fixes and reruns vasp as possible. Some % of production queue is fixed by custodian. To illustrate, we have blank number of jobs.\n",
    "\n",
    "Let's move the output to this directory to simulate a vasp run and see how custodian works when everything seems fine. "
   ]
  },
  {
   "cell_type": "code",
   "execution_count": null,
   "metadata": {
    "collapsed": false,
    "scrolled": false
   },
   "outputs": [],
   "source": [
    "# Place pre-run files in Si_BandStructure\n",
    "!cp ../outputs/Si_Static/* .\n",
    "  \n",
    "c.run()"
   ]
  },
  {
   "cell_type": "markdown",
   "metadata": {},
   "source": [
    "# Exercise - NonSCF Calculation\n",
    "\n",
    "To finish off this lesson, we'll pretend to run a NonSCF calculation. We'll use the output from the previous static calculation, and calcualte along a line to get a bandstructure using a kpoints line density of 20. Let's prep the previous static calculation output:"
   ]
  },
  {
   "cell_type": "code",
   "execution_count": null,
   "metadata": {
    "collapsed": false,
    "scrolled": false
   },
   "outputs": [],
   "source": [
    "!mkdir static\n",
    "!mv * static"
   ]
  },
  {
   "cell_type": "markdown",
   "metadata": {},
   "source": [
    "There is a NonSCF inputset in pymatgen that takes a mode argument that can be set to \"line\" and a kpoints_line_density. Use that to make the apppropriate input set, inspect the kpoints, write the inputset, and inspect the resulting input files."
   ]
  },
  {
   "cell_type": "code",
   "execution_count": null,
   "metadata": {
    "collapsed": false,
    "scrolled": true
   },
   "outputs": [],
   "source": [
    "from pymatgen.io.vasp.sets import MPNonSCFSet\n",
    "\n",
    "NonSCF_vis = MPNonSCFSet.from_prev_calc(\"./static\",mode=\"Line\")\n",
    "print(NonSCF_vis.kpoints)"
   ]
  },
  {
   "cell_type": "code",
   "execution_count": null,
   "metadata": {
    "collapsed": false,
    "scrolled": false
   },
   "outputs": [],
   "source": [
    "NonSCF_vis.write_input('.')\n",
    "!ls"
   ]
  },
  {
   "cell_type": "markdown",
   "metadata": {
    "collapsed": true
   },
   "source": [
    "# Lets Pretend to run vasp"
   ]
  },
  {
   "cell_type": "code",
   "execution_count": null,
   "metadata": {
    "collapsed": false,
    "scrolled": false
   },
   "outputs": [],
   "source": [
    "!cp ../outputs/Si_NonSCF/* .\n",
    "!ls"
   ]
  },
  {
   "cell_type": "markdown",
   "metadata": {},
   "source": [
    "# Plot the band structure\n",
    "\n",
    "The output of a NonSCF calculation along a set of high symmetry k-points is effectively a bandstructure. Getting this info from the vasp output and plotting it is a lot of work. Let's use pymatgen to do that work for us:"
   ]
  },
  {
   "cell_type": "code",
   "execution_count": null,
   "metadata": {
    "collapsed": true,
    "scrolled": true
   },
   "outputs": [],
   "source": [
    "from pymatgen.io.vasp.outputs import Vasprun\n",
    "from pymatgen.electronic_structure.plotter import BSPlotter\n",
    "\n",
    "vrun = Vasprun(\"vasprun.xml\")\n",
    "band_struc = vrun.get_band_structure(kpoints_filename=\"KPOINTS\",line_mode=True)\n",
    "bs_plotter = BSPlotter(band_struc)\n",
    "bs_plotter.show()"
   ]
  },
  {
   "cell_type": "markdown",
   "metadata": {
    "collapsed": true
   },
   "source": [
    "# Finalize"
   ]
  },
  {
   "cell_type": "code",
   "execution_count": null,
   "metadata": {
    "collapsed": false,
    "scrolled": false
   },
   "outputs": [],
   "source": [
    "os.chdir(\"..\")\n",
    "!rm -Rf Si_BandStructure"
   ]
  }
 ],
 "metadata": {
  "kernelspec": {
   "display_name": "Python 2",
   "language": "python",
   "name": "python2"
  },
  "language_info": {
   "codemirror_mode": {
    "name": "ipython",
    "version": 2
   },
   "file_extension": ".py",
   "mimetype": "text/x-python",
   "name": "python",
   "nbconvert_exporter": "python",
   "pygments_lexer": "ipython2",
   "version": "2.7.11"
  }
 },
 "nbformat": 4,
 "nbformat_minor": 0
}
