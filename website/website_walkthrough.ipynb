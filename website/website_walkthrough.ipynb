{
 "cells": [
  {
   "cell_type": "markdown",
   "metadata": {},
   "source": [
    "# Website walkthrough"
   ]
  },
  {
   "cell_type": "markdown",
   "metadata": {},
   "source": [
    "## Materials Explorer\n",
    "10min\n",
    "\n",
    "Exploring materials by chemistry\n",
    "- elements / chemical system\n",
    "- formula\n",
    "- auto-nelements\n",
    "- exclude elements\n",
    "\n",
    "By properties\n",
    "- sliders, with type-in endpoints\n",
    "\n",
    "\n"
   ]
  },
  {
   "cell_type": "markdown",
   "metadata": {},
   "source": [
    "### Exercise\n",
    "\n",
    "Of ABO3 compounds with a band gap between 1 and 4 eV and energy above hull at most 10 meV, which has the highest density?"
   ]
  },
  {
   "cell_type": "markdown",
   "metadata": {},
   "source": [
    "## Material Details\n",
    "10min\n",
    "\n",
    "SrTiO3 (mp-4651)\n",
    "\n",
    "- CIF viewer\n",
    "- computed lattice params (primitive cell vs. conv. std.)\n",
    "- Help guides\n",
    "- Interactive ES/DOS\n",
    "- XRD\n",
    "- Substrates\n",
    "- Elasticity (not present for all)\n",
    "- Calculation summary and task details\n",
    "- User-contributed data\n",
    "- Provenance + DOI\n",
    "\n",
    "Other details not present in this material:\n",
    "- Piezoelectric properties (see e.g. mp-22205 (InN))\n",
    "- Surface properties (currently only for elemental compounds -- see e.g. mp-124 (Ag))\n",
    "- If no elasticity, can request prediction"
   ]
  },
  {
   "cell_type": "markdown",
   "metadata": {},
   "source": [
    "### Exercise\n",
    "\n",
    "Find another material of interest and explore its detail page."
   ]
  },
  {
   "cell_type": "markdown",
   "metadata": {},
   "source": [
    "## Phase Diagram"
   ]
  },
  {
   "cell_type": "markdown",
   "metadata": {},
   "source": [
    "### Exercise\n",
    "\n",
    "Experimentalists unsuccessfully attempt to prepare the ternary phase NaFeS2. Use the phase diagram app to map out the stable phases of the \"Na Fe S\" system. What compounds does NaFeS<sub>2</sub> decompose to, according to MP data?\n",
    "\n",
    "reference: [Pyrite Formation via Kinetic Intermediates through Low-Temperature Solid-State Metathesis](http://dx.doi.org/10.1021/ja5081647)"
   ]
  },
  {
   "cell_type": "markdown",
   "metadata": {},
   "source": [
    "### Exercise\n",
    "\n",
    "A group of researchers want to develop lead-free compounds for photovoltaic applications. They decide to screen a total of 360 candidate inorganic halide perovskites AMX3 for desirable bandgaps and chemical stability. Using DFT and using experimental data to calibrate a filtering by PBE-DFT bandgaps, which are expected to underestimate true experiemntal values, they identify nine candidate compositions: KSnBr3, KSnI3, RbSnBr3, RbSnI3, CsSnBr3, KGeBr3, KGeI3, RbGeI3 and CsGeI3.\n",
    "\n",
    "Use the phase diagram app to evaluate the thermodynamic stability of these compositions according to MP data, i.e. which ones are energentically stable with respect to simpler binary phases?\n",
    "\n",
    "reference: [Lead-free germanium iodide perovskite materials for photovoltaic applications](http://dx.doi.org/10.1039/C5TA05741H)"
   ]
  },
  {
   "cell_type": "markdown",
   "metadata": {},
   "source": [
    "### Exercise\n",
    "\n",
    "Plot grand potential phase diagrams of Li + P closed and oxygen open. For what range of oxygen chemical potentials is Li3P7 thermodynamically stable?"
   ]
  },
  {
   "cell_type": "markdown",
   "metadata": {},
   "source": [
    "## Pourbaix diagram"
   ]
  },
  {
   "cell_type": "markdown",
   "metadata": {},
   "source": [
    "### Exercise\n",
    "\n",
    "Examine the Pourbaix diagram for the 50%-50% Bi-V system in aqueous solution, assuming ion concentrations both at 10^-5 mol/kg. Is bismuth vanadate (BiVO4) expected to be thermodynamically stable against decomposition at potentials close to the oxygen evolution potential?\n",
    "\n",
    "reference: [Mechanistic insights into chemical and photochemical transformations of bismuth vanadate photoanodes](http://dx.doi.org/10.1038/ncomms12012)"
   ]
  }
 ],
 "metadata": {
  "kernelspec": {
   "display_name": "Python 2",
   "language": "python",
   "name": "python2"
  },
  "language_info": {
   "codemirror_mode": {
    "name": "ipython",
    "version": 2
   },
   "file_extension": ".py",
   "mimetype": "text/x-python",
   "name": "python",
   "nbconvert_exporter": "python",
   "pygments_lexer": "ipython2",
   "version": "2.7.10"
  }
 },
 "nbformat": 4,
 "nbformat_minor": 0
}
