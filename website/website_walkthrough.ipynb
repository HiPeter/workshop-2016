{
 "cells": [
  {
   "cell_type": "markdown",
   "metadata": {},
   "source": [
    "# Website walkthrough\n",
    "\n",
    "* Materials Explorer\n",
    "* Material Details\n",
    "* Battery Explorer and Details\n",
    "* Crystal Toolkit\n",
    "* Structure Predictor\n",
    "* Phase Diagram App\n",
    "* Pourbaix Diagram App\n",
    "* Others, briefly\n",
    "  * Molecules Explorer / RFB Dashboard\n",
    "  * Reaction Calculator\n",
    "  * Nanoporous Materials Explorer\n",
    "  * Thermodynamic Data Search\n",
    "  * Compare Elements"
   ]
  },
  {
   "cell_type": "markdown",
   "metadata": {},
   "source": [
    "## Materials Explorer\n",
    "10min\n",
    "\n",
    "Exploring materials by chemistry\n",
    "- elements / chemical system (Na-O)\n",
    "- formula (Fe2O3)\n",
    "- wildcard syntax (\\*2O, \\*-Fe-O)\n",
    "- auto-nelements (Na-O, >=2)\n",
    "- exclude elements\n",
    "\n",
    "Other input modes\n",
    "- mp-ids\n",
    "- mpquery\n",
    "  - {\"elements\":{\"\\$in\":[\"Li\", \"Na\", \"K\"], \"\\$all\": [\"O\"]}, \"nelements\":2}\n",
    "  - {\"anonymous_formula\": {\"A\": 1, \"B\": 1, \"C\": 1, \"D\": 3}}\n",
    "- structure (d/l Na2O2, DnD)\n",
    "- tags (disodium peroxide)\n",
    "\n",
    "By properties\n",
    "- sliders, with type-in endpoints\n",
    "- band gap, 0.5 to 3\n",
    "- e above hull, type in 0.1\n",
    "- has bandstructure\n",
    "- elasticity.K_VRH >= 100"
   ]
  },
  {
   "cell_type": "markdown",
   "metadata": {},
   "source": [
    "### Exercise\n",
    "\n",
    "Of ABO3 compounds with a band gap between 1 and 4 eV and energy above hull at most 50 meV, which has the highest density?"
   ]
  },
  {
   "cell_type": "markdown",
   "metadata": {},
   "source": [
    "## Material Details\n",
    "10min\n",
    "\n",
    "TiCoSb (mp-5967)\n",
    "\n",
    "- DOI\n",
    "- CIF viewer\n",
    "- computed lattice params (primitive cell vs. conv. std.)\n",
    "- Help guides\n",
    "- Interactive ES/DOS\n",
    "- XRD\n",
    "- Substrates\n",
    "- Elasticity (not present for all)\n",
    "- Piezoelectricity (not present for all)\n",
    "- Calculation summary and task details\n",
    "- User-contributed data\n",
    "- Provenance\n",
    "  - ICSD duplicates\n",
    "\n",
    "Details not present in this material:\n",
    "- Surface properties (currently only for elemental compounds -- see e.g. mp-124 (Ag))\n",
    "- If no elasticity, can request prediction"
   ]
  },
  {
   "cell_type": "markdown",
   "metadata": {},
   "source": [
    "### Exercise\n",
    "\n",
    "Find a material of interest to you and explore its detail page."
   ]
  },
  {
   "cell_type": "markdown",
   "metadata": {},
   "source": [
    "## Battery Explorer\n",
    "15min\n",
    "\n",
    "Presentation by Miao Liu\n",
    "\n",
    "Search \"Co-O\", limit to Li as working ion. First result is LiCoO2, prevalent in cell phones and laptops."
   ]
  },
  {
   "cell_type": "markdown",
   "metadata": {},
   "source": [
    "## Crystal Toolkit\n",
    "10min\n",
    "\n",
    "Presentation by Miao Liu\n",
    "\n",
    "Search \"Co-O\", limit to Li as working ion. First result is LiCoO2, prevalent in cell phones and laptops."
   ]
  },
  {
   "cell_type": "markdown",
   "metadata": {},
   "source": [
    "## Structure Predictor\n",
    "10min\n",
    "\n",
    "Go over public P:[5] V:[3] O:[-2] Li:[1] [predictions](https://materialsproject.org/apps/structure_predictor/1398/). Look at crystal prediction [32261](https://materialsproject.org/apps/structure_predictor/1398/crystals/32261), look for it in MP, and then search for battery details.\n",
    "\n",
    "\n",
    "[A Computational Investigation of Li9M3(P2O7)3(PO4)2 (M = V, Mo) as Cathodes for Li Ion Batteries](http://dx.doi.org/10.1149/2.080205jes)"
   ]
  },
  {
   "cell_type": "markdown",
   "metadata": {},
   "source": [
    "## Phase Diagram App"
   ]
  },
  {
   "cell_type": "markdown",
   "metadata": {},
   "source": [
    "### Exercise\n",
    "\n",
    "Experimentalists unsuccessfully attempt to prepare the ternary phase NaFeS2. Use the phase diagram app to map out the stable phases of the \"Na Fe S\" system. What compounds does NaFeS<sub>2</sub> decompose to, according to MP data?\n",
    "\n",
    "reference: [Pyrite Formation via Kinetic Intermediates through Low-Temperature Solid-State Metathesis](http://dx.doi.org/10.1021/ja5081647)"
   ]
  },
  {
   "cell_type": "markdown",
   "metadata": {},
   "source": [
    "### Exercise\n",
    "\n",
    "A group of researchers want to develop lead-free compounds for photovoltaic applications. They decide to screen a total of 360 candidate inorganic halide perovskites AMX3 for desirable bandgaps and chemical stability. Using DFT and using experimental data to calibrate a filtering by PBE-DFT bandgaps, which are expected to underestimate true experiemntal values, they identify nine candidate compositions: KSnBr3, KSnI3, RbSnBr3, RbSnI3, CsSnBr3, KGeBr3, KGeI3, RbGeI3 and CsGeI3.\n",
    "\n",
    "Use the phase diagram app to evaluate the thermodynamic stability of these compositions according to MP data, i.e. which ones are energentically stable with respect to simpler binary phases?\n",
    "\n",
    "reference: [Lead-free germanium iodide perovskite materials for photovoltaic applications](http://dx.doi.org/10.1039/C5TA05741H)"
   ]
  },
  {
   "cell_type": "markdown",
   "metadata": {},
   "source": [
    "### Exercise\n",
    "\n",
    "Plot grand potential phase diagrams of Li + P closed and oxygen open. For what range of oxygen chemical potentials is Li3P7 thermodynamically stable?"
   ]
  },
  {
   "cell_type": "markdown",
   "metadata": {},
   "source": [
    "## Pourbaix Diagram App"
   ]
  },
  {
   "cell_type": "markdown",
   "metadata": {},
   "source": [
    "### Exercise\n",
    "\n",
    "Examine the Pourbaix diagram for the 50%-50% Bi-V system in aqueous solution, assuming ion concentrations both at 10^-5 mol/kg. Is bismuth vanadate (BiVO4) expected to be thermodynamically stable against decomposition at potentials close to the oxygen evolution potential?\n",
    "\n",
    "reference: [Mechanistic insights into chemical and photochemical transformations of bismuth vanadate photoanodes](http://dx.doi.org/10.1038/ncomms12012)"
   ]
  },
  {
   "cell_type": "markdown",
   "metadata": {},
   "source": [
    "## Molecules Explorer"
   ]
  },
  {
   "cell_type": "markdown",
   "metadata": {},
   "source": [
    "Substructure search for quinoxalene molecules w/ pyrazine ring flanked by benzene rings."
   ]
  }
 ],
 "metadata": {
  "kernelspec": {
   "display_name": "Python 2",
   "language": "python",
   "name": "python2"
  },
  "language_info": {
   "codemirror_mode": {
    "name": "ipython",
    "version": 2
   },
   "file_extension": ".py",
   "mimetype": "text/x-python",
   "name": "python",
   "nbconvert_exporter": "python",
   "pygments_lexer": "ipython2",
   "version": "2.7.10"
  }
 },
 "nbformat": 4,
 "nbformat_minor": 0
}
