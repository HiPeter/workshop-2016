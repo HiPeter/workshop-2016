{
 "cells": [
  {
   "cell_type": "markdown",
   "metadata": {},
   "source": [
    "# Automating workflows: FireWorks"
   ]
  },
  {
   "cell_type": "markdown",
   "metadata": {
    "collapsed": true
   },
   "source": [
    "* Make sure you have the mongodb server running on your computer\n",
    "* Workflows are made of three main components:\n",
    " * <b>FireTask:</b> an atomic computing job. It can call a single shell script or execute a single Python function that you define (either within FireWorks, or in an external package).\n",
    " * <b>Firework:</b> JSON spec that includes all the information needed to bootstrap your job. *spec* has all the information required to run the FireTasks.\n",
    " * <b>Workflow:</b> is a set of FireWorks with dependencies between them. "
   ]
  },
  {
   "cell_type": "code",
   "execution_count": null,
   "metadata": {
    "collapsed": true
   },
   "outputs": [],
   "source": [
    "# Import the necessary FireWorks tools:\n",
    "from fireworks import Firework, Workflow, LaunchPad, ScriptTask\n",
    "from fireworks.core.rocket_launcher import rapidfire, launch_rocket"
   ]
  },
  {
   "cell_type": "code",
   "execution_count": null,
   "metadata": {
    "collapsed": false
   },
   "outputs": [],
   "source": [
    "# Set up the LaunchPad and reset it\n",
    "launchpad = LaunchPad()\n",
    "launchpad.reset('', require_password=False)"
   ]
  },
  {
   "cell_type": "markdown",
   "metadata": {},
   "source": [
    "* Now, if you haven't done yet, go to your jupyter home, and launch a New Terminal\n",
    "* Let's check if we have any workflows. Type in your ipython terminal:\n",
    "```bash\n",
    "lpad get_wflows\n",
    "```\n",
    "* lpad gives you the full control of your workflows.\n",
    " * To learn more:\n",
    "```bash\n",
    "lpad -h\n",
    "```\n",
    " * Or for help on a specific argument, e.g.:\n",
    "```bash\n",
    "lpad get_wflows -h\n",
    "```"
   ]
  },
  {
   "cell_type": "markdown",
   "metadata": {},
   "source": [
    "# My first \"hello world\" workflow"
   ]
  },
  {
   "cell_type": "markdown",
   "metadata": {},
   "source": [
    "Goal: create a Workflow that contains two fireworks, and each firework will run a ScriptTask that prints a message to the stdout."
   ]
  },
  {
   "cell_type": "code",
   "execution_count": null,
   "metadata": {
    "collapsed": true
   },
   "outputs": [],
   "source": [
    "# Let's create a task that prints 'hello' to standard output\n",
    "task1 = ScriptTask.from_str('echo \"hello\"')"
   ]
  },
  {
   "cell_type": "code",
   "execution_count": null,
   "metadata": {
    "collapsed": true
   },
   "outputs": [],
   "source": [
    "# Let's create another task that prints 'goodbye'\n",
    "task2 = ScriptTask.from_str('echo \"goodbye\"')"
   ]
  },
  {
   "cell_type": "code",
   "execution_count": null,
   "metadata": {
    "collapsed": true
   },
   "outputs": [],
   "source": [
    "# A firework that will run the first task\n",
    "fw1 = Firework(task1, name=\"hello\") "
   ]
  },
  {
   "cell_type": "code",
   "execution_count": null,
   "metadata": {
    "collapsed": false
   },
   "outputs": [],
   "source": [
    "# A firework that will run the second task, after the first firework\n",
    "fw2 = Firework(task2, name=\"goodbye\")"
   ]
  },
  {
   "cell_type": "code",
   "execution_count": null,
   "metadata": {
    "collapsed": true
   },
   "outputs": [],
   "source": [
    "# Let's combine the fws in a workflow:\n",
    "wf = Workflow([fw1, fw2], {fw1:fw2}, name=\"test workflow\")"
   ]
  },
  {
   "cell_type": "code",
   "execution_count": null,
   "metadata": {
    "collapsed": false
   },
   "outputs": [],
   "source": [
    "# Before adding the workflow to our LaunchPad and running it, let's investigate it a little:\n",
    "wf.as_dict()"
   ]
  },
  {
   "cell_type": "code",
   "execution_count": null,
   "metadata": {
    "collapsed": false
   },
   "outputs": [],
   "source": [
    "# What are the dependencies of our fireworks?\n",
    "wf.links"
   ]
  },
  {
   "cell_type": "code",
   "execution_count": null,
   "metadata": {
    "collapsed": false
   },
   "outputs": [],
   "source": [
    "# Now let's add the workflow in the LaunchPad!\n",
    "launchpad.add_wf(wf)"
   ]
  },
  {
   "cell_type": "markdown",
   "metadata": {},
   "source": [
    "Check again the workflows we have using lpad:\n",
    "```bash\n",
    "lpad get_wflows\n",
    "lpad get_wflows -d more\n",
    "lpad get_wflows -d all\n",
    "```"
   ]
  },
  {
   "cell_type": "markdown",
   "metadata": {},
   "source": [
    "THE BIG MOMENT, LET's LAUNCH OUR WORKFLOW! In your terminal:\n",
    "\n",
    "```bash\n",
    "rlaunch -s rapidfire\n",
    "```"
   ]
  },
  {
   "cell_type": "code",
   "execution_count": null,
   "metadata": {
    "collapsed": false
   },
   "outputs": [],
   "source": [
    "# You could launch the workflow in python as well (look between the lines in your terminal!)\n",
    "launchpad.add_wf(wf)\n",
    "rapidfire(launchpad)"
   ]
  },
  {
   "cell_type": "markdown",
   "metadata": {},
   "source": [
    "* Congratulations! You have successfully run your first workflow!\n",
    "* You should see \"hello\" and \"goodbye\" printed in your stdout.\n",
    "* Check your workflow with lpad again. The state should read <b>COMPLETED</b>.\n",
    "* Remember, -d more option will print more information:\n",
    "```bash\n",
    "lpad get_wflows -d more\n",
    "```\n",
    "* We can now see the state of each firework as well. Check what these look like:\n",
    " * state (of workflow)\n",
    " * states (of fws)\n",
    " * launch_dirs"
   ]
  },
  {
   "cell_type": "markdown",
   "metadata": {},
   "source": [
    "# Dependencies of fws\n",
    "When we described our workflow, we told fireworks that *fw2* depends on *fw1*:<br>\n",
    "```python\n",
    "Workflow([fw1, fw2], {fw1:fw2}, name=\"test work*flow\")\n",
    "```\n",
    "<br>\n",
    "We can also define the same dependency when defining your fireworks with the <b>parents</b> argument:"
   ]
  },
  {
   "cell_type": "code",
   "execution_count": null,
   "metadata": {
    "collapsed": false
   },
   "outputs": [],
   "source": [
    "fw1 = Firework(task1, name=\"hello\") \n",
    "fw2 = Firework(task2, name=\"goodbye\", parents=[fw1])\n",
    "wf = Workflow([fw1, fw2], name=\"test workflow\")\n",
    "launchpad.reset('', require_password=False)\n",
    "launchpad.add_wf(wf)"
   ]
  },
  {
   "cell_type": "markdown",
   "metadata": {
    "collapsed": false
   },
   "source": [
    "Now let's track what happens to states of our fws as they are run:\n",
    "```bash\n",
    "lpad get_wflows -d more\n",
    "```\n",
    "You can ask lpad about fws directly:\n",
    "```bash\n",
    "lpad get_fws -d more\n",
    "```\n",
    "Note our first firework (hello) is <b>READY</b>, and the second one is <b>WAITING</b>\n",
    "Let's launch one:\n",
    "```bash\n",
    "rlaunch -s singleshot\n",
    "```\n",
    "We only saw \"hello\". Let's check our workflow and states of our fws again:\n",
    "```bash\n",
    "lpad get_wflows -d more\n",
    "```\n",
    "Now our workflow is RUNNING, because:\n",
    "First fw is COMPLETED\n",
    "Second fw is READY\n",
    "\n",
    "Let's launch the second fw too:\n",
    "```bash\n",
    "rlaunch -s singleshot\n",
    "```\n",
    "Now our workflow is COMPLETED\n",
    "First fw is COMPLETED\n",
    "Second fw is COMPLETED\n",
    "\n",
    "\n"
   ]
  },
  {
   "cell_type": "markdown",
   "metadata": {},
   "source": [
    "# Exercise 1 (goal: understand dependencies)\n",
    "- Our company has 4 employees: \n",
    "Ingrid (CEO), Jack (Manager), Jill (Manager), Kip (intern). \n",
    "Your goal is the design a workflow that prints out the organization chart according to the heirarchy."
   ]
  },
  {
   "cell_type": "code",
   "execution_count": null,
   "metadata": {
    "collapsed": false
   },
   "outputs": [],
   "source": [
    "# define four individual FireWorks used in the Workflow\n",
    "task1 = ScriptTask.from_str('echo \"Ingrid is the CEO.\"')\n",
    "task2 = ScriptTask.from_str('echo \"Jill is a manager.\"')\n",
    "task3 = ScriptTask.from_str('echo \"Jack is a manager.\"')\n",
    "task4 = ScriptTask.from_str('echo \"Kip is an intern.\"')\n",
    "\n",
    "fw1 = Firework(task1)\n",
    "fw2 = Firework(task2)\n",
    "fw3 = Firework(task3)\n",
    "fw4 = Firework(task4)\n",
    "\n",
    "# assemble Workflow from FireWorks and their connections by id\n",
    "workflow = Workflow([fw1, fw2, fw3, fw4], {fw1: [fw2, fw3], fw2: [fw4], fw3: [fw4]})\n",
    "\n",
    "# check the links of your workflow now.\n",
    "print workflow.links\n",
    "\n",
    "# reset your LaunchPad (optional)\n",
    "launchpad.reset('',require_password=False)\n",
    "\n",
    "# store workflow in LaunchPad\n",
    "launchpad.add_wf(workflow)\n",
    "\n",
    "# check the states of your Workflow and Fireworks.\n",
    "\n",
    "# launch the workflow in terminal in rapidfire mode.\n",
    "\n",
    "# check the states of your Workflow and Fireworks."
   ]
  },
  {
   "cell_type": "markdown",
   "metadata": {},
   "source": [
    "# Web GUI\n",
    "\n",
    "To run the webgui, go to your terminal and type:\n",
    "```bash\n",
    "lpad webgui \n",
    "```\n",
    "What do the states mean? (See the [reference material](https://pythonhosted.org/FireWorks/reference.html) for details.)\n",
    "\n",
    "<b>ARCHIVED:</b> deleted<br>\n",
    "<b>DEFUSED:</b> canceled/paused. Child FireWorks won’t run.<br>\n",
    "<b>WAITING:</b> waiting for a parent Firework to complete.<br>\n",
    "<b>READY:</b> Firework is ready to run, but hasn’t started running yet. The Rocket Launcher must pull it.<br>\n",
    "<b>RESERVED:</b> (Queue Launcher in reservation mode only). The Firework is waiting in a queue to run.<br>\n",
    "<b>FIZZLED:</b> Firework has failed; it was executed but threw an error during the process.<br>\n",
    "<b>RUNNING:</b> Firework is currently running.<br>\n",
    "<b>COMPLETED:</b> Firework has successfully finished running.<br>"
   ]
  },
  {
   "cell_type": "markdown",
   "metadata": {
    "collapsed": true
   },
   "source": [
    "# Job management\n",
    "\n",
    "* Cancel, restart, delete wflows\n",
    "* Rerun a firework or workflow\n",
    "* Debugging"
   ]
  },
  {
   "cell_type": "code",
   "execution_count": null,
   "metadata": {
    "collapsed": false
   },
   "outputs": [],
   "source": [
    "# Let's add a workflow\n",
    "# A firework that will run the first task\n",
    "fw1 = Firework(task1, name=\"hello\") \n",
    "fw2 = Firework(task1, name=\"goodbye\") \n",
    "wf = Workflow([fw1, fw2], {fw1:fw2}, name=\"test workflow\")\n",
    "launchpad.reset('', require_password=False)\n",
    "launchpad.add_wf(wf)"
   ]
  },
  {
   "cell_type": "markdown",
   "metadata": {},
   "source": [
    "## Cancel, restart, delete workflows or fireworks\n",
    "\n",
    "It is more convenient to do the rest of the job management in command line.\n",
    "\n",
    "Let's see the workflows we have:\n",
    "\n",
    "```bash\n",
    "lpad get_wflows -d more\n",
    "```\n",
    "\n",
    "Let's pause the workflow:\n",
    "\n",
    "```bash\n",
    "lpad defuse_wflows -i 1\n",
    "```\n",
    "\n",
    "Check the workflows again:\n",
    "\n",
    "```bash\n",
    "lpad get_wflows -d more\n",
    "```\n",
    "\n",
    "Also refresh your webgui.\n",
    "\n",
    "You can resume the DEFUSED workflows: \n",
    "\n",
    "```bash\n",
    "lpad reignite_wflows -s DEFUSED\n",
    "```\n",
    "\n",
    "And check the status of the the workflow agian.\n",
    "\n",
    "We can delete the workflow:\n",
    "```bash\n",
    "lpad delete_wflows -i 1\n",
    "```"
   ]
  },
  {
   "cell_type": "markdown",
   "metadata": {},
   "source": [
    "## Dealing with crashes\n",
    "\n",
    "Go to your terminal and:\n",
    "```bash\n",
    "lpad add_scripts 'echo \"starting\"; sleep 10; echo \"ending\"' \n",
    "```\n",
    "* This is just a short-hand of adding a workflow of ScriptTask's.\n",
    "* Here we have firework that prints \"starting\", sleeps for 10 seconds and prints \"ending\".<br>\n",
    "\n",
    "Now let's launch this job:\n",
    "```bash\n",
    "rlaunch -s singleshot\n",
    "```\n",
    "Let this run and finish. \n",
    "\n",
    "Now add the scripts once again with lpad_add but after launching the job, this time press <b>Ctrl+C</b> to abort the job before it ends. \n",
    "\n",
    "Ooops! Our DFT code crashed!\n",
    "<br>\n",
    "Now if you refresh your Web GUI or check wflows with lpad, you will see your fw and wf are FIZZLED!"
   ]
  },
  {
   "cell_type": "markdown",
   "metadata": {},
   "source": [
    "To check the status of your firework:\n",
    "```bash\n",
    "lpad get_fws -i <FW_ID> -d all\n",
    "```"
   ]
  },
  {
   "cell_type": "markdown",
   "metadata": {},
   "source": [
    "To fireworks based on state of the firework:\n",
    "```bash\n",
    "lpad get_fws -s FIZZLED\n",
    "```"
   ]
  },
  {
   "cell_type": "markdown",
   "metadata": {},
   "source": [
    "We can print a report of our jobs:\n",
    "```bash\n",
    "lpad report\n",
    "```"
   ]
  },
  {
   "cell_type": "markdown",
   "metadata": {
    "collapsed": true
   },
   "source": [
    "We can rerun a FIZZLED firework as:\n",
    "```bash\n",
    "lpad rerun_fws -i <FW_ID>\n",
    "```\n",
    "Or we can tell lpad to rerun all FIZZLED fireworks: \n",
    "```bash\n",
    "lpad rerun_fws -s FIZZLED\n",
    "```\n",
    "Check the state of your fws, now it should say READY again!"
   ]
  },
  {
   "cell_type": "markdown",
   "metadata": {},
   "source": [
    "### More advanced reruns:"
   ]
  },
  {
   "cell_type": "code",
   "execution_count": null,
   "metadata": {
    "collapsed": false
   },
   "outputs": [],
   "source": [
    "# Can you put these tasks in a Firework and create a Workflow?\n",
    "task1 = ScriptTask.from_str('echo \"Start\"')\n",
    "task2 = ScriptTask.from_str('sleep 5')\n",
    "task3 = ScriptTask.from_str('echo \"Wait more for cool things to happen.\"')\n",
    "task4 = ScriptTask.from_str('sleep 5')\n",
    "task5 = ScriptTask.from_str('echo \"The End.\"')\n",
    "\n",
    "fw = Firework([task1, task2, task3, task4, task5], name=\"the looong wait\")\n",
    "wf = Workflow([fw], name=\"test workflow\")\n",
    "launchpad.reset('', require_password=False)\n",
    "launchpad.add_wf(wf)"
   ]
  },
  {
   "cell_type": "markdown",
   "metadata": {},
   "source": [
    "* Go to your terminal, and inspect the workflow and firework we added.\n",
    "* Launch the job:\n",
    "```bash\n",
    "rlaunch -s singleshot\n",
    "```\n",
    "* AFTER seeing \"Wait more for cool things to happen.\" hit Ctrl+C.\n",
    "* Ooops we broke things right in the middle of a firework.\n",
    "```bash\n",
    "lpad get_fws\n",
    "```\n",
    "* We had some progress already, and when we restart, we don't want to repeat all the tasks in the firework from the beginning!\n",
    "* We can use the --task-level option of rerun_fws\n",
    "```bash\n",
    "lpad rerun_fws -i 1 --task-level\n",
    "lpad get_fws\n",
    "rlaunch -s singleshot\n",
    "```\n",
    "The firework picked up from the failed task and only printed The End!"
   ]
  },
  {
   "cell_type": "markdown",
   "metadata": {},
   "source": [
    "# Let's take a closer look into a Firework\n",
    "* Goal is to learn about important components such as spec, state etc."
   ]
  },
  {
   "cell_type": "code",
   "execution_count": null,
   "metadata": {
    "collapsed": false
   },
   "outputs": [],
   "source": [
    "# Let's add a workflow\n",
    "task1 = ScriptTask.from_str('echo \"hello\"')\n",
    "task2 = ScriptTask.from_str('echo \"goodbye\"')\n",
    "fw1 = Firework(task1, name=\"hello\") \n",
    "fw2 = Firework(task1, name=\"goodbye\") \n",
    "wf = Workflow([fw1, fw2], {fw1:fw2}, name=\"test workflow\")\n",
    "launchpad.reset('', require_password=False)\n",
    "launchpad.add_wf(wf)\n",
    "launchpad.get_fw_by_id(1).as_dict()"
   ]
  },
  {
   "cell_type": "markdown",
   "metadata": {},
   "source": [
    "* <b>spec</b> contains all the information about the job:\n",
    " * <b>\\_tasks</b> is a list of FireTasks. E.g. ScriptTask is just one kind of task. There can be many different tasks in a firework.\n",
    "* <b>state</b>\n",
    "* <b>name</b>"
   ]
  },
  {
   "cell_type": "markdown",
   "metadata": {},
   "source": [
    "# Designing FireTasks\n",
    "* FireTasks are where your code is actually run!\n",
    "* ScriptTask is only one type of FireTask, among others such as TemplateWriterTask built into FireWorks.\n",
    "* FWAction: encapsulates the output of a FireTask. Can modify the workflow!\n",
    " * stored_data\n",
    " * mod_spec\n",
    " * additions, detours"
   ]
  },
  {
   "cell_type": "markdown",
   "metadata": {},
   "source": [
    "All FireTasks must inherent from a certain base class.\n",
    "```python\n",
    "class MyTask(FireTaskBase):\n",
    "    \n",
    "    _fw_name = \"My Amazing Task\"\n",
    "    \n",
    "    def run_task(self, fw_spec):\n",
    "        \n",
    "        # INSERT FAVORITE DFT CODE HERE!\n",
    "        \n",
    "        return FWAction()\n",
    "```\n",
    "\n",
    "* For example, see what actually ScriptTask looks like [here](https://github.com/materialsproject/fireworks/blob/master/fireworks/user_objects/firetasks/script_task.py).\n",
    "\n",
    "\n"
   ]
  },
  {
   "cell_type": "markdown",
   "metadata": {
    "collapsed": false
   },
   "source": [
    "# Example 2: custom FireTask to add numbers\n",
    "\n",
    "```python\n",
    "class AdditionTask(FireTaskBase):\n",
    "    \n",
    "    _fw_name = \"Addition Task\"\n",
    "    \n",
    "    def run_task(self, fw_spec):\n",
    "        input_array = fw_spec['input_array']\n",
    "        m_sum = sum(input_array)\n",
    "\n",
    "        print(\"The sum of {} is: {}\".format(input_array, m_sum))\n",
    "\n",
    "        return FWAction(stored_data={'sum': m_sum}, mod_spec=[{'_push': {'input_array': m_sum}}])\n",
    "```"
   ]
  },
  {
   "cell_type": "code",
   "execution_count": null,
   "metadata": {
    "collapsed": false
   },
   "outputs": [],
   "source": [
    "# create the Firework consisting of a custom \"Addition\" task\n",
    "firework = Firework([AdditionTask()] ,spec={\"input_array\": [1, 2, 3]})\n",
    "launchpad.reset('', require_password=False)\n",
    "launchpad.add_wf(firework)"
   ]
  },
  {
   "cell_type": "markdown",
   "metadata": {
    "collapsed": false
   },
   "source": [
    "run the workflow in terminal"
   ]
  },
  {
   "cell_type": "code",
   "execution_count": null,
   "metadata": {
    "collapsed": false
   },
   "outputs": [],
   "source": [
    "# What happens if you add more tasks?\n",
    "firework = Firework([AdditionTask(), AdditionTask(), AdditionTask()] ,spec={\"input_array\": [1, 2, 3]})\n",
    "launchpad.reset('', require_password=False)\n",
    "launchpad.add_wf(firework)"
   ]
  },
  {
   "cell_type": "markdown",
   "metadata": {},
   "source": [
    "# Dynamic workflows (Optional)"
   ]
  },
  {
   "cell_type": "code",
   "execution_count": null,
   "metadata": {
    "collapsed": true
   },
   "outputs": [],
   "source": [
    "class FibonacciAdderTask(FireTaskBase):\n",
    "\n",
    "    _fw_name = \"Fibonacci Adder Task\"\n",
    "\n",
    "    def run_task(self, fw_spec):\n",
    "        smaller = fw_spec['smaller']\n",
    "        larger = fw_spec['larger']\n",
    "        stop_point = fw_spec['stop_point']\n",
    "\n",
    "        m_sum = smaller + larger\n",
    "        if m_sum < stop_point:\n",
    "            print('The next Fibonacci number is: {}'.format(m_sum))\n",
    "            # create a new Fibonacci Adder to add to the workflow\n",
    "            new_fw = Firework(FibonacciAdderTask(), {'smaller': larger, 'larger': m_sum, 'stop_point': stop_point})\n",
    "            return FWAction(stored_data={'next_fibnum': m_sum}, additions=new_fw)\n",
    "\n",
    "        else:\n",
    "            print('We have now exceeded our limit; (the next Fibonacci number would have been: {})'.format(m_sum))\n",
    "            return FWAction()"
   ]
  },
  {
   "cell_type": "code",
   "execution_count": null,
   "metadata": {
    "collapsed": false
   },
   "outputs": [],
   "source": [
    "# set up the LaunchPad and reset it\n",
    "launchpad = LaunchPad()\n",
    "launchpad.reset('', require_password=False)\n",
    "\n",
    "# create the Firework consisting of a custom \"Fibonacci\" task\n",
    "firework = Firework(FibonacciAdderTask(), spec={\"smaller\": 0, \"larger\": 1, \"stop_point\": 10})\n",
    "\n",
    "# store workflow and launch it locally\n",
    "launchpad.add_wf(firework)\n"
   ]
  },
  {
   "cell_type": "markdown",
   "metadata": {},
   "source": [
    "# Passing job information between fireworks (Optional)"
   ]
  },
  {
   "cell_type": "code",
   "execution_count": null,
   "metadata": {
    "collapsed": false
   },
   "outputs": [],
   "source": [
    "from fw_tutorials.dynamic_wf.printjob_task import PrintJobTask\n",
    "\n",
    "# create the Workflow that passes job info\n",
    "fw1 = Firework([ScriptTask.from_str('echo \"This is the first FireWork\"')], spec={\"_pass_job_info\": True}, fw_id=1)\n",
    "fw2 = Firework([PrintJobTask()], parents=[fw1], fw_id=2)\n",
    "wf = Workflow([fw1, fw2])\n",
    "\n",
    "# store workflow and launch it locally\n",
    "launchpad.reset('', require_password=False)\n",
    "launchpad.add_wf(wf)"
   ]
  },
  {
   "cell_type": "markdown",
   "metadata": {},
   "source": [
    "While one could construct an entire workflow by chaining together multiple FireTasks within a single Firework, this is often not ideal. For example, we might want to switch between different FireWorkers for different parts of the workflow depending on the computing requirements for each step. Or, we might have a restriction on walltime that necessitates breaking up the workflow into more atomic steps. Finally, we might want to employ complex branching logic or error-correction that would be cumbersome to employ within a single Firework. "
   ]
  }
 ],
 "metadata": {
  "kernelspec": {
   "display_name": "Python 2",
   "language": "python",
   "name": "python2"
  },
  "language_info": {
   "codemirror_mode": {
    "name": "ipython",
    "version": 2
   },
   "file_extension": ".py",
   "mimetype": "text/x-python",
   "name": "python",
   "nbconvert_exporter": "python",
   "pygments_lexer": "ipython2",
   "version": "2.7.10"
  }
 },
 "nbformat": 4,
 "nbformat_minor": 0
}
